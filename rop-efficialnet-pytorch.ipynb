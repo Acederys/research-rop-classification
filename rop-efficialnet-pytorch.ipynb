{
 "cells": [
  {
   "cell_type": "code",
   "execution_count": 1,
   "id": "7fee4442",
   "metadata": {
    "_cell_guid": "b1076dfc-b9ad-4769-8c92-a6c4dae69d19",
    "_uuid": "8f2839f25d086af736a60e9eeb907d3b93b6e0e5",
    "execution": {
     "iopub.execute_input": "2024-09-08T19:55:55.208077Z",
     "iopub.status.busy": "2024-09-08T19:55:55.207566Z",
     "iopub.status.idle": "2024-09-08T19:56:03.149149Z",
     "shell.execute_reply": "2024-09-08T19:56:03.148317Z"
    },
    "papermill": {
     "duration": 7.949461,
     "end_time": "2024-09-08T19:56:03.151320",
     "exception": false,
     "start_time": "2024-09-08T19:55:55.201859",
     "status": "completed"
    },
    "tags": []
   },
   "outputs": [],
   "source": [
    "import os\n",
    "import time\n",
    "import torch\n",
    "import zipfile\n",
    "import numpy as np\n",
    "import pandas as pd\n",
    "import pickle\n",
    "import torch.nn as nn\n",
    "import torch.optim as optim\n",
    "import matplotlib.pyplot as plt\n",
    "import torchvision\n",
    "import torchvision.models as models\n",
    "\n",
    "from torch.cuda import amp\n",
    "from PIL import Image, ImageFile\n",
    "from torchvision import transforms\n",
    "from torchvision.io import read_image\n",
    "from tqdm.notebook import tqdm, trange\n",
    "import torch.utils.data as data\n",
    "from torch.utils.data import Dataset, DataLoader\n",
    "from sklearn.metrics import precision_score, recall_score, accuracy_score\n",
    "\n",
    "ImageFile.LOAD_TRUNCATED_IMAGES = True\n",
    "\n",
    "import warnings\n",
    "warnings.filterwarnings('ignore')"
   ]
  },
  {
   "cell_type": "code",
   "execution_count": 2,
   "id": "1c291792",
   "metadata": {
    "execution": {
     "iopub.execute_input": "2024-09-08T19:56:03.159644Z",
     "iopub.status.busy": "2024-09-08T19:56:03.159247Z",
     "iopub.status.idle": "2024-09-08T19:56:03.178302Z",
     "shell.execute_reply": "2024-09-08T19:56:03.177565Z"
    },
    "papermill": {
     "duration": 0.025061,
     "end_time": "2024-09-08T19:56:03.180109",
     "exception": false,
     "start_time": "2024-09-08T19:56:03.155048",
     "status": "completed"
    },
    "tags": []
   },
   "outputs": [],
   "source": [
    "MEAN = torch.tensor((0.485, 0.456, 0.406))\n",
    "STD  = torch.tensor((0.229, 0.224, 0.225))\n",
    "BATCH_SIZE = 64\n",
    "NUM_CLASSES = 2 # Healthy & Not Healthy\n",
    "TRAIN_DATA_PATH = \"/kaggle/input/binary-coco-first-article/train\"\n",
    "TEST_DATA_PATH = \"/kaggle/input/binary-coco-first-article/test\""
   ]
  },
  {
   "cell_type": "code",
   "execution_count": 3,
   "id": "04a4f0b9",
   "metadata": {
    "execution": {
     "iopub.execute_input": "2024-09-08T19:56:03.187709Z",
     "iopub.status.busy": "2024-09-08T19:56:03.187441Z",
     "iopub.status.idle": "2024-09-08T19:56:03.191859Z",
     "shell.execute_reply": "2024-09-08T19:56:03.191048Z"
    },
    "papermill": {
     "duration": 0.0103,
     "end_time": "2024-09-08T19:56:03.193671",
     "exception": false,
     "start_time": "2024-09-08T19:56:03.183371",
     "status": "completed"
    },
    "tags": []
   },
   "outputs": [],
   "source": [
    "TRANSFORM_IMG = transforms.Compose([\n",
    "    transforms.Resize((224, 224)),\n",
    "    transforms.ToTensor(),\n",
    "    transforms.Normalize(mean=MEAN, std=STD)\n",
    "])"
   ]
  },
  {
   "cell_type": "code",
   "execution_count": 4,
   "id": "3d26b107",
   "metadata": {
    "execution": {
     "iopub.execute_input": "2024-09-08T19:56:03.201906Z",
     "iopub.status.busy": "2024-09-08T19:56:03.201614Z",
     "iopub.status.idle": "2024-09-08T19:56:03.439445Z",
     "shell.execute_reply": "2024-09-08T19:56:03.438711Z"
    },
    "papermill": {
     "duration": 0.244034,
     "end_time": "2024-09-08T19:56:03.441424",
     "exception": false,
     "start_time": "2024-09-08T19:56:03.197390",
     "status": "completed"
    },
    "tags": []
   },
   "outputs": [],
   "source": [
    "train_data = torchvision.datasets.ImageFolder(root=TRAIN_DATA_PATH, transform=TRANSFORM_IMG)\n",
    "test_data = torchvision.datasets.ImageFolder(root=TEST_DATA_PATH, transform=TRANSFORM_IMG)\n",
    "\n",
    "\n",
    "# Train\n",
    "dataloader_train = torch.utils.data.DataLoader(dataset=train_data, batch_size=BATCH_SIZE, shuffle=True)\n",
    "\n",
    "# Test\n",
    "dataloader_test = torch.utils.data.DataLoader(dataset=test_data, batch_size=BATCH_SIZE, shuffle=True)\n",
    "\n",
    "# Validation\n",
    "dataloader_valid = torch.utils.data.DataLoader(dataset=test_data, batch_size=BATCH_SIZE, shuffle=True)"
   ]
  },
  {
   "cell_type": "code",
   "execution_count": 5,
   "id": "60a967d2",
   "metadata": {
    "execution": {
     "iopub.execute_input": "2024-09-08T19:56:03.449531Z",
     "iopub.status.busy": "2024-09-08T19:56:03.449250Z",
     "iopub.status.idle": "2024-09-08T19:56:03.454802Z",
     "shell.execute_reply": "2024-09-08T19:56:03.453925Z"
    },
    "papermill": {
     "duration": 0.011772,
     "end_time": "2024-09-08T19:56:03.456665",
     "exception": false,
     "start_time": "2024-09-08T19:56:03.444893",
     "status": "completed"
    },
    "tags": []
   },
   "outputs": [],
   "source": [
    "class EfficientNetB1(nn.Module):\n",
    "    def __init__(self, num_classes):\n",
    "        super(EfficientNetB1, self).__init__()\n",
    "        self.effnet = models.efficientnet_b1(pretrained=True)\n",
    "        num_ftrs = self.effnet.classifier[1].in_features\n",
    "        self.effnet.classifier[1].fc = nn.Linear(num_ftrs, NUM_CLASSES)\n",
    "\n",
    "    def forward(self, x):\n",
    "        return self.effnet(x)"
   ]
  },
  {
   "cell_type": "code",
   "execution_count": 6,
   "id": "a63a08cf",
   "metadata": {
    "execution": {
     "iopub.execute_input": "2024-09-08T19:56:03.464774Z",
     "iopub.status.busy": "2024-09-08T19:56:03.464497Z",
     "iopub.status.idle": "2024-09-08T19:56:03.561728Z",
     "shell.execute_reply": "2024-09-08T19:56:03.560789Z"
    },
    "papermill": {
     "duration": 0.103422,
     "end_time": "2024-09-08T19:56:03.563671",
     "exception": false,
     "start_time": "2024-09-08T19:56:03.460249",
     "status": "completed"
    },
    "tags": []
   },
   "outputs": [
    {
     "name": "stdout",
     "output_type": "stream",
     "text": [
      "Using cuda for inference\n"
     ]
    }
   ],
   "source": [
    "device = torch.device(\"cuda\" if torch.cuda.is_available() else \"cpu\")\n",
    "print(f'Using {device} for inference')"
   ]
  },
  {
   "cell_type": "code",
   "execution_count": 7,
   "id": "3e0ea55f",
   "metadata": {
    "execution": {
     "iopub.execute_input": "2024-09-08T19:56:03.573297Z",
     "iopub.status.busy": "2024-09-08T19:56:03.572959Z",
     "iopub.status.idle": "2024-09-08T19:56:04.496782Z",
     "shell.execute_reply": "2024-09-08T19:56:04.495984Z"
    },
    "papermill": {
     "duration": 0.931423,
     "end_time": "2024-09-08T19:56:04.499216",
     "exception": false,
     "start_time": "2024-09-08T19:56:03.567793",
     "status": "completed"
    },
    "tags": []
   },
   "outputs": [
    {
     "name": "stderr",
     "output_type": "stream",
     "text": [
      "Downloading: \"https://download.pytorch.org/models/efficientnet_b1_rwightman-bac287d4.pth\" to /root/.cache/torch/hub/checkpoints/efficientnet_b1_rwightman-bac287d4.pth\n",
      "100%|██████████| 30.1M/30.1M [00:00<00:00, 103MB/s]\n"
     ]
    }
   ],
   "source": [
    "model = EfficientNetB1(NUM_CLASSES).to(device)\n",
    "criterion = nn.CrossEntropyLoss()"
   ]
  },
  {
   "cell_type": "code",
   "execution_count": 8,
   "id": "d22887e0",
   "metadata": {
    "execution": {
     "iopub.execute_input": "2024-09-08T19:56:04.509647Z",
     "iopub.status.busy": "2024-09-08T19:56:04.509308Z",
     "iopub.status.idle": "2024-09-08T19:56:04.520946Z",
     "shell.execute_reply": "2024-09-08T19:56:04.520212Z"
    },
    "papermill": {
     "duration": 0.01919,
     "end_time": "2024-09-08T19:56:04.522878",
     "exception": false,
     "start_time": "2024-09-08T19:56:04.503688",
     "status": "completed"
    },
    "tags": []
   },
   "outputs": [],
   "source": [
    "def train_model(learningRate, num_epochs):\n",
    "  # Define Adam optimizer with the current learning rate\n",
    "  optimizer = optim.SGD(model.parameters(), lr=learningRate)\n",
    "\n",
    "  # Training loop\n",
    "  for epoch in range(num_epochs):\n",
    "      model.train()\n",
    "      running_loss = 0.0\n",
    "      all_labels = []\n",
    "      all_predictions = []\n",
    "      for inputs, labels in dataloader_train:\n",
    "          inputs, labels = inputs.to(device), labels.to(device)\n",
    "\n",
    "          optimizer.zero_grad()\n",
    "\n",
    "          outputs = model(inputs)\n",
    "          loss = criterion(outputs, labels)\n",
    "          loss.backward()\n",
    "          optimizer.step()\n",
    "\n",
    "          running_loss += loss.item() * inputs.size(0)\n",
    "\n",
    "          _, predicted = torch.max(outputs, 1)\n",
    "          all_labels.extend(labels.cpu().numpy())\n",
    "          all_predictions.extend(predicted.cpu().numpy())\n",
    "\n",
    "      # Calculate average training loss per epoch\n",
    "      epoch_loss = running_loss / 1800 # len(train_data)\n",
    "      precision = precision_score(all_labels, all_predictions, average='weighted')\n",
    "      recall = recall_score(all_labels, all_predictions, average='weighted')\n",
    "      accuracy = accuracy_score(all_labels, all_predictions)\n",
    "      # print(f\"LR : {learningRate} - Epoch {epoch+1}/{num_epochs}, Training Loss: {epoch_loss:.4f}, Recall: {recall:.4f}, Precision: {precision:.4f}, Accuracy: {accuracy:.4f}\")\n",
    "  torch.save(model.state_dict(), f'model_{learningRate}.pth')\n",
    "  # Evaluation loop\n",
    "  model.eval()\n",
    "  all_labels = []\n",
    "  all_predictions = []\n",
    "  with torch.no_grad():\n",
    "      for inputs, labels in dataloader_valid:\n",
    "          inputs, labels = inputs.to(device), labels.to(device)\n",
    "\n",
    "          outputs = model(inputs)\n",
    "\n",
    "          _, predicted = torch.max(outputs, 1)\n",
    "          all_labels.extend(labels.cpu().numpy())\n",
    "          all_predictions.extend(predicted.cpu().numpy())\n",
    "\n",
    "  precision = precision_score(all_labels, all_predictions, average='weighted')\n",
    "  recall = recall_score(all_labels, all_predictions, average='weighted')\n",
    "  accuracy = accuracy_score(all_labels, all_predictions)\n",
    "  print(f\"Learning Rate: {learningRate}, Recall: {recall:.4f}, Precision: {precision:.4f}, Accuracy: {accuracy:.4f}\")\n"
   ]
  },
  {
   "cell_type": "code",
   "execution_count": 9,
   "id": "9a617d1b",
   "metadata": {
    "execution": {
     "iopub.execute_input": "2024-09-08T19:56:04.532808Z",
     "iopub.status.busy": "2024-09-08T19:56:04.532530Z",
     "iopub.status.idle": "2024-09-08T19:56:04.536422Z",
     "shell.execute_reply": "2024-09-08T19:56:04.535661Z"
    },
    "papermill": {
     "duration": 0.011049,
     "end_time": "2024-09-08T19:56:04.538303",
     "exception": false,
     "start_time": "2024-09-08T19:56:04.527254",
     "status": "completed"
    },
    "tags": []
   },
   "outputs": [],
   "source": [
    "# Define learning rates\n",
    "learning_rates = [0.001, 0.005, 0.010, 0.020] # 0.030, 0.050, 0.08, 0.1, 0.15]"
   ]
  },
  {
   "cell_type": "code",
   "execution_count": 10,
   "id": "900e0f8e",
   "metadata": {
    "execution": {
     "iopub.execute_input": "2024-09-08T19:56:04.548523Z",
     "iopub.status.busy": "2024-09-08T19:56:04.548239Z",
     "iopub.status.idle": "2024-09-08T19:56:04.554273Z",
     "shell.execute_reply": "2024-09-08T19:56:04.553395Z"
    },
    "papermill": {
     "duration": 0.013191,
     "end_time": "2024-09-08T19:56:04.556199",
     "exception": false,
     "start_time": "2024-09-08T19:56:04.543008",
     "status": "completed"
    },
    "tags": []
   },
   "outputs": [],
   "source": [
    "epochs = 20\n",
    "optimizer = optim.SGD(model.parameters(), lr=0.005)"
   ]
  },
  {
   "cell_type": "code",
   "execution_count": 11,
   "id": "38273b6f",
   "metadata": {
    "execution": {
     "iopub.execute_input": "2024-09-08T19:56:04.566308Z",
     "iopub.status.busy": "2024-09-08T19:56:04.566029Z",
     "iopub.status.idle": "2024-09-08T20:28:52.803518Z",
     "shell.execute_reply": "2024-09-08T20:28:52.802540Z"
    },
    "papermill": {
     "duration": 1968.250997,
     "end_time": "2024-09-08T20:28:52.811703",
     "exception": false,
     "start_time": "2024-09-08T19:56:04.560706",
     "status": "completed"
    },
    "tags": []
   },
   "outputs": [
    {
     "name": "stdout",
     "output_type": "stream",
     "text": [
      "Learning Rate: 0.001, Recall: 0.7875, Precision: 0.8750, Accuracy: 0.7875\n",
      "Learning Rate: 0.005, Recall: 0.9500, Precision: 0.9505, Accuracy: 0.9500\n",
      "Learning Rate: 0.01, Recall: 0.9750, Precision: 0.9760, Accuracy: 0.9750\n",
      "Learning Rate: 0.02, Recall: 0.9875, Precision: 0.9877, Accuracy: 0.9875\n"
     ]
    }
   ],
   "source": [
    "for lr in learning_rates:\n",
    "  train_model(lr, epochs)"
   ]
  },
  {
   "cell_type": "code",
   "execution_count": 12,
   "id": "33863d12",
   "metadata": {
    "execution": {
     "iopub.execute_input": "2024-09-08T20:28:52.826382Z",
     "iopub.status.busy": "2024-09-08T20:28:52.825349Z",
     "iopub.status.idle": "2024-09-08T20:28:53.098890Z",
     "shell.execute_reply": "2024-09-08T20:28:53.098057Z"
    },
    "papermill": {
     "duration": 0.283272,
     "end_time": "2024-09-08T20:28:53.101608",
     "exception": false,
     "start_time": "2024-09-08T20:28:52.818336",
     "status": "completed"
    },
    "tags": []
   },
   "outputs": [],
   "source": [
    "# Сохранение модели\n",
    "\n",
    "torch.save(model, '/kaggle/working/effnet.pth')\n",
    "torch.save(model.state_dict(), '/kaggle/working/effnet_weights.pth')"
   ]
  }
 ],
 "metadata": {
  "kaggle": {
   "accelerator": "nvidiaTeslaT4",
   "dataSources": [
    {
     "datasetId": 5425207,
     "sourceId": 9346869,
     "sourceType": "datasetVersion"
    }
   ],
   "dockerImageVersionId": 30761,
   "isGpuEnabled": true,
   "isInternetEnabled": true,
   "language": "python",
   "sourceType": "notebook"
  },
  "kernelspec": {
   "display_name": "Python 3",
   "language": "python",
   "name": "python3"
  },
  "language_info": {
   "codemirror_mode": {
    "name": "ipython",
    "version": 3
   },
   "file_extension": ".py",
   "mimetype": "text/x-python",
   "name": "python",
   "nbconvert_exporter": "python",
   "pygments_lexer": "ipython3",
   "version": "3.10.14"
  },
  "papermill": {
   "default_parameters": {},
   "duration": 1983.576464,
   "end_time": "2024-09-08T20:28:55.721011",
   "environment_variables": {},
   "exception": null,
   "input_path": "__notebook__.ipynb",
   "output_path": "__notebook__.ipynb",
   "parameters": {},
   "start_time": "2024-09-08T19:55:52.144547",
   "version": "2.6.0"
  }
 },
 "nbformat": 4,
 "nbformat_minor": 5
}
