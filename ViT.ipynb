{
 "cells": [
  {
   "cell_type": "markdown",
   "metadata": {
    "id": "_aSolHecH8wI"
   },
   "source": [
    "# S3 и распределение по папкам"
   ]
  },
  {
   "cell_type": "code",
   "execution_count": null,
   "metadata": {
    "colab": {
     "base_uri": "https://localhost:8080/"
    },
    "collapsed": true,
    "id": "q_lN72cFcQiR",
    "outputId": "7e64bf8c-4974-43b8-8138-a635fd6a7974"
   },
   "outputs": [
    {
     "name": "stdout",
     "output_type": "stream",
     "text": [
      "Requirement already satisfied: boto3 in /usr/local/lib/python3.10/dist-packages (1.35.54)\n",
      "Requirement already satisfied: botocore<1.36.0,>=1.35.54 in /usr/local/lib/python3.10/dist-packages (from boto3) (1.35.54)\n",
      "Requirement already satisfied: jmespath<2.0.0,>=0.7.1 in /usr/local/lib/python3.10/dist-packages (from boto3) (1.0.1)\n",
      "Requirement already satisfied: s3transfer<0.11.0,>=0.10.0 in /usr/local/lib/python3.10/dist-packages (from boto3) (0.10.3)\n",
      "Requirement already satisfied: python-dateutil<3.0.0,>=2.1 in /usr/local/lib/python3.10/dist-packages (from botocore<1.36.0,>=1.35.54->boto3) (2.8.2)\n",
      "Requirement already satisfied: urllib3!=2.2.0,<3,>=1.25.4 in /usr/local/lib/python3.10/dist-packages (from botocore<1.36.0,>=1.35.54->boto3) (2.2.3)\n",
      "Requirement already satisfied: six>=1.5 in /usr/local/lib/python3.10/dist-packages (from python-dateutil<3.0.0,>=2.1->botocore<1.36.0,>=1.35.54->boto3) (1.16.0)\n",
      "Downloaded b1gbqcgk1bfajrkrfdfr/all_images/dataset.csv to all_images/dataset.csv\n",
      "Downloaded b1gbqcgk1bfajrkrfdfr/all_images/healthy/09449cbf-c007-486c-8ebf-6495fd439804.1.jpg to all_images/09449cbf-c007-486c-8ebf-6495fd439804.1.jpg\n",
      "Downloaded b1gbqcgk1bfajrkrfdfr/all_images/healthy/09449cbf-c007-486c-8ebf-6495fd439804.10.jpg to all_images/09449cbf-c007-486c-8ebf-6495fd439804.10.jpg\n",
      "Downloaded b1gbqcgk1bfajrkrfdfr/all_images/healthy/09449cbf-c007-486c-8ebf-6495fd439804.11.jpg to all_images/09449cbf-c007-486c-8ebf-6495fd439804.11.jpg\n",
      "Downloaded b1gbqcgk1bfajrkrfdfr/all_images/healthy/09449cbf-c007-486c-8ebf-6495fd439804.12.jpg to all_images/09449cbf-c007-486c-8ebf-6495fd439804.12.jpg\n",
      "Downloaded b1gbqcgk1bfajrkrfdfr/all_images/healthy/09449cbf-c007-486c-8ebf-6495fd439804.13.jpg to all_images/09449cbf-c007-486c-8ebf-6495fd439804.13.jpg\n",
      "Downloaded b1gbqcgk1bfajrkrfdfr/all_images/healthy/09449cbf-c007-486c-8ebf-6495fd439804.14.jpg to all_images/09449cbf-c007-486c-8ebf-6495fd439804.14.jpg\n",
      "Downloaded b1gbqcgk1bfajrkrfdfr/all_images/healthy/09449cbf-c007-486c-8ebf-6495fd439804.15.jpg to all_images/09449cbf-c007-486c-8ebf-6495fd439804.15.jpg\n",
      "Downloaded b1gbqcgk1bfajrkrfdfr/all_images/healthy/09449cbf-c007-486c-8ebf-6495fd439804.16.jpg to all_images/09449cbf-c007-486c-8ebf-6495fd439804.16.jpg\n",
      "Downloaded b1gbqcgk1bfajrkrfdfr/all_images/healthy/09449cbf-c007-486c-8ebf-6495fd439804.17.jpg to all_images/09449cbf-c007-486c-8ebf-6495fd439804.17.jpg\n",
      "Downloaded b1gbqcgk1bfajrkrfdfr/all_images/healthy/09449cbf-c007-486c-8ebf-6495fd439804.18.jpg to all_images/09449cbf-c007-486c-8ebf-6495fd439804.18.jpg\n",
      "Downloaded b1gbqcgk1bfajrkrfdfr/all_images/healthy/09449cbf-c007-486c-8ebf-6495fd439804.19.jpg to all_images/09449cbf-c007-486c-8ebf-6495fd439804.19.jpg\n",
      "Downloaded b1gbqcgk1bfajrkrfdfr/all_images/healthy/09449cbf-c007-486c-8ebf-6495fd439804.2.jpg to all_images/09449cbf-c007-486c-8ebf-6495fd439804.2.jpg\n",
      "Downloaded b1gbqcgk1bfajrkrfdfr/all_images/healthy/09449cbf-c007-486c-8ebf-6495fd439804.20.jpg to all_images/09449cbf-c007-486c-8ebf-6495fd439804.20.jpg\n",
      "Downloaded b1gbqcgk1bfajrkrfdfr/all_images/healthy/09449cbf-c007-486c-8ebf-6495fd439804.21.jpg to all_images/09449cbf-c007-486c-8ebf-6495fd439804.21.jpg\n",
      "Downloaded b1gbqcgk1bfajrkrfdfr/all_images/healthy/09449cbf-c007-486c-8ebf-6495fd439804.22.jpg to all_images/09449cbf-c007-486c-8ebf-6495fd439804.22.jpg\n",
      "Downloaded b1gbqcgk1bfajrkrfdfr/all_images/healthy/09449cbf-c007-486c-8ebf-6495fd439804.23.jpg to all_images/09449cbf-c007-486c-8ebf-6495fd439804.23.jpg\n",
      "Downloaded b1gbqcgk1bfajrkrfdfr/all_images/healthy/09449cbf-c007-486c-8ebf-6495fd439804.24.jpg to all_images/09449cbf-c007-486c-8ebf-6495fd439804.24.jpg\n",
      "Downloaded b1gbqcgk1bfajrkrfdfr/all_images/healthy/09449cbf-c007-486c-8ebf-6495fd439804.3.jpg to all_images/09449cbf-c007-486c-8ebf-6495fd439804.3.jpg\n",
      "Downloaded b1gbqcgk1bfajrkrfdfr/all_images/healthy/09449cbf-c007-486c-8ebf-6495fd439804.4.jpg to all_images/09449cbf-c007-486c-8ebf-6495fd439804.4.jpg\n",
      "Downloaded b1gbqcgk1bfajrkrfdfr/all_images/healthy/09449cbf-c007-486c-8ebf-6495fd439804.5.jpg to all_images/09449cbf-c007-486c-8ebf-6495fd439804.5.jpg\n",
      "Downloaded b1gbqcgk1bfajrkrfdfr/all_images/healthy/09449cbf-c007-486c-8ebf-6495fd439804.6.jpg to all_images/09449cbf-c007-486c-8ebf-6495fd439804.6.jpg\n",
      "Downloaded b1gbqcgk1bfajrkrfdfr/all_images/healthy/09449cbf-c007-486c-8ebf-6495fd439804.7.jpg to all_images/09449cbf-c007-486c-8ebf-6495fd439804.7.jpg\n",
      "Downloaded b1gbqcgk1bfajrkrfdfr/all_images/healthy/09449cbf-c007-486c-8ebf-6495fd439804.8.jpg to all_images/09449cbf-c007-486c-8ebf-6495fd439804.8.jpg\n",
      "Downloaded b1gbqcgk1bfajrkrfdfr/all_images/healthy/0e79cb06-beb7-47cd-abf2-e00927748e3c.1.jpg to all_images/0e79cb06-beb7-47cd-abf2-e00927748e3c.1.jpg\n",
      "Downloaded b1gbqcgk1bfajrkrfdfr/all_images/healthy/0e79cb06-beb7-47cd-abf2-e00927748e3c.10.jpg to all_images/0e79cb06-beb7-47cd-abf2-e00927748e3c.10.jpg\n",
      "Downloaded b1gbqcgk1bfajrkrfdfr/all_images/healthy/0e79cb06-beb7-47cd-abf2-e00927748e3c.11.jpg to all_images/0e79cb06-beb7-47cd-abf2-e00927748e3c.11.jpg\n",
      "Downloaded b1gbqcgk1bfajrkrfdfr/all_images/healthy/0e79cb06-beb7-47cd-abf2-e00927748e3c.12.jpg to all_images/0e79cb06-beb7-47cd-abf2-e00927748e3c.12.jpg\n",
      "Downloaded b1gbqcgk1bfajrkrfdfr/all_images/healthy/0e79cb06-beb7-47cd-abf2-e00927748e3c.13.jpg to all_images/0e79cb06-beb7-47cd-abf2-e00927748e3c.13.jpg\n",
      "Downloaded b1gbqcgk1bfajrkrfdfr/all_images/healthy/0e79cb06-beb7-47cd-abf2-e00927748e3c.2.jpg to all_images/0e79cb06-beb7-47cd-abf2-e00927748e3c.2.jpg\n",
      "Downloaded b1gbqcgk1bfajrkrfdfr/all_images/healthy/0e79cb06-beb7-47cd-abf2-e00927748e3c.3.jpg to all_images/0e79cb06-beb7-47cd-abf2-e00927748e3c.3.jpg\n",
      "Downloaded b1gbqcgk1bfajrkrfdfr/all_images/healthy/0e79cb06-beb7-47cd-abf2-e00927748e3c.4.jpg to all_images/0e79cb06-beb7-47cd-abf2-e00927748e3c.4.jpg\n",
      "Downloaded b1gbqcgk1bfajrkrfdfr/all_images/healthy/0e79cb06-beb7-47cd-abf2-e00927748e3c.5.jpg to all_images/0e79cb06-beb7-47cd-abf2-e00927748e3c.5.jpg\n",
      "Downloaded b1gbqcgk1bfajrkrfdfr/all_images/healthy/0e79cb06-beb7-47cd-abf2-e00927748e3c.6.jpg to all_images/0e79cb06-beb7-47cd-abf2-e00927748e3c.6.jpg\n",
      "Downloaded b1gbqcgk1bfajrkrfdfr/all_images/healthy/0e79cb06-beb7-47cd-abf2-e00927748e3c.7.jpg to all_images/0e79cb06-beb7-47cd-abf2-e00927748e3c.7.jpg\n",
      "Downloaded b1gbqcgk1bfajrkrfdfr/all_images/healthy/0e79cb06-beb7-47cd-abf2-e00927748e3c.8.jpg to all_images/0e79cb06-beb7-47cd-abf2-e00927748e3c.8.jpg\n",
      "Downloaded b1gbqcgk1bfajrkrfdfr/all_images/healthy/0e79cb06-beb7-47cd-abf2-e00927748e3c.9.jpg to all_images/0e79cb06-beb7-47cd-abf2-e00927748e3c.9.jpg\n",
      "Downloaded b1gbqcgk1bfajrkrfdfr/all_images/healthy/28a6b5bb-08ac-4fa7-9ea6-f23fe3705e2f.1.jpg to all_images/28a6b5bb-08ac-4fa7-9ea6-f23fe3705e2f.1.jpg\n",
      "Downloaded b1gbqcgk1bfajrkrfdfr/all_images/healthy/28a6b5bb-08ac-4fa7-9ea6-f23fe3705e2f.2.jpg to all_images/28a6b5bb-08ac-4fa7-9ea6-f23fe3705e2f.2.jpg\n",
      "Downloaded b1gbqcgk1bfajrkrfdfr/all_images/healthy/28a6b5bb-08ac-4fa7-9ea6-f23fe3705e2f.3.jpg to all_images/28a6b5bb-08ac-4fa7-9ea6-f23fe3705e2f.3.jpg\n",
      "Downloaded b1gbqcgk1bfajrkrfdfr/all_images/healthy/28a6b5bb-08ac-4fa7-9ea6-f23fe3705e2f.4.jpg to all_images/28a6b5bb-08ac-4fa7-9ea6-f23fe3705e2f.4.jpg\n",
      "Downloaded b1gbqcgk1bfajrkrfdfr/all_images/healthy/28a6b5bb-08ac-4fa7-9ea6-f23fe3705e2f.5.jpg to all_images/28a6b5bb-08ac-4fa7-9ea6-f23fe3705e2f.5.jpg\n",
      "Downloaded b1gbqcgk1bfajrkrfdfr/all_images/healthy/28a6b5bb-08ac-4fa7-9ea6-f23fe3705e2f.6.jpg to all_images/28a6b5bb-08ac-4fa7-9ea6-f23fe3705e2f.6.jpg\n",
      "Downloaded b1gbqcgk1bfajrkrfdfr/all_images/healthy/28a6b5bb-08ac-4fa7-9ea6-f23fe3705e2f.7.jpg to all_images/28a6b5bb-08ac-4fa7-9ea6-f23fe3705e2f.7.jpg\n",
      "Downloaded b1gbqcgk1bfajrkrfdfr/all_images/healthy/28a6b5bb-08ac-4fa7-9ea6-f23fe3705e2f.8.jpg to all_images/28a6b5bb-08ac-4fa7-9ea6-f23fe3705e2f.8.jpg\n",
      "Downloaded b1gbqcgk1bfajrkrfdfr/all_images/healthy/28a6b5bb-08ac-4fa7-9ea6-f23fe3705e2f.9.jpg to all_images/28a6b5bb-08ac-4fa7-9ea6-f23fe3705e2f.9.jpg\n",
      "Downloaded b1gbqcgk1bfajrkrfdfr/all_images/healthy/2d0b71c1-5a86-4cdf-b80d-af606bbb80e0.1.jpg to all_images/2d0b71c1-5a86-4cdf-b80d-af606bbb80e0.1.jpg\n",
      "Downloaded b1gbqcgk1bfajrkrfdfr/all_images/healthy/2d0b71c1-5a86-4cdf-b80d-af606bbb80e0.10.jpg to all_images/2d0b71c1-5a86-4cdf-b80d-af606bbb80e0.10.jpg\n",
      "Downloaded b1gbqcgk1bfajrkrfdfr/all_images/healthy/2d0b71c1-5a86-4cdf-b80d-af606bbb80e0.11.jpg to all_images/2d0b71c1-5a86-4cdf-b80d-af606bbb80e0.11.jpg\n",
      "Downloaded b1gbqcgk1bfajrkrfdfr/all_images/healthy/2d0b71c1-5a86-4cdf-b80d-af606bbb80e0.12.jpg to all_images/2d0b71c1-5a86-4cdf-b80d-af606bbb80e0.12.jpg\n",
      "Downloaded b1gbqcgk1bfajrkrfdfr/all_images/healthy/2d0b71c1-5a86-4cdf-b80d-af606bbb80e0.13.jpg to all_images/2d0b71c1-5a86-4cdf-b80d-af606bbb80e0.13.jpg\n",
      "Downloaded b1gbqcgk1bfajrkrfdfr/all_images/healthy/2d0b71c1-5a86-4cdf-b80d-af606bbb80e0.14.jpg to all_images/2d0b71c1-5a86-4cdf-b80d-af606bbb80e0.14.jpg\n",
      "Downloaded b1gbqcgk1bfajrkrfdfr/all_images/healthy/2d0b71c1-5a86-4cdf-b80d-af606bbb80e0.15.jpg to all_images/2d0b71c1-5a86-4cdf-b80d-af606bbb80e0.15.jpg\n",
      "Downloaded b1gbqcgk1bfajrkrfdfr/all_images/healthy/2d0b71c1-5a86-4cdf-b80d-af606bbb80e0.16.jpg to all_images/2d0b71c1-5a86-4cdf-b80d-af606bbb80e0.16.jpg\n",
      "Downloaded b1gbqcgk1bfajrkrfdfr/all_images/healthy/2d0b71c1-5a86-4cdf-b80d-af606bbb80e0.17.jpg to all_images/2d0b71c1-5a86-4cdf-b80d-af606bbb80e0.17.jpg\n",
      "Downloaded b1gbqcgk1bfajrkrfdfr/all_images/healthy/2d0b71c1-5a86-4cdf-b80d-af606bbb80e0.18.jpg to all_images/2d0b71c1-5a86-4cdf-b80d-af606bbb80e0.18.jpg\n",
      "Downloaded b1gbqcgk1bfajrkrfdfr/all_images/healthy/2d0b71c1-5a86-4cdf-b80d-af606bbb80e0.19.jpg to all_images/2d0b71c1-5a86-4cdf-b80d-af606bbb80e0.19.jpg\n",
      "Downloaded b1gbqcgk1bfajrkrfdfr/all_images/healthy/2d0b71c1-5a86-4cdf-b80d-af606bbb80e0.2.jpg to all_images/2d0b71c1-5a86-4cdf-b80d-af606bbb80e0.2.jpg\n",
      "Downloaded b1gbqcgk1bfajrkrfdfr/all_images/healthy/2d0b71c1-5a86-4cdf-b80d-af606bbb80e0.3.jpg to all_images/2d0b71c1-5a86-4cdf-b80d-af606bbb80e0.3.jpg\n",
      "Downloaded b1gbqcgk1bfajrkrfdfr/all_images/healthy/2d0b71c1-5a86-4cdf-b80d-af606bbb80e0.4.jpg to all_images/2d0b71c1-5a86-4cdf-b80d-af606bbb80e0.4.jpg\n",
      "Downloaded b1gbqcgk1bfajrkrfdfr/all_images/healthy/2d0b71c1-5a86-4cdf-b80d-af606bbb80e0.5.jpg to all_images/2d0b71c1-5a86-4cdf-b80d-af606bbb80e0.5.jpg\n",
      "Downloaded b1gbqcgk1bfajrkrfdfr/all_images/healthy/2d0b71c1-5a86-4cdf-b80d-af606bbb80e0.6.jpg to all_images/2d0b71c1-5a86-4cdf-b80d-af606bbb80e0.6.jpg\n",
      "Downloaded b1gbqcgk1bfajrkrfdfr/all_images/healthy/2d0b71c1-5a86-4cdf-b80d-af606bbb80e0.7.jpg to all_images/2d0b71c1-5a86-4cdf-b80d-af606bbb80e0.7.jpg\n",
      "Downloaded b1gbqcgk1bfajrkrfdfr/all_images/healthy/2d0b71c1-5a86-4cdf-b80d-af606bbb80e0.8.jpg to all_images/2d0b71c1-5a86-4cdf-b80d-af606bbb80e0.8.jpg\n",
      "Downloaded b1gbqcgk1bfajrkrfdfr/all_images/healthy/2d0b71c1-5a86-4cdf-b80d-af606bbb80e0.9.jpg to all_images/2d0b71c1-5a86-4cdf-b80d-af606bbb80e0.9.jpg\n",
      "Downloaded b1gbqcgk1bfajrkrfdfr/all_images/healthy/32af75c2-4cf6-47db-8fa1-47c0455a0bc4.1.jpg to all_images/32af75c2-4cf6-47db-8fa1-47c0455a0bc4.1.jpg\n",
      "Downloaded b1gbqcgk1bfajrkrfdfr/all_images/healthy/32af75c2-4cf6-47db-8fa1-47c0455a0bc4.2.jpg to all_images/32af75c2-4cf6-47db-8fa1-47c0455a0bc4.2.jpg\n",
      "Downloaded b1gbqcgk1bfajrkrfdfr/all_images/healthy/32af75c2-4cf6-47db-8fa1-47c0455a0bc4.3.jpg to all_images/32af75c2-4cf6-47db-8fa1-47c0455a0bc4.3.jpg\n",
      "Downloaded b1gbqcgk1bfajrkrfdfr/all_images/healthy/32af75c2-4cf6-47db-8fa1-47c0455a0bc4.4.jpg to all_images/32af75c2-4cf6-47db-8fa1-47c0455a0bc4.4.jpg\n",
      "Downloaded b1gbqcgk1bfajrkrfdfr/all_images/healthy/32af75c2-4cf6-47db-8fa1-47c0455a0bc4.5.jpg to all_images/32af75c2-4cf6-47db-8fa1-47c0455a0bc4.5.jpg\n",
      "Downloaded b1gbqcgk1bfajrkrfdfr/all_images/healthy/32af75c2-4cf6-47db-8fa1-47c0455a0bc4.6.jpg to all_images/32af75c2-4cf6-47db-8fa1-47c0455a0bc4.6.jpg\n",
      "Downloaded b1gbqcgk1bfajrkrfdfr/all_images/healthy/32af75c2-4cf6-47db-8fa1-47c0455a0bc4.7.jpg to all_images/32af75c2-4cf6-47db-8fa1-47c0455a0bc4.7.jpg\n",
      "Downloaded b1gbqcgk1bfajrkrfdfr/all_images/healthy/32af75c2-4cf6-47db-8fa1-47c0455a0bc4.8.jpg to all_images/32af75c2-4cf6-47db-8fa1-47c0455a0bc4.8.jpg\n",
      "Downloaded b1gbqcgk1bfajrkrfdfr/all_images/healthy/3fa0a483-276b-43f0-9178-478f51e1cd85.1.jpg to all_images/3fa0a483-276b-43f0-9178-478f51e1cd85.1.jpg\n",
      "Downloaded b1gbqcgk1bfajrkrfdfr/all_images/healthy/3fa0a483-276b-43f0-9178-478f51e1cd85.10.jpg to all_images/3fa0a483-276b-43f0-9178-478f51e1cd85.10.jpg\n",
      "Downloaded b1gbqcgk1bfajrkrfdfr/all_images/healthy/3fa0a483-276b-43f0-9178-478f51e1cd85.12.jpg to all_images/3fa0a483-276b-43f0-9178-478f51e1cd85.12.jpg\n",
      "Downloaded b1gbqcgk1bfajrkrfdfr/all_images/healthy/3fa0a483-276b-43f0-9178-478f51e1cd85.13.jpg to all_images/3fa0a483-276b-43f0-9178-478f51e1cd85.13.jpg\n",
      "Downloaded b1gbqcgk1bfajrkrfdfr/all_images/healthy/3fa0a483-276b-43f0-9178-478f51e1cd85.14.jpg to all_images/3fa0a483-276b-43f0-9178-478f51e1cd85.14.jpg\n",
      "Downloaded b1gbqcgk1bfajrkrfdfr/all_images/healthy/3fa0a483-276b-43f0-9178-478f51e1cd85.15.jpg to all_images/3fa0a483-276b-43f0-9178-478f51e1cd85.15.jpg\n",
      "Downloaded b1gbqcgk1bfajrkrfdfr/all_images/healthy/3fa0a483-276b-43f0-9178-478f51e1cd85.2.jpg to all_images/3fa0a483-276b-43f0-9178-478f51e1cd85.2.jpg\n",
      "Downloaded b1gbqcgk1bfajrkrfdfr/all_images/healthy/3fa0a483-276b-43f0-9178-478f51e1cd85.3.jpg to all_images/3fa0a483-276b-43f0-9178-478f51e1cd85.3.jpg\n",
      "Downloaded b1gbqcgk1bfajrkrfdfr/all_images/healthy/3fa0a483-276b-43f0-9178-478f51e1cd85.4.jpg to all_images/3fa0a483-276b-43f0-9178-478f51e1cd85.4.jpg\n",
      "Downloaded b1gbqcgk1bfajrkrfdfr/all_images/healthy/3fa0a483-276b-43f0-9178-478f51e1cd85.5.jpg to all_images/3fa0a483-276b-43f0-9178-478f51e1cd85.5.jpg\n",
      "Downloaded b1gbqcgk1bfajrkrfdfr/all_images/healthy/3fa0a483-276b-43f0-9178-478f51e1cd85.6.jpg to all_images/3fa0a483-276b-43f0-9178-478f51e1cd85.6.jpg\n",
      "Downloaded b1gbqcgk1bfajrkrfdfr/all_images/healthy/3fa0a483-276b-43f0-9178-478f51e1cd85.7.jpg to all_images/3fa0a483-276b-43f0-9178-478f51e1cd85.7.jpg\n",
      "Downloaded b1gbqcgk1bfajrkrfdfr/all_images/healthy/3fa0a483-276b-43f0-9178-478f51e1cd85.8.jpg to all_images/3fa0a483-276b-43f0-9178-478f51e1cd85.8.jpg\n",
      "Downloaded b1gbqcgk1bfajrkrfdfr/all_images/healthy/3fa0a483-276b-43f0-9178-478f51e1cd85.9.jpg to all_images/3fa0a483-276b-43f0-9178-478f51e1cd85.9.jpg\n",
      "Downloaded b1gbqcgk1bfajrkrfdfr/all_images/healthy/4608554f-8743-4ecb-88a1-8c008a64e412.1.jpg to all_images/4608554f-8743-4ecb-88a1-8c008a64e412.1.jpg\n",
      "Downloaded b1gbqcgk1bfajrkrfdfr/all_images/healthy/4608554f-8743-4ecb-88a1-8c008a64e412.2.jpg to all_images/4608554f-8743-4ecb-88a1-8c008a64e412.2.jpg\n",
      "Downloaded b1gbqcgk1bfajrkrfdfr/all_images/healthy/4608554f-8743-4ecb-88a1-8c008a64e412.3.jpg to all_images/4608554f-8743-4ecb-88a1-8c008a64e412.3.jpg\n",
      "Downloaded b1gbqcgk1bfajrkrfdfr/all_images/healthy/4608554f-8743-4ecb-88a1-8c008a64e412.5.jpg to all_images/4608554f-8743-4ecb-88a1-8c008a64e412.5.jpg\n",
      "Downloaded b1gbqcgk1bfajrkrfdfr/all_images/healthy/4608554f-8743-4ecb-88a1-8c008a64e412.6.jpg to all_images/4608554f-8743-4ecb-88a1-8c008a64e412.6.jpg\n",
      "Downloaded b1gbqcgk1bfajrkrfdfr/all_images/healthy/4608554f-8743-4ecb-88a1-8c008a64e412.7.jpg to all_images/4608554f-8743-4ecb-88a1-8c008a64e412.7.jpg\n",
      "Downloaded b1gbqcgk1bfajrkrfdfr/all_images/healthy/4608554f-8743-4ecb-88a1-8c008a64e412.8.jpg to all_images/4608554f-8743-4ecb-88a1-8c008a64e412.8.jpg\n",
      "Downloaded b1gbqcgk1bfajrkrfdfr/all_images/healthy/4608554f-8743-4ecb-88a1-8c008a64e412.9.jpg to all_images/4608554f-8743-4ecb-88a1-8c008a64e412.9.jpg\n",
      "Downloaded b1gbqcgk1bfajrkrfdfr/all_images/healthy/4961717d-aec5-493c-a8b0-e7f6ffec8ddc.1.jpg to all_images/4961717d-aec5-493c-a8b0-e7f6ffec8ddc.1.jpg\n",
      "Downloaded b1gbqcgk1bfajrkrfdfr/all_images/healthy/4961717d-aec5-493c-a8b0-e7f6ffec8ddc.10.jpg to all_images/4961717d-aec5-493c-a8b0-e7f6ffec8ddc.10.jpg\n",
      "Downloaded b1gbqcgk1bfajrkrfdfr/all_images/healthy/4961717d-aec5-493c-a8b0-e7f6ffec8ddc.11.jpg to all_images/4961717d-aec5-493c-a8b0-e7f6ffec8ddc.11.jpg\n",
      "Downloaded b1gbqcgk1bfajrkrfdfr/all_images/healthy/4961717d-aec5-493c-a8b0-e7f6ffec8ddc.12.jpg to all_images/4961717d-aec5-493c-a8b0-e7f6ffec8ddc.12.jpg\n",
      "Downloaded b1gbqcgk1bfajrkrfdfr/all_images/healthy/4961717d-aec5-493c-a8b0-e7f6ffec8ddc.2.jpg to all_images/4961717d-aec5-493c-a8b0-e7f6ffec8ddc.2.jpg\n",
      "Downloaded b1gbqcgk1bfajrkrfdfr/all_images/healthy/4961717d-aec5-493c-a8b0-e7f6ffec8ddc.4.jpg to all_images/4961717d-aec5-493c-a8b0-e7f6ffec8ddc.4.jpg\n",
      "Downloaded b1gbqcgk1bfajrkrfdfr/all_images/healthy/4961717d-aec5-493c-a8b0-e7f6ffec8ddc.5.jpg to all_images/4961717d-aec5-493c-a8b0-e7f6ffec8ddc.5.jpg\n",
      "Downloaded b1gbqcgk1bfajrkrfdfr/all_images/healthy/4961717d-aec5-493c-a8b0-e7f6ffec8ddc.6.jpg to all_images/4961717d-aec5-493c-a8b0-e7f6ffec8ddc.6.jpg\n",
      "Downloaded b1gbqcgk1bfajrkrfdfr/all_images/healthy/4961717d-aec5-493c-a8b0-e7f6ffec8ddc.7.jpg to all_images/4961717d-aec5-493c-a8b0-e7f6ffec8ddc.7.jpg\n",
      "Downloaded b1gbqcgk1bfajrkrfdfr/all_images/healthy/4961717d-aec5-493c-a8b0-e7f6ffec8ddc.8.jpg to all_images/4961717d-aec5-493c-a8b0-e7f6ffec8ddc.8.jpg\n",
      "Downloaded b1gbqcgk1bfajrkrfdfr/all_images/healthy/4961717d-aec5-493c-a8b0-e7f6ffec8ddc.9.jpg to all_images/4961717d-aec5-493c-a8b0-e7f6ffec8ddc.9.jpg\n",
      "Downloaded b1gbqcgk1bfajrkrfdfr/all_images/healthy/4c8dbebc-ea99-47b1-818d-6036769bc811.1.jpg to all_images/4c8dbebc-ea99-47b1-818d-6036769bc811.1.jpg\n",
      "Downloaded b1gbqcgk1bfajrkrfdfr/all_images/healthy/4c8dbebc-ea99-47b1-818d-6036769bc811.2.jpg to all_images/4c8dbebc-ea99-47b1-818d-6036769bc811.2.jpg\n",
      "Downloaded b1gbqcgk1bfajrkrfdfr/all_images/healthy/4c8dbebc-ea99-47b1-818d-6036769bc811.3.jpg to all_images/4c8dbebc-ea99-47b1-818d-6036769bc811.3.jpg\n",
      "Downloaded b1gbqcgk1bfajrkrfdfr/all_images/healthy/4c8dbebc-ea99-47b1-818d-6036769bc811.4.jpg to all_images/4c8dbebc-ea99-47b1-818d-6036769bc811.4.jpg\n",
      "Downloaded b1gbqcgk1bfajrkrfdfr/all_images/healthy/4c8dbebc-ea99-47b1-818d-6036769bc811.5.jpg to all_images/4c8dbebc-ea99-47b1-818d-6036769bc811.5.jpg\n",
      "Downloaded b1gbqcgk1bfajrkrfdfr/all_images/healthy/4c8dbebc-ea99-47b1-818d-6036769bc811.7.jpg to all_images/4c8dbebc-ea99-47b1-818d-6036769bc811.7.jpg\n",
      "Downloaded b1gbqcgk1bfajrkrfdfr/all_images/healthy/4c8dbebc-ea99-47b1-818d-6036769bc811.8.jpg to all_images/4c8dbebc-ea99-47b1-818d-6036769bc811.8.jpg\n",
      "Downloaded b1gbqcgk1bfajrkrfdfr/all_images/healthy/4c8dbebc-ea99-47b1-818d-6036769bc811.9.jpg to all_images/4c8dbebc-ea99-47b1-818d-6036769bc811.9.jpg\n",
      "Downloaded b1gbqcgk1bfajrkrfdfr/all_images/healthy/52d067e7-bbd0-47ad-a777-3a01f7719a53.1.jpg to all_images/52d067e7-bbd0-47ad-a777-3a01f7719a53.1.jpg\n",
      "Downloaded b1gbqcgk1bfajrkrfdfr/all_images/healthy/52d067e7-bbd0-47ad-a777-3a01f7719a53.10.jpg to all_images/52d067e7-bbd0-47ad-a777-3a01f7719a53.10.jpg\n",
      "Downloaded b1gbqcgk1bfajrkrfdfr/all_images/healthy/52d067e7-bbd0-47ad-a777-3a01f7719a53.11.jpg to all_images/52d067e7-bbd0-47ad-a777-3a01f7719a53.11.jpg\n",
      "Downloaded b1gbqcgk1bfajrkrfdfr/all_images/healthy/52d067e7-bbd0-47ad-a777-3a01f7719a53.12.jpg to all_images/52d067e7-bbd0-47ad-a777-3a01f7719a53.12.jpg\n",
      "Downloaded b1gbqcgk1bfajrkrfdfr/all_images/healthy/52d067e7-bbd0-47ad-a777-3a01f7719a53.2.jpg to all_images/52d067e7-bbd0-47ad-a777-3a01f7719a53.2.jpg\n",
      "Downloaded b1gbqcgk1bfajrkrfdfr/all_images/healthy/52d067e7-bbd0-47ad-a777-3a01f7719a53.3.jpg to all_images/52d067e7-bbd0-47ad-a777-3a01f7719a53.3.jpg\n",
      "Downloaded b1gbqcgk1bfajrkrfdfr/all_images/healthy/52d067e7-bbd0-47ad-a777-3a01f7719a53.4.jpg to all_images/52d067e7-bbd0-47ad-a777-3a01f7719a53.4.jpg\n",
      "Downloaded b1gbqcgk1bfajrkrfdfr/all_images/healthy/52d067e7-bbd0-47ad-a777-3a01f7719a53.5.jpg to all_images/52d067e7-bbd0-47ad-a777-3a01f7719a53.5.jpg\n",
      "Downloaded b1gbqcgk1bfajrkrfdfr/all_images/healthy/52d067e7-bbd0-47ad-a777-3a01f7719a53.6.jpg to all_images/52d067e7-bbd0-47ad-a777-3a01f7719a53.6.jpg\n",
      "Downloaded b1gbqcgk1bfajrkrfdfr/all_images/healthy/52d067e7-bbd0-47ad-a777-3a01f7719a53.7.jpg to all_images/52d067e7-bbd0-47ad-a777-3a01f7719a53.7.jpg\n",
      "Downloaded b1gbqcgk1bfajrkrfdfr/all_images/healthy/52d067e7-bbd0-47ad-a777-3a01f7719a53.8.jpg to all_images/52d067e7-bbd0-47ad-a777-3a01f7719a53.8.jpg\n",
      "Downloaded b1gbqcgk1bfajrkrfdfr/all_images/healthy/52d067e7-bbd0-47ad-a777-3a01f7719a53.9.jpg to all_images/52d067e7-bbd0-47ad-a777-3a01f7719a53.9.jpg\n",
      "Downloaded b1gbqcgk1bfajrkrfdfr/all_images/healthy/550d36a9-0307-48d8-920c-9c7a7b724651.1.jpg to all_images/550d36a9-0307-48d8-920c-9c7a7b724651.1.jpg\n",
      "Downloaded b1gbqcgk1bfajrkrfdfr/all_images/healthy/550d36a9-0307-48d8-920c-9c7a7b724651.10.jpg to all_images/550d36a9-0307-48d8-920c-9c7a7b724651.10.jpg\n",
      "Downloaded b1gbqcgk1bfajrkrfdfr/all_images/healthy/550d36a9-0307-48d8-920c-9c7a7b724651.11.jpg to all_images/550d36a9-0307-48d8-920c-9c7a7b724651.11.jpg\n",
      "Downloaded b1gbqcgk1bfajrkrfdfr/all_images/healthy/550d36a9-0307-48d8-920c-9c7a7b724651.12.jpg to all_images/550d36a9-0307-48d8-920c-9c7a7b724651.12.jpg\n",
      "Downloaded b1gbqcgk1bfajrkrfdfr/all_images/healthy/550d36a9-0307-48d8-920c-9c7a7b724651.13.jpg to all_images/550d36a9-0307-48d8-920c-9c7a7b724651.13.jpg\n",
      "Downloaded b1gbqcgk1bfajrkrfdfr/all_images/healthy/550d36a9-0307-48d8-920c-9c7a7b724651.14.jpg to all_images/550d36a9-0307-48d8-920c-9c7a7b724651.14.jpg\n",
      "Downloaded b1gbqcgk1bfajrkrfdfr/all_images/healthy/550d36a9-0307-48d8-920c-9c7a7b724651.15.jpg to all_images/550d36a9-0307-48d8-920c-9c7a7b724651.15.jpg\n",
      "Downloaded b1gbqcgk1bfajrkrfdfr/all_images/healthy/550d36a9-0307-48d8-920c-9c7a7b724651.16.jpg to all_images/550d36a9-0307-48d8-920c-9c7a7b724651.16.jpg\n",
      "Downloaded b1gbqcgk1bfajrkrfdfr/all_images/healthy/550d36a9-0307-48d8-920c-9c7a7b724651.17.jpg to all_images/550d36a9-0307-48d8-920c-9c7a7b724651.17.jpg\n",
      "Downloaded b1gbqcgk1bfajrkrfdfr/all_images/healthy/550d36a9-0307-48d8-920c-9c7a7b724651.18.jpg to all_images/550d36a9-0307-48d8-920c-9c7a7b724651.18.jpg\n",
      "Downloaded b1gbqcgk1bfajrkrfdfr/all_images/healthy/550d36a9-0307-48d8-920c-9c7a7b724651.19.jpg to all_images/550d36a9-0307-48d8-920c-9c7a7b724651.19.jpg\n",
      "Downloaded b1gbqcgk1bfajrkrfdfr/all_images/healthy/550d36a9-0307-48d8-920c-9c7a7b724651.2.jpg to all_images/550d36a9-0307-48d8-920c-9c7a7b724651.2.jpg\n",
      "Downloaded b1gbqcgk1bfajrkrfdfr/all_images/healthy/550d36a9-0307-48d8-920c-9c7a7b724651.20.jpg to all_images/550d36a9-0307-48d8-920c-9c7a7b724651.20.jpg\n",
      "Downloaded b1gbqcgk1bfajrkrfdfr/all_images/healthy/550d36a9-0307-48d8-920c-9c7a7b724651.21.jpg to all_images/550d36a9-0307-48d8-920c-9c7a7b724651.21.jpg\n",
      "Downloaded b1gbqcgk1bfajrkrfdfr/all_images/healthy/550d36a9-0307-48d8-920c-9c7a7b724651.3.jpg to all_images/550d36a9-0307-48d8-920c-9c7a7b724651.3.jpg\n",
      "Downloaded b1gbqcgk1bfajrkrfdfr/all_images/healthy/550d36a9-0307-48d8-920c-9c7a7b724651.4.jpg to all_images/550d36a9-0307-48d8-920c-9c7a7b724651.4.jpg\n",
      "Downloaded b1gbqcgk1bfajrkrfdfr/all_images/healthy/550d36a9-0307-48d8-920c-9c7a7b724651.5.jpg to all_images/550d36a9-0307-48d8-920c-9c7a7b724651.5.jpg\n",
      "Downloaded b1gbqcgk1bfajrkrfdfr/all_images/healthy/550d36a9-0307-48d8-920c-9c7a7b724651.6.jpg to all_images/550d36a9-0307-48d8-920c-9c7a7b724651.6.jpg\n",
      "Downloaded b1gbqcgk1bfajrkrfdfr/all_images/healthy/550d36a9-0307-48d8-920c-9c7a7b724651.7.jpg to all_images/550d36a9-0307-48d8-920c-9c7a7b724651.7.jpg\n",
      "Downloaded b1gbqcgk1bfajrkrfdfr/all_images/healthy/550d36a9-0307-48d8-920c-9c7a7b724651.8.jpg to all_images/550d36a9-0307-48d8-920c-9c7a7b724651.8.jpg\n",
      "Downloaded b1gbqcgk1bfajrkrfdfr/all_images/healthy/550d36a9-0307-48d8-920c-9c7a7b724651.9.jpg to all_images/550d36a9-0307-48d8-920c-9c7a7b724651.9.jpg\n",
      "Downloaded b1gbqcgk1bfajrkrfdfr/all_images/healthy/570a9149-d150-48e5-9013-895f2fa16ffb.1.jpg to all_images/570a9149-d150-48e5-9013-895f2fa16ffb.1.jpg\n",
      "Downloaded b1gbqcgk1bfajrkrfdfr/all_images/healthy/570a9149-d150-48e5-9013-895f2fa16ffb.10.jpg to all_images/570a9149-d150-48e5-9013-895f2fa16ffb.10.jpg\n",
      "Downloaded b1gbqcgk1bfajrkrfdfr/all_images/healthy/570a9149-d150-48e5-9013-895f2fa16ffb.11.jpg to all_images/570a9149-d150-48e5-9013-895f2fa16ffb.11.jpg\n",
      "Downloaded b1gbqcgk1bfajrkrfdfr/all_images/healthy/570a9149-d150-48e5-9013-895f2fa16ffb.12.jpg to all_images/570a9149-d150-48e5-9013-895f2fa16ffb.12.jpg\n",
      "Downloaded b1gbqcgk1bfajrkrfdfr/all_images/healthy/570a9149-d150-48e5-9013-895f2fa16ffb.13.jpg to all_images/570a9149-d150-48e5-9013-895f2fa16ffb.13.jpg\n",
      "Downloaded b1gbqcgk1bfajrkrfdfr/all_images/healthy/570a9149-d150-48e5-9013-895f2fa16ffb.14.jpg to all_images/570a9149-d150-48e5-9013-895f2fa16ffb.14.jpg\n",
      "Downloaded b1gbqcgk1bfajrkrfdfr/all_images/healthy/570a9149-d150-48e5-9013-895f2fa16ffb.15.jpg to all_images/570a9149-d150-48e5-9013-895f2fa16ffb.15.jpg\n",
      "Downloaded b1gbqcgk1bfajrkrfdfr/all_images/healthy/570a9149-d150-48e5-9013-895f2fa16ffb.16.jpg to all_images/570a9149-d150-48e5-9013-895f2fa16ffb.16.jpg\n",
      "Downloaded b1gbqcgk1bfajrkrfdfr/all_images/healthy/570a9149-d150-48e5-9013-895f2fa16ffb.17.jpg to all_images/570a9149-d150-48e5-9013-895f2fa16ffb.17.jpg\n",
      "Downloaded b1gbqcgk1bfajrkrfdfr/all_images/healthy/570a9149-d150-48e5-9013-895f2fa16ffb.18.jpg to all_images/570a9149-d150-48e5-9013-895f2fa16ffb.18.jpg\n",
      "Downloaded b1gbqcgk1bfajrkrfdfr/all_images/healthy/570a9149-d150-48e5-9013-895f2fa16ffb.19.jpg to all_images/570a9149-d150-48e5-9013-895f2fa16ffb.19.jpg\n",
      "Downloaded b1gbqcgk1bfajrkrfdfr/all_images/healthy/570a9149-d150-48e5-9013-895f2fa16ffb.2.jpg to all_images/570a9149-d150-48e5-9013-895f2fa16ffb.2.jpg\n",
      "Downloaded b1gbqcgk1bfajrkrfdfr/all_images/healthy/570a9149-d150-48e5-9013-895f2fa16ffb.20.jpg to all_images/570a9149-d150-48e5-9013-895f2fa16ffb.20.jpg\n",
      "Downloaded b1gbqcgk1bfajrkrfdfr/all_images/healthy/570a9149-d150-48e5-9013-895f2fa16ffb.3.jpg to all_images/570a9149-d150-48e5-9013-895f2fa16ffb.3.jpg\n",
      "Downloaded b1gbqcgk1bfajrkrfdfr/all_images/healthy/570a9149-d150-48e5-9013-895f2fa16ffb.4.jpg to all_images/570a9149-d150-48e5-9013-895f2fa16ffb.4.jpg\n",
      "Downloaded b1gbqcgk1bfajrkrfdfr/all_images/healthy/570a9149-d150-48e5-9013-895f2fa16ffb.5.jpg to all_images/570a9149-d150-48e5-9013-895f2fa16ffb.5.jpg\n",
      "Downloaded b1gbqcgk1bfajrkrfdfr/all_images/healthy/570a9149-d150-48e5-9013-895f2fa16ffb.6.jpg to all_images/570a9149-d150-48e5-9013-895f2fa16ffb.6.jpg\n",
      "Downloaded b1gbqcgk1bfajrkrfdfr/all_images/healthy/570a9149-d150-48e5-9013-895f2fa16ffb.7.jpg to all_images/570a9149-d150-48e5-9013-895f2fa16ffb.7.jpg\n",
      "Downloaded b1gbqcgk1bfajrkrfdfr/all_images/healthy/570a9149-d150-48e5-9013-895f2fa16ffb.8.jpg to all_images/570a9149-d150-48e5-9013-895f2fa16ffb.8.jpg\n",
      "Downloaded b1gbqcgk1bfajrkrfdfr/all_images/healthy/570a9149-d150-48e5-9013-895f2fa16ffb.9.jpg to all_images/570a9149-d150-48e5-9013-895f2fa16ffb.9.jpg\n",
      "Downloaded b1gbqcgk1bfajrkrfdfr/all_images/healthy/87191f33-68da-428b-8f39-0ed92bb4f2a7.1.jpg to all_images/87191f33-68da-428b-8f39-0ed92bb4f2a7.1.jpg\n",
      "Downloaded b1gbqcgk1bfajrkrfdfr/all_images/healthy/87191f33-68da-428b-8f39-0ed92bb4f2a7.2.jpg to all_images/87191f33-68da-428b-8f39-0ed92bb4f2a7.2.jpg\n",
      "Downloaded b1gbqcgk1bfajrkrfdfr/all_images/healthy/87191f33-68da-428b-8f39-0ed92bb4f2a7.3.jpg to all_images/87191f33-68da-428b-8f39-0ed92bb4f2a7.3.jpg\n",
      "Downloaded b1gbqcgk1bfajrkrfdfr/all_images/healthy/87191f33-68da-428b-8f39-0ed92bb4f2a7.4.jpg to all_images/87191f33-68da-428b-8f39-0ed92bb4f2a7.4.jpg\n",
      "Downloaded b1gbqcgk1bfajrkrfdfr/all_images/healthy/87191f33-68da-428b-8f39-0ed92bb4f2a7.5.jpg to all_images/87191f33-68da-428b-8f39-0ed92bb4f2a7.5.jpg\n",
      "Downloaded b1gbqcgk1bfajrkrfdfr/all_images/healthy/87191f33-68da-428b-8f39-0ed92bb4f2a7.7.jpg to all_images/87191f33-68da-428b-8f39-0ed92bb4f2a7.7.jpg\n",
      "Downloaded b1gbqcgk1bfajrkrfdfr/all_images/healthy/87191f33-68da-428b-8f39-0ed92bb4f2a7.8.jpg to all_images/87191f33-68da-428b-8f39-0ed92bb4f2a7.8.jpg\n",
      "Downloaded b1gbqcgk1bfajrkrfdfr/all_images/healthy/8d096f42-7ee6-4647-84b7-e59c9d5dab7c.1.jpg to all_images/8d096f42-7ee6-4647-84b7-e59c9d5dab7c.1.jpg\n",
      "Downloaded b1gbqcgk1bfajrkrfdfr/all_images/healthy/8d096f42-7ee6-4647-84b7-e59c9d5dab7c.2.jpg to all_images/8d096f42-7ee6-4647-84b7-e59c9d5dab7c.2.jpg\n",
      "Downloaded b1gbqcgk1bfajrkrfdfr/all_images/healthy/8d096f42-7ee6-4647-84b7-e59c9d5dab7c.3.jpg to all_images/8d096f42-7ee6-4647-84b7-e59c9d5dab7c.3.jpg\n",
      "Downloaded b1gbqcgk1bfajrkrfdfr/all_images/healthy/8d096f42-7ee6-4647-84b7-e59c9d5dab7c.4.jpg to all_images/8d096f42-7ee6-4647-84b7-e59c9d5dab7c.4.jpg\n",
      "Downloaded b1gbqcgk1bfajrkrfdfr/all_images/healthy/8d096f42-7ee6-4647-84b7-e59c9d5dab7c.5.jpg to all_images/8d096f42-7ee6-4647-84b7-e59c9d5dab7c.5.jpg\n",
      "Downloaded b1gbqcgk1bfajrkrfdfr/all_images/healthy/8d096f42-7ee6-4647-84b7-e59c9d5dab7c.6.jpg to all_images/8d096f42-7ee6-4647-84b7-e59c9d5dab7c.6.jpg\n",
      "Downloaded b1gbqcgk1bfajrkrfdfr/all_images/healthy/a85f98e5-f013-4b3b-907c-9bf892299a71.1.jpg to all_images/a85f98e5-f013-4b3b-907c-9bf892299a71.1.jpg\n",
      "Downloaded b1gbqcgk1bfajrkrfdfr/all_images/healthy/a85f98e5-f013-4b3b-907c-9bf892299a71.10.jpg to all_images/a85f98e5-f013-4b3b-907c-9bf892299a71.10.jpg\n",
      "Downloaded b1gbqcgk1bfajrkrfdfr/all_images/healthy/a85f98e5-f013-4b3b-907c-9bf892299a71.11.jpg to all_images/a85f98e5-f013-4b3b-907c-9bf892299a71.11.jpg\n",
      "Downloaded b1gbqcgk1bfajrkrfdfr/all_images/healthy/a85f98e5-f013-4b3b-907c-9bf892299a71.2.jpg to all_images/a85f98e5-f013-4b3b-907c-9bf892299a71.2.jpg\n",
      "Downloaded b1gbqcgk1bfajrkrfdfr/all_images/healthy/a85f98e5-f013-4b3b-907c-9bf892299a71.3.jpg to all_images/a85f98e5-f013-4b3b-907c-9bf892299a71.3.jpg\n",
      "Downloaded b1gbqcgk1bfajrkrfdfr/all_images/healthy/a85f98e5-f013-4b3b-907c-9bf892299a71.4.jpg to all_images/a85f98e5-f013-4b3b-907c-9bf892299a71.4.jpg\n",
      "Downloaded b1gbqcgk1bfajrkrfdfr/all_images/healthy/a85f98e5-f013-4b3b-907c-9bf892299a71.5.jpg to all_images/a85f98e5-f013-4b3b-907c-9bf892299a71.5.jpg\n",
      "Downloaded b1gbqcgk1bfajrkrfdfr/all_images/healthy/a85f98e5-f013-4b3b-907c-9bf892299a71.6.jpg to all_images/a85f98e5-f013-4b3b-907c-9bf892299a71.6.jpg\n",
      "Downloaded b1gbqcgk1bfajrkrfdfr/all_images/healthy/a85f98e5-f013-4b3b-907c-9bf892299a71.7.jpg to all_images/a85f98e5-f013-4b3b-907c-9bf892299a71.7.jpg\n",
      "Downloaded b1gbqcgk1bfajrkrfdfr/all_images/healthy/a85f98e5-f013-4b3b-907c-9bf892299a71.9.jpg to all_images/a85f98e5-f013-4b3b-907c-9bf892299a71.9.jpg\n",
      "Downloaded b1gbqcgk1bfajrkrfdfr/all_images/healthy/b54cbceb-23a1-4431-86c0-c9ab0d0017c0.1.jpg to all_images/b54cbceb-23a1-4431-86c0-c9ab0d0017c0.1.jpg\n",
      "Downloaded b1gbqcgk1bfajrkrfdfr/all_images/healthy/b54cbceb-23a1-4431-86c0-c9ab0d0017c0.10.jpg to all_images/b54cbceb-23a1-4431-86c0-c9ab0d0017c0.10.jpg\n",
      "Downloaded b1gbqcgk1bfajrkrfdfr/all_images/healthy/b54cbceb-23a1-4431-86c0-c9ab0d0017c0.11.jpg to all_images/b54cbceb-23a1-4431-86c0-c9ab0d0017c0.11.jpg\n",
      "Downloaded b1gbqcgk1bfajrkrfdfr/all_images/healthy/b54cbceb-23a1-4431-86c0-c9ab0d0017c0.12.jpg to all_images/b54cbceb-23a1-4431-86c0-c9ab0d0017c0.12.jpg\n",
      "Downloaded b1gbqcgk1bfajrkrfdfr/all_images/healthy/b54cbceb-23a1-4431-86c0-c9ab0d0017c0.13.jpg to all_images/b54cbceb-23a1-4431-86c0-c9ab0d0017c0.13.jpg\n",
      "Downloaded b1gbqcgk1bfajrkrfdfr/all_images/healthy/b54cbceb-23a1-4431-86c0-c9ab0d0017c0.14.jpg to all_images/b54cbceb-23a1-4431-86c0-c9ab0d0017c0.14.jpg\n",
      "Downloaded b1gbqcgk1bfajrkrfdfr/all_images/healthy/b54cbceb-23a1-4431-86c0-c9ab0d0017c0.15.jpg to all_images/b54cbceb-23a1-4431-86c0-c9ab0d0017c0.15.jpg\n",
      "Downloaded b1gbqcgk1bfajrkrfdfr/all_images/healthy/b54cbceb-23a1-4431-86c0-c9ab0d0017c0.16.jpg to all_images/b54cbceb-23a1-4431-86c0-c9ab0d0017c0.16.jpg\n",
      "Downloaded b1gbqcgk1bfajrkrfdfr/all_images/healthy/b54cbceb-23a1-4431-86c0-c9ab0d0017c0.17.jpg to all_images/b54cbceb-23a1-4431-86c0-c9ab0d0017c0.17.jpg\n",
      "Downloaded b1gbqcgk1bfajrkrfdfr/all_images/healthy/b54cbceb-23a1-4431-86c0-c9ab0d0017c0.18.jpg to all_images/b54cbceb-23a1-4431-86c0-c9ab0d0017c0.18.jpg\n",
      "Downloaded b1gbqcgk1bfajrkrfdfr/all_images/healthy/b54cbceb-23a1-4431-86c0-c9ab0d0017c0.19.jpg to all_images/b54cbceb-23a1-4431-86c0-c9ab0d0017c0.19.jpg\n",
      "Downloaded b1gbqcgk1bfajrkrfdfr/all_images/healthy/b54cbceb-23a1-4431-86c0-c9ab0d0017c0.2.jpg to all_images/b54cbceb-23a1-4431-86c0-c9ab0d0017c0.2.jpg\n",
      "Downloaded b1gbqcgk1bfajrkrfdfr/all_images/healthy/b54cbceb-23a1-4431-86c0-c9ab0d0017c0.20.jpg to all_images/b54cbceb-23a1-4431-86c0-c9ab0d0017c0.20.jpg\n",
      "Downloaded b1gbqcgk1bfajrkrfdfr/all_images/healthy/b54cbceb-23a1-4431-86c0-c9ab0d0017c0.3.jpg to all_images/b54cbceb-23a1-4431-86c0-c9ab0d0017c0.3.jpg\n",
      "Downloaded b1gbqcgk1bfajrkrfdfr/all_images/healthy/b54cbceb-23a1-4431-86c0-c9ab0d0017c0.4.jpg to all_images/b54cbceb-23a1-4431-86c0-c9ab0d0017c0.4.jpg\n",
      "Downloaded b1gbqcgk1bfajrkrfdfr/all_images/healthy/b54cbceb-23a1-4431-86c0-c9ab0d0017c0.5.jpg to all_images/b54cbceb-23a1-4431-86c0-c9ab0d0017c0.5.jpg\n",
      "Downloaded b1gbqcgk1bfajrkrfdfr/all_images/healthy/b54cbceb-23a1-4431-86c0-c9ab0d0017c0.6.jpg to all_images/b54cbceb-23a1-4431-86c0-c9ab0d0017c0.6.jpg\n",
      "Downloaded b1gbqcgk1bfajrkrfdfr/all_images/healthy/b54cbceb-23a1-4431-86c0-c9ab0d0017c0.7.jpg to all_images/b54cbceb-23a1-4431-86c0-c9ab0d0017c0.7.jpg\n",
      "Downloaded b1gbqcgk1bfajrkrfdfr/all_images/healthy/b54cbceb-23a1-4431-86c0-c9ab0d0017c0.8.jpg to all_images/b54cbceb-23a1-4431-86c0-c9ab0d0017c0.8.jpg\n",
      "Downloaded b1gbqcgk1bfajrkrfdfr/all_images/healthy/b54cbceb-23a1-4431-86c0-c9ab0d0017c0.9.jpg to all_images/b54cbceb-23a1-4431-86c0-c9ab0d0017c0.9.jpg\n",
      "Downloaded b1gbqcgk1bfajrkrfdfr/all_images/healthy/c41d9d51-d435-4b1a-8329-4b6bf7e412b9.1.jpg to all_images/c41d9d51-d435-4b1a-8329-4b6bf7e412b9.1.jpg\n",
      "Downloaded b1gbqcgk1bfajrkrfdfr/all_images/healthy/c41d9d51-d435-4b1a-8329-4b6bf7e412b9.10.jpg to all_images/c41d9d51-d435-4b1a-8329-4b6bf7e412b9.10.jpg\n",
      "Downloaded b1gbqcgk1bfajrkrfdfr/all_images/healthy/c41d9d51-d435-4b1a-8329-4b6bf7e412b9.11.jpg to all_images/c41d9d51-d435-4b1a-8329-4b6bf7e412b9.11.jpg\n",
      "Downloaded b1gbqcgk1bfajrkrfdfr/all_images/healthy/c41d9d51-d435-4b1a-8329-4b6bf7e412b9.4.jpg to all_images/c41d9d51-d435-4b1a-8329-4b6bf7e412b9.4.jpg\n",
      "Downloaded b1gbqcgk1bfajrkrfdfr/all_images/healthy/c41d9d51-d435-4b1a-8329-4b6bf7e412b9.5.jpg to all_images/c41d9d51-d435-4b1a-8329-4b6bf7e412b9.5.jpg\n",
      "Downloaded b1gbqcgk1bfajrkrfdfr/all_images/healthy/c41d9d51-d435-4b1a-8329-4b6bf7e412b9.6.jpg to all_images/c41d9d51-d435-4b1a-8329-4b6bf7e412b9.6.jpg\n",
      "Downloaded b1gbqcgk1bfajrkrfdfr/all_images/healthy/c41d9d51-d435-4b1a-8329-4b6bf7e412b9.7.jpg to all_images/c41d9d51-d435-4b1a-8329-4b6bf7e412b9.7.jpg\n",
      "Downloaded b1gbqcgk1bfajrkrfdfr/all_images/healthy/c41d9d51-d435-4b1a-8329-4b6bf7e412b9.8.jpg to all_images/c41d9d51-d435-4b1a-8329-4b6bf7e412b9.8.jpg\n",
      "Downloaded b1gbqcgk1bfajrkrfdfr/all_images/healthy/c41d9d51-d435-4b1a-8329-4b6bf7e412b9.9.jpg to all_images/c41d9d51-d435-4b1a-8329-4b6bf7e412b9.9.jpg\n",
      "Downloaded b1gbqcgk1bfajrkrfdfr/all_images/healthy/ca025e9a-23b4-4145-86e5-6b27a0507fa8.1.jpg to all_images/ca025e9a-23b4-4145-86e5-6b27a0507fa8.1.jpg\n",
      "Downloaded b1gbqcgk1bfajrkrfdfr/all_images/healthy/ca025e9a-23b4-4145-86e5-6b27a0507fa8.10.jpg to all_images/ca025e9a-23b4-4145-86e5-6b27a0507fa8.10.jpg\n",
      "Downloaded b1gbqcgk1bfajrkrfdfr/all_images/healthy/ca025e9a-23b4-4145-86e5-6b27a0507fa8.11.jpg to all_images/ca025e9a-23b4-4145-86e5-6b27a0507fa8.11.jpg\n",
      "Downloaded b1gbqcgk1bfajrkrfdfr/all_images/healthy/ca025e9a-23b4-4145-86e5-6b27a0507fa8.12.jpg to all_images/ca025e9a-23b4-4145-86e5-6b27a0507fa8.12.jpg\n",
      "Downloaded b1gbqcgk1bfajrkrfdfr/all_images/healthy/ca025e9a-23b4-4145-86e5-6b27a0507fa8.13.jpg to all_images/ca025e9a-23b4-4145-86e5-6b27a0507fa8.13.jpg\n",
      "Downloaded b1gbqcgk1bfajrkrfdfr/all_images/healthy/ca025e9a-23b4-4145-86e5-6b27a0507fa8.14.jpg to all_images/ca025e9a-23b4-4145-86e5-6b27a0507fa8.14.jpg\n",
      "Downloaded b1gbqcgk1bfajrkrfdfr/all_images/healthy/ca025e9a-23b4-4145-86e5-6b27a0507fa8.15.jpg to all_images/ca025e9a-23b4-4145-86e5-6b27a0507fa8.15.jpg\n",
      "Downloaded b1gbqcgk1bfajrkrfdfr/all_images/healthy/ca025e9a-23b4-4145-86e5-6b27a0507fa8.16.jpg to all_images/ca025e9a-23b4-4145-86e5-6b27a0507fa8.16.jpg\n",
      "Downloaded b1gbqcgk1bfajrkrfdfr/all_images/healthy/ca025e9a-23b4-4145-86e5-6b27a0507fa8.17.jpg to all_images/ca025e9a-23b4-4145-86e5-6b27a0507fa8.17.jpg\n",
      "Downloaded b1gbqcgk1bfajrkrfdfr/all_images/healthy/ca025e9a-23b4-4145-86e5-6b27a0507fa8.18.jpg to all_images/ca025e9a-23b4-4145-86e5-6b27a0507fa8.18.jpg\n",
      "Downloaded b1gbqcgk1bfajrkrfdfr/all_images/healthy/ca025e9a-23b4-4145-86e5-6b27a0507fa8.19.jpg to all_images/ca025e9a-23b4-4145-86e5-6b27a0507fa8.19.jpg\n",
      "Downloaded b1gbqcgk1bfajrkrfdfr/all_images/healthy/ca025e9a-23b4-4145-86e5-6b27a0507fa8.2.jpg to all_images/ca025e9a-23b4-4145-86e5-6b27a0507fa8.2.jpg\n",
      "Downloaded b1gbqcgk1bfajrkrfdfr/all_images/healthy/ca025e9a-23b4-4145-86e5-6b27a0507fa8.3.jpg to all_images/ca025e9a-23b4-4145-86e5-6b27a0507fa8.3.jpg\n",
      "Downloaded b1gbqcgk1bfajrkrfdfr/all_images/healthy/ca025e9a-23b4-4145-86e5-6b27a0507fa8.4.jpg to all_images/ca025e9a-23b4-4145-86e5-6b27a0507fa8.4.jpg\n",
      "Downloaded b1gbqcgk1bfajrkrfdfr/all_images/healthy/ca025e9a-23b4-4145-86e5-6b27a0507fa8.5.jpg to all_images/ca025e9a-23b4-4145-86e5-6b27a0507fa8.5.jpg\n",
      "Downloaded b1gbqcgk1bfajrkrfdfr/all_images/healthy/ca025e9a-23b4-4145-86e5-6b27a0507fa8.6.jpg to all_images/ca025e9a-23b4-4145-86e5-6b27a0507fa8.6.jpg\n",
      "Downloaded b1gbqcgk1bfajrkrfdfr/all_images/healthy/ca025e9a-23b4-4145-86e5-6b27a0507fa8.7.jpg to all_images/ca025e9a-23b4-4145-86e5-6b27a0507fa8.7.jpg\n",
      "Downloaded b1gbqcgk1bfajrkrfdfr/all_images/healthy/ca025e9a-23b4-4145-86e5-6b27a0507fa8.8.jpg to all_images/ca025e9a-23b4-4145-86e5-6b27a0507fa8.8.jpg\n",
      "Downloaded b1gbqcgk1bfajrkrfdfr/all_images/healthy/ca025e9a-23b4-4145-86e5-6b27a0507fa8.9.jpg to all_images/ca025e9a-23b4-4145-86e5-6b27a0507fa8.9.jpg\n",
      "Downloaded b1gbqcgk1bfajrkrfdfr/all_images/healthy/da55f4c7-db52-4850-966f-fab386a8a45e.1.jpg to all_images/da55f4c7-db52-4850-966f-fab386a8a45e.1.jpg\n",
      "Downloaded b1gbqcgk1bfajrkrfdfr/all_images/healthy/da55f4c7-db52-4850-966f-fab386a8a45e.2.jpg to all_images/da55f4c7-db52-4850-966f-fab386a8a45e.2.jpg\n",
      "Downloaded b1gbqcgk1bfajrkrfdfr/all_images/healthy/da55f4c7-db52-4850-966f-fab386a8a45e.3.jpg to all_images/da55f4c7-db52-4850-966f-fab386a8a45e.3.jpg\n",
      "Downloaded b1gbqcgk1bfajrkrfdfr/all_images/healthy/da55f4c7-db52-4850-966f-fab386a8a45e.4.jpg to all_images/da55f4c7-db52-4850-966f-fab386a8a45e.4.jpg\n",
      "Downloaded b1gbqcgk1bfajrkrfdfr/all_images/healthy/da55f4c7-db52-4850-966f-fab386a8a45e.5.jpg to all_images/da55f4c7-db52-4850-966f-fab386a8a45e.5.jpg\n",
      "Downloaded b1gbqcgk1bfajrkrfdfr/all_images/healthy/da55f4c7-db52-4850-966f-fab386a8a45e.6.jpg to all_images/da55f4c7-db52-4850-966f-fab386a8a45e.6.jpg\n",
      "Downloaded b1gbqcgk1bfajrkrfdfr/all_images/healthy/da55f4c7-db52-4850-966f-fab386a8a45e.7.jpg to all_images/da55f4c7-db52-4850-966f-fab386a8a45e.7.jpg\n",
      "Downloaded b1gbqcgk1bfajrkrfdfr/all_images/healthy/e0333dfe-6f4d-4443-9b3b-7bef35fc3693.1.jpg to all_images/e0333dfe-6f4d-4443-9b3b-7bef35fc3693.1.jpg\n",
      "Downloaded b1gbqcgk1bfajrkrfdfr/all_images/healthy/e0333dfe-6f4d-4443-9b3b-7bef35fc3693.10.jpg to all_images/e0333dfe-6f4d-4443-9b3b-7bef35fc3693.10.jpg\n",
      "Downloaded b1gbqcgk1bfajrkrfdfr/all_images/healthy/e0333dfe-6f4d-4443-9b3b-7bef35fc3693.11.jpg to all_images/e0333dfe-6f4d-4443-9b3b-7bef35fc3693.11.jpg\n",
      "Downloaded b1gbqcgk1bfajrkrfdfr/all_images/healthy/e0333dfe-6f4d-4443-9b3b-7bef35fc3693.2.jpg to all_images/e0333dfe-6f4d-4443-9b3b-7bef35fc3693.2.jpg\n",
      "Downloaded b1gbqcgk1bfajrkrfdfr/all_images/healthy/e0333dfe-6f4d-4443-9b3b-7bef35fc3693.3.jpg to all_images/e0333dfe-6f4d-4443-9b3b-7bef35fc3693.3.jpg\n",
      "Downloaded b1gbqcgk1bfajrkrfdfr/all_images/healthy/e0333dfe-6f4d-4443-9b3b-7bef35fc3693.4.jpg to all_images/e0333dfe-6f4d-4443-9b3b-7bef35fc3693.4.jpg\n",
      "Downloaded b1gbqcgk1bfajrkrfdfr/all_images/healthy/e0333dfe-6f4d-4443-9b3b-7bef35fc3693.5.jpg to all_images/e0333dfe-6f4d-4443-9b3b-7bef35fc3693.5.jpg\n",
      "Downloaded b1gbqcgk1bfajrkrfdfr/all_images/healthy/e0333dfe-6f4d-4443-9b3b-7bef35fc3693.6.jpg to all_images/e0333dfe-6f4d-4443-9b3b-7bef35fc3693.6.jpg\n",
      "Downloaded b1gbqcgk1bfajrkrfdfr/all_images/healthy/e0333dfe-6f4d-4443-9b3b-7bef35fc3693.7.jpg to all_images/e0333dfe-6f4d-4443-9b3b-7bef35fc3693.7.jpg\n",
      "Downloaded b1gbqcgk1bfajrkrfdfr/all_images/healthy/e0333dfe-6f4d-4443-9b3b-7bef35fc3693.8.jpg to all_images/e0333dfe-6f4d-4443-9b3b-7bef35fc3693.8.jpg\n",
      "Downloaded b1gbqcgk1bfajrkrfdfr/all_images/healthy/e0333dfe-6f4d-4443-9b3b-7bef35fc3693.9.jpg to all_images/e0333dfe-6f4d-4443-9b3b-7bef35fc3693.9.jpg\n",
      "Downloaded b1gbqcgk1bfajrkrfdfr/all_images/healthy/e33ccd72-1745-4338-b0f1-916444b38980.3.jpg to all_images/e33ccd72-1745-4338-b0f1-916444b38980.3.jpg\n",
      "Downloaded b1gbqcgk1bfajrkrfdfr/all_images/healthy/e33ccd72-1745-4338-b0f1-916444b38980.4.jpg to all_images/e33ccd72-1745-4338-b0f1-916444b38980.4.jpg\n",
      "Downloaded b1gbqcgk1bfajrkrfdfr/all_images/healthy/f5a22350-8b3d-45ce-90c0-a005ef4f8195.1.jpg to all_images/f5a22350-8b3d-45ce-90c0-a005ef4f8195.1.jpg\n",
      "Downloaded b1gbqcgk1bfajrkrfdfr/all_images/healthy/f5a22350-8b3d-45ce-90c0-a005ef4f8195.2.jpg to all_images/f5a22350-8b3d-45ce-90c0-a005ef4f8195.2.jpg\n",
      "Downloaded b1gbqcgk1bfajrkrfdfr/all_images/healthy/f5a22350-8b3d-45ce-90c0-a005ef4f8195.3.jpg to all_images/f5a22350-8b3d-45ce-90c0-a005ef4f8195.3.jpg\n",
      "Downloaded b1gbqcgk1bfajrkrfdfr/all_images/healthy/f5a22350-8b3d-45ce-90c0-a005ef4f8195.4.jpg to all_images/f5a22350-8b3d-45ce-90c0-a005ef4f8195.4.jpg\n",
      "Downloaded b1gbqcgk1bfajrkrfdfr/all_images/healthy/f5a22350-8b3d-45ce-90c0-a005ef4f8195.5.jpg to all_images/f5a22350-8b3d-45ce-90c0-a005ef4f8195.5.jpg\n",
      "Downloaded b1gbqcgk1bfajrkrfdfr/all_images/healthy/f5a22350-8b3d-45ce-90c0-a005ef4f8195.6.jpg to all_images/f5a22350-8b3d-45ce-90c0-a005ef4f8195.6.jpg\n",
      "Downloaded b1gbqcgk1bfajrkrfdfr/all_images/healthy/f5a22350-8b3d-45ce-90c0-a005ef4f8195.8.jpg to all_images/f5a22350-8b3d-45ce-90c0-a005ef4f8195.8.jpg\n",
      "Downloaded b1gbqcgk1bfajrkrfdfr/all_images/healthy/f5a22350-8b3d-45ce-90c0-a005ef4f8195.9.jpg to all_images/f5a22350-8b3d-45ce-90c0-a005ef4f8195.9.jpg\n",
      "Downloaded b1gbqcgk1bfajrkrfdfr/all_images/unhealthy/0632a33c-a509-4351-90c1-bce17bef7f85.1.jpg to all_images/0632a33c-a509-4351-90c1-bce17bef7f85.1.jpg\n",
      "Downloaded b1gbqcgk1bfajrkrfdfr/all_images/unhealthy/0632a33c-a509-4351-90c1-bce17bef7f85.10.jpg to all_images/0632a33c-a509-4351-90c1-bce17bef7f85.10.jpg\n",
      "Downloaded b1gbqcgk1bfajrkrfdfr/all_images/unhealthy/0632a33c-a509-4351-90c1-bce17bef7f85.2.jpg to all_images/0632a33c-a509-4351-90c1-bce17bef7f85.2.jpg\n",
      "Downloaded b1gbqcgk1bfajrkrfdfr/all_images/unhealthy/0632a33c-a509-4351-90c1-bce17bef7f85.3.jpg to all_images/0632a33c-a509-4351-90c1-bce17bef7f85.3.jpg\n",
      "Downloaded b1gbqcgk1bfajrkrfdfr/all_images/unhealthy/0632a33c-a509-4351-90c1-bce17bef7f85.4.jpg to all_images/0632a33c-a509-4351-90c1-bce17bef7f85.4.jpg\n",
      "Downloaded b1gbqcgk1bfajrkrfdfr/all_images/unhealthy/0632a33c-a509-4351-90c1-bce17bef7f85.5.jpg to all_images/0632a33c-a509-4351-90c1-bce17bef7f85.5.jpg\n",
      "Downloaded b1gbqcgk1bfajrkrfdfr/all_images/unhealthy/0632a33c-a509-4351-90c1-bce17bef7f85.6.jpg to all_images/0632a33c-a509-4351-90c1-bce17bef7f85.6.jpg\n",
      "Downloaded b1gbqcgk1bfajrkrfdfr/all_images/unhealthy/0632a33c-a509-4351-90c1-bce17bef7f85.7.jpg to all_images/0632a33c-a509-4351-90c1-bce17bef7f85.7.jpg\n",
      "Downloaded b1gbqcgk1bfajrkrfdfr/all_images/unhealthy/0632a33c-a509-4351-90c1-bce17bef7f85.8.jpg to all_images/0632a33c-a509-4351-90c1-bce17bef7f85.8.jpg\n",
      "Downloaded b1gbqcgk1bfajrkrfdfr/all_images/unhealthy/0632a33c-a509-4351-90c1-bce17bef7f85.9.jpg to all_images/0632a33c-a509-4351-90c1-bce17bef7f85.9.jpg\n",
      "Downloaded b1gbqcgk1bfajrkrfdfr/all_images/unhealthy/0938d41d-37b0-4e4d-bf2c-0158480650a8.1.jpg to all_images/0938d41d-37b0-4e4d-bf2c-0158480650a8.1.jpg\n",
      "Downloaded b1gbqcgk1bfajrkrfdfr/all_images/unhealthy/0938d41d-37b0-4e4d-bf2c-0158480650a8.2.jpg to all_images/0938d41d-37b0-4e4d-bf2c-0158480650a8.2.jpg\n",
      "Downloaded b1gbqcgk1bfajrkrfdfr/all_images/unhealthy/0938d41d-37b0-4e4d-bf2c-0158480650a8.3.jpg to all_images/0938d41d-37b0-4e4d-bf2c-0158480650a8.3.jpg\n",
      "Downloaded b1gbqcgk1bfajrkrfdfr/all_images/unhealthy/0938d41d-37b0-4e4d-bf2c-0158480650a8.4.jpg to all_images/0938d41d-37b0-4e4d-bf2c-0158480650a8.4.jpg\n",
      "Downloaded b1gbqcgk1bfajrkrfdfr/all_images/unhealthy/0938d41d-37b0-4e4d-bf2c-0158480650a8.5.jpg to all_images/0938d41d-37b0-4e4d-bf2c-0158480650a8.5.jpg\n",
      "Downloaded b1gbqcgk1bfajrkrfdfr/all_images/unhealthy/0938d41d-37b0-4e4d-bf2c-0158480650a8.6.jpg to all_images/0938d41d-37b0-4e4d-bf2c-0158480650a8.6.jpg\n",
      "Downloaded b1gbqcgk1bfajrkrfdfr/all_images/unhealthy/0938d41d-37b0-4e4d-bf2c-0158480650a8.7.jpg to all_images/0938d41d-37b0-4e4d-bf2c-0158480650a8.7.jpg\n",
      "Downloaded b1gbqcgk1bfajrkrfdfr/all_images/unhealthy/0938d41d-37b0-4e4d-bf2c-0158480650a8.8.jpg to all_images/0938d41d-37b0-4e4d-bf2c-0158480650a8.8.jpg\n",
      "Downloaded b1gbqcgk1bfajrkrfdfr/all_images/unhealthy/0938d41d-37b0-4e4d-bf2c-0158480650a8.9.jpg to all_images/0938d41d-37b0-4e4d-bf2c-0158480650a8.9.jpg\n",
      "Downloaded b1gbqcgk1bfajrkrfdfr/all_images/unhealthy/116af6c3-9a3f-45be-8b99-6457ab325b53.1.jpg to all_images/116af6c3-9a3f-45be-8b99-6457ab325b53.1.jpg\n",
      "Downloaded b1gbqcgk1bfajrkrfdfr/all_images/unhealthy/116af6c3-9a3f-45be-8b99-6457ab325b53.10.jpg to all_images/116af6c3-9a3f-45be-8b99-6457ab325b53.10.jpg\n",
      "Downloaded b1gbqcgk1bfajrkrfdfr/all_images/unhealthy/116af6c3-9a3f-45be-8b99-6457ab325b53.11.jpg to all_images/116af6c3-9a3f-45be-8b99-6457ab325b53.11.jpg\n",
      "Downloaded b1gbqcgk1bfajrkrfdfr/all_images/unhealthy/116af6c3-9a3f-45be-8b99-6457ab325b53.12.jpg to all_images/116af6c3-9a3f-45be-8b99-6457ab325b53.12.jpg\n",
      "Downloaded b1gbqcgk1bfajrkrfdfr/all_images/unhealthy/116af6c3-9a3f-45be-8b99-6457ab325b53.13.jpg to all_images/116af6c3-9a3f-45be-8b99-6457ab325b53.13.jpg\n",
      "Downloaded b1gbqcgk1bfajrkrfdfr/all_images/unhealthy/116af6c3-9a3f-45be-8b99-6457ab325b53.14.jpg to all_images/116af6c3-9a3f-45be-8b99-6457ab325b53.14.jpg\n",
      "Downloaded b1gbqcgk1bfajrkrfdfr/all_images/unhealthy/116af6c3-9a3f-45be-8b99-6457ab325b53.15.jpg to all_images/116af6c3-9a3f-45be-8b99-6457ab325b53.15.jpg\n",
      "Downloaded b1gbqcgk1bfajrkrfdfr/all_images/unhealthy/116af6c3-9a3f-45be-8b99-6457ab325b53.16.jpg to all_images/116af6c3-9a3f-45be-8b99-6457ab325b53.16.jpg\n",
      "Downloaded b1gbqcgk1bfajrkrfdfr/all_images/unhealthy/116af6c3-9a3f-45be-8b99-6457ab325b53.17.jpg to all_images/116af6c3-9a3f-45be-8b99-6457ab325b53.17.jpg\n",
      "Downloaded b1gbqcgk1bfajrkrfdfr/all_images/unhealthy/116af6c3-9a3f-45be-8b99-6457ab325b53.18.jpg to all_images/116af6c3-9a3f-45be-8b99-6457ab325b53.18.jpg\n",
      "Downloaded b1gbqcgk1bfajrkrfdfr/all_images/unhealthy/116af6c3-9a3f-45be-8b99-6457ab325b53.2.jpg to all_images/116af6c3-9a3f-45be-8b99-6457ab325b53.2.jpg\n",
      "Downloaded b1gbqcgk1bfajrkrfdfr/all_images/unhealthy/116af6c3-9a3f-45be-8b99-6457ab325b53.3.jpg to all_images/116af6c3-9a3f-45be-8b99-6457ab325b53.3.jpg\n",
      "Downloaded b1gbqcgk1bfajrkrfdfr/all_images/unhealthy/116af6c3-9a3f-45be-8b99-6457ab325b53.4.jpg to all_images/116af6c3-9a3f-45be-8b99-6457ab325b53.4.jpg\n",
      "Downloaded b1gbqcgk1bfajrkrfdfr/all_images/unhealthy/116af6c3-9a3f-45be-8b99-6457ab325b53.5.jpg to all_images/116af6c3-9a3f-45be-8b99-6457ab325b53.5.jpg\n",
      "Downloaded b1gbqcgk1bfajrkrfdfr/all_images/unhealthy/116af6c3-9a3f-45be-8b99-6457ab325b53.6.jpg to all_images/116af6c3-9a3f-45be-8b99-6457ab325b53.6.jpg\n",
      "Downloaded b1gbqcgk1bfajrkrfdfr/all_images/unhealthy/116af6c3-9a3f-45be-8b99-6457ab325b53.7.jpg to all_images/116af6c3-9a3f-45be-8b99-6457ab325b53.7.jpg\n",
      "Downloaded b1gbqcgk1bfajrkrfdfr/all_images/unhealthy/116af6c3-9a3f-45be-8b99-6457ab325b53.8.jpg to all_images/116af6c3-9a3f-45be-8b99-6457ab325b53.8.jpg\n",
      "Downloaded b1gbqcgk1bfajrkrfdfr/all_images/unhealthy/116af6c3-9a3f-45be-8b99-6457ab325b53.9.jpg to all_images/116af6c3-9a3f-45be-8b99-6457ab325b53.9.jpg\n",
      "Downloaded b1gbqcgk1bfajrkrfdfr/all_images/unhealthy/16a5ed60-7d49-42eb-a364-a27d140566b1.1.jpg to all_images/16a5ed60-7d49-42eb-a364-a27d140566b1.1.jpg\n",
      "Downloaded b1gbqcgk1bfajrkrfdfr/all_images/unhealthy/16a5ed60-7d49-42eb-a364-a27d140566b1.10.jpg to all_images/16a5ed60-7d49-42eb-a364-a27d140566b1.10.jpg\n",
      "Downloaded b1gbqcgk1bfajrkrfdfr/all_images/unhealthy/16a5ed60-7d49-42eb-a364-a27d140566b1.11.jpg to all_images/16a5ed60-7d49-42eb-a364-a27d140566b1.11.jpg\n",
      "Downloaded b1gbqcgk1bfajrkrfdfr/all_images/unhealthy/16a5ed60-7d49-42eb-a364-a27d140566b1.12.jpg to all_images/16a5ed60-7d49-42eb-a364-a27d140566b1.12.jpg\n",
      "Downloaded b1gbqcgk1bfajrkrfdfr/all_images/unhealthy/16a5ed60-7d49-42eb-a364-a27d140566b1.13.jpg to all_images/16a5ed60-7d49-42eb-a364-a27d140566b1.13.jpg\n",
      "Downloaded b1gbqcgk1bfajrkrfdfr/all_images/unhealthy/16a5ed60-7d49-42eb-a364-a27d140566b1.14.jpg to all_images/16a5ed60-7d49-42eb-a364-a27d140566b1.14.jpg\n",
      "Downloaded b1gbqcgk1bfajrkrfdfr/all_images/unhealthy/16a5ed60-7d49-42eb-a364-a27d140566b1.15.jpg to all_images/16a5ed60-7d49-42eb-a364-a27d140566b1.15.jpg\n",
      "Downloaded b1gbqcgk1bfajrkrfdfr/all_images/unhealthy/16a5ed60-7d49-42eb-a364-a27d140566b1.2.jpg to all_images/16a5ed60-7d49-42eb-a364-a27d140566b1.2.jpg\n",
      "Downloaded b1gbqcgk1bfajrkrfdfr/all_images/unhealthy/16a5ed60-7d49-42eb-a364-a27d140566b1.3.jpg to all_images/16a5ed60-7d49-42eb-a364-a27d140566b1.3.jpg\n",
      "Downloaded b1gbqcgk1bfajrkrfdfr/all_images/unhealthy/16a5ed60-7d49-42eb-a364-a27d140566b1.4.jpg to all_images/16a5ed60-7d49-42eb-a364-a27d140566b1.4.jpg\n",
      "Downloaded b1gbqcgk1bfajrkrfdfr/all_images/unhealthy/16a5ed60-7d49-42eb-a364-a27d140566b1.5.jpg to all_images/16a5ed60-7d49-42eb-a364-a27d140566b1.5.jpg\n",
      "Downloaded b1gbqcgk1bfajrkrfdfr/all_images/unhealthy/16a5ed60-7d49-42eb-a364-a27d140566b1.6.jpg to all_images/16a5ed60-7d49-42eb-a364-a27d140566b1.6.jpg\n",
      "Downloaded b1gbqcgk1bfajrkrfdfr/all_images/unhealthy/16a5ed60-7d49-42eb-a364-a27d140566b1.7.jpg to all_images/16a5ed60-7d49-42eb-a364-a27d140566b1.7.jpg\n",
      "Downloaded b1gbqcgk1bfajrkrfdfr/all_images/unhealthy/16a5ed60-7d49-42eb-a364-a27d140566b1.8.jpg to all_images/16a5ed60-7d49-42eb-a364-a27d140566b1.8.jpg\n",
      "Downloaded b1gbqcgk1bfajrkrfdfr/all_images/unhealthy/16a5ed60-7d49-42eb-a364-a27d140566b1.9.jpg to all_images/16a5ed60-7d49-42eb-a364-a27d140566b1.9.jpg\n",
      "Downloaded b1gbqcgk1bfajrkrfdfr/all_images/unhealthy/1c8f7542-4368-4877-9087-125a67723f2d.1.jpg to all_images/1c8f7542-4368-4877-9087-125a67723f2d.1.jpg\n",
      "Downloaded b1gbqcgk1bfajrkrfdfr/all_images/unhealthy/1c8f7542-4368-4877-9087-125a67723f2d.10.jpg to all_images/1c8f7542-4368-4877-9087-125a67723f2d.10.jpg\n",
      "Downloaded b1gbqcgk1bfajrkrfdfr/all_images/unhealthy/1c8f7542-4368-4877-9087-125a67723f2d.11.jpg to all_images/1c8f7542-4368-4877-9087-125a67723f2d.11.jpg\n",
      "Downloaded b1gbqcgk1bfajrkrfdfr/all_images/unhealthy/1c8f7542-4368-4877-9087-125a67723f2d.12.jpg to all_images/1c8f7542-4368-4877-9087-125a67723f2d.12.jpg\n",
      "Downloaded b1gbqcgk1bfajrkrfdfr/all_images/unhealthy/1c8f7542-4368-4877-9087-125a67723f2d.13.jpg to all_images/1c8f7542-4368-4877-9087-125a67723f2d.13.jpg\n",
      "Downloaded b1gbqcgk1bfajrkrfdfr/all_images/unhealthy/1c8f7542-4368-4877-9087-125a67723f2d.14.jpg to all_images/1c8f7542-4368-4877-9087-125a67723f2d.14.jpg\n",
      "Downloaded b1gbqcgk1bfajrkrfdfr/all_images/unhealthy/1c8f7542-4368-4877-9087-125a67723f2d.15.jpg to all_images/1c8f7542-4368-4877-9087-125a67723f2d.15.jpg\n",
      "Downloaded b1gbqcgk1bfajrkrfdfr/all_images/unhealthy/1c8f7542-4368-4877-9087-125a67723f2d.16.jpg to all_images/1c8f7542-4368-4877-9087-125a67723f2d.16.jpg\n",
      "Downloaded b1gbqcgk1bfajrkrfdfr/all_images/unhealthy/1c8f7542-4368-4877-9087-125a67723f2d.17.jpg to all_images/1c8f7542-4368-4877-9087-125a67723f2d.17.jpg\n",
      "Downloaded b1gbqcgk1bfajrkrfdfr/all_images/unhealthy/1c8f7542-4368-4877-9087-125a67723f2d.18.jpg to all_images/1c8f7542-4368-4877-9087-125a67723f2d.18.jpg\n",
      "Downloaded b1gbqcgk1bfajrkrfdfr/all_images/unhealthy/1c8f7542-4368-4877-9087-125a67723f2d.19.jpg to all_images/1c8f7542-4368-4877-9087-125a67723f2d.19.jpg\n",
      "Downloaded b1gbqcgk1bfajrkrfdfr/all_images/unhealthy/1c8f7542-4368-4877-9087-125a67723f2d.2.jpg to all_images/1c8f7542-4368-4877-9087-125a67723f2d.2.jpg\n",
      "Downloaded b1gbqcgk1bfajrkrfdfr/all_images/unhealthy/1c8f7542-4368-4877-9087-125a67723f2d.20.jpg to all_images/1c8f7542-4368-4877-9087-125a67723f2d.20.jpg\n",
      "Downloaded b1gbqcgk1bfajrkrfdfr/all_images/unhealthy/1c8f7542-4368-4877-9087-125a67723f2d.21.jpg to all_images/1c8f7542-4368-4877-9087-125a67723f2d.21.jpg\n",
      "Downloaded b1gbqcgk1bfajrkrfdfr/all_images/unhealthy/1c8f7542-4368-4877-9087-125a67723f2d.22.jpg to all_images/1c8f7542-4368-4877-9087-125a67723f2d.22.jpg\n",
      "Downloaded b1gbqcgk1bfajrkrfdfr/all_images/unhealthy/1c8f7542-4368-4877-9087-125a67723f2d.23.jpg to all_images/1c8f7542-4368-4877-9087-125a67723f2d.23.jpg\n",
      "Downloaded b1gbqcgk1bfajrkrfdfr/all_images/unhealthy/1c8f7542-4368-4877-9087-125a67723f2d.24.jpg to all_images/1c8f7542-4368-4877-9087-125a67723f2d.24.jpg\n",
      "Downloaded b1gbqcgk1bfajrkrfdfr/all_images/unhealthy/1c8f7542-4368-4877-9087-125a67723f2d.3.jpg to all_images/1c8f7542-4368-4877-9087-125a67723f2d.3.jpg\n",
      "Downloaded b1gbqcgk1bfajrkrfdfr/all_images/unhealthy/1c8f7542-4368-4877-9087-125a67723f2d.4.jpg to all_images/1c8f7542-4368-4877-9087-125a67723f2d.4.jpg\n",
      "Downloaded b1gbqcgk1bfajrkrfdfr/all_images/unhealthy/1c8f7542-4368-4877-9087-125a67723f2d.5.jpg to all_images/1c8f7542-4368-4877-9087-125a67723f2d.5.jpg\n",
      "Downloaded b1gbqcgk1bfajrkrfdfr/all_images/unhealthy/1c8f7542-4368-4877-9087-125a67723f2d.6.jpg to all_images/1c8f7542-4368-4877-9087-125a67723f2d.6.jpg\n",
      "Downloaded b1gbqcgk1bfajrkrfdfr/all_images/unhealthy/1c8f7542-4368-4877-9087-125a67723f2d.7.jpg to all_images/1c8f7542-4368-4877-9087-125a67723f2d.7.jpg\n",
      "Downloaded b1gbqcgk1bfajrkrfdfr/all_images/unhealthy/1c8f7542-4368-4877-9087-125a67723f2d.8.jpg to all_images/1c8f7542-4368-4877-9087-125a67723f2d.8.jpg\n",
      "Downloaded b1gbqcgk1bfajrkrfdfr/all_images/unhealthy/1c8f7542-4368-4877-9087-125a67723f2d.9.jpg to all_images/1c8f7542-4368-4877-9087-125a67723f2d.9.jpg\n",
      "Downloaded b1gbqcgk1bfajrkrfdfr/all_images/unhealthy/1d980cff-7c95-4e96-82f7-1c04256e2105.1.jpg to all_images/1d980cff-7c95-4e96-82f7-1c04256e2105.1.jpg\n",
      "Downloaded b1gbqcgk1bfajrkrfdfr/all_images/unhealthy/1d980cff-7c95-4e96-82f7-1c04256e2105.2.jpg to all_images/1d980cff-7c95-4e96-82f7-1c04256e2105.2.jpg\n",
      "Downloaded b1gbqcgk1bfajrkrfdfr/all_images/unhealthy/1d980cff-7c95-4e96-82f7-1c04256e2105.3.jpg to all_images/1d980cff-7c95-4e96-82f7-1c04256e2105.3.jpg\n",
      "Downloaded b1gbqcgk1bfajrkrfdfr/all_images/unhealthy/1d980cff-7c95-4e96-82f7-1c04256e2105.4.jpg to all_images/1d980cff-7c95-4e96-82f7-1c04256e2105.4.jpg\n",
      "Downloaded b1gbqcgk1bfajrkrfdfr/all_images/unhealthy/1d980cff-7c95-4e96-82f7-1c04256e2105.5.jpg to all_images/1d980cff-7c95-4e96-82f7-1c04256e2105.5.jpg\n",
      "Downloaded b1gbqcgk1bfajrkrfdfr/all_images/unhealthy/1d980cff-7c95-4e96-82f7-1c04256e2105.6.jpg to all_images/1d980cff-7c95-4e96-82f7-1c04256e2105.6.jpg\n",
      "Downloaded b1gbqcgk1bfajrkrfdfr/all_images/unhealthy/1d980cff-7c95-4e96-82f7-1c04256e2105.7.jpg to all_images/1d980cff-7c95-4e96-82f7-1c04256e2105.7.jpg\n",
      "Downloaded b1gbqcgk1bfajrkrfdfr/all_images/unhealthy/1d980cff-7c95-4e96-82f7-1c04256e2105.8.jpg to all_images/1d980cff-7c95-4e96-82f7-1c04256e2105.8.jpg\n",
      "Downloaded b1gbqcgk1bfajrkrfdfr/all_images/unhealthy/1d980cff-7c95-4e96-82f7-1c04256e2105.9.jpg to all_images/1d980cff-7c95-4e96-82f7-1c04256e2105.9.jpg\n",
      "Downloaded b1gbqcgk1bfajrkrfdfr/all_images/unhealthy/23f7d2f8-c6b1-471d-9686-0b09f16e8535.1.jpg to all_images/23f7d2f8-c6b1-471d-9686-0b09f16e8535.1.jpg\n",
      "Downloaded b1gbqcgk1bfajrkrfdfr/all_images/unhealthy/23f7d2f8-c6b1-471d-9686-0b09f16e8535.2.jpg to all_images/23f7d2f8-c6b1-471d-9686-0b09f16e8535.2.jpg\n",
      "Downloaded b1gbqcgk1bfajrkrfdfr/all_images/unhealthy/23f7d2f8-c6b1-471d-9686-0b09f16e8535.3.jpg to all_images/23f7d2f8-c6b1-471d-9686-0b09f16e8535.3.jpg\n",
      "Downloaded b1gbqcgk1bfajrkrfdfr/all_images/unhealthy/23f7d2f8-c6b1-471d-9686-0b09f16e8535.4.jpg to all_images/23f7d2f8-c6b1-471d-9686-0b09f16e8535.4.jpg\n",
      "Downloaded b1gbqcgk1bfajrkrfdfr/all_images/unhealthy/23f7d2f8-c6b1-471d-9686-0b09f16e8535.5.jpg to all_images/23f7d2f8-c6b1-471d-9686-0b09f16e8535.5.jpg\n",
      "Downloaded b1gbqcgk1bfajrkrfdfr/all_images/unhealthy/23f7d2f8-c6b1-471d-9686-0b09f16e8535.6.jpg to all_images/23f7d2f8-c6b1-471d-9686-0b09f16e8535.6.jpg\n",
      "Downloaded b1gbqcgk1bfajrkrfdfr/all_images/unhealthy/23f7d2f8-c6b1-471d-9686-0b09f16e8535.7.jpg to all_images/23f7d2f8-c6b1-471d-9686-0b09f16e8535.7.jpg\n",
      "Downloaded b1gbqcgk1bfajrkrfdfr/all_images/unhealthy/23f7d2f8-c6b1-471d-9686-0b09f16e8535.8.jpg to all_images/23f7d2f8-c6b1-471d-9686-0b09f16e8535.8.jpg\n",
      "Downloaded b1gbqcgk1bfajrkrfdfr/all_images/unhealthy/23f7d2f8-c6b1-471d-9686-0b09f16e8535.9.jpg to all_images/23f7d2f8-c6b1-471d-9686-0b09f16e8535.9.jpg\n",
      "Downloaded b1gbqcgk1bfajrkrfdfr/all_images/unhealthy/2b47ca79-d753-42ab-9d3f-a48058fcdead.1.jpg to all_images/2b47ca79-d753-42ab-9d3f-a48058fcdead.1.jpg\n",
      "Downloaded b1gbqcgk1bfajrkrfdfr/all_images/unhealthy/2b47ca79-d753-42ab-9d3f-a48058fcdead.10.jpg to all_images/2b47ca79-d753-42ab-9d3f-a48058fcdead.10.jpg\n",
      "Downloaded b1gbqcgk1bfajrkrfdfr/all_images/unhealthy/2b47ca79-d753-42ab-9d3f-a48058fcdead.11.jpg to all_images/2b47ca79-d753-42ab-9d3f-a48058fcdead.11.jpg\n",
      "Downloaded b1gbqcgk1bfajrkrfdfr/all_images/unhealthy/2b47ca79-d753-42ab-9d3f-a48058fcdead.12.jpg to all_images/2b47ca79-d753-42ab-9d3f-a48058fcdead.12.jpg\n",
      "Downloaded b1gbqcgk1bfajrkrfdfr/all_images/unhealthy/2b47ca79-d753-42ab-9d3f-a48058fcdead.13.jpg to all_images/2b47ca79-d753-42ab-9d3f-a48058fcdead.13.jpg\n",
      "Downloaded b1gbqcgk1bfajrkrfdfr/all_images/unhealthy/2b47ca79-d753-42ab-9d3f-a48058fcdead.14.jpg to all_images/2b47ca79-d753-42ab-9d3f-a48058fcdead.14.jpg\n",
      "Downloaded b1gbqcgk1bfajrkrfdfr/all_images/unhealthy/2b47ca79-d753-42ab-9d3f-a48058fcdead.15.jpg to all_images/2b47ca79-d753-42ab-9d3f-a48058fcdead.15.jpg\n",
      "Downloaded b1gbqcgk1bfajrkrfdfr/all_images/unhealthy/2b47ca79-d753-42ab-9d3f-a48058fcdead.16.jpg to all_images/2b47ca79-d753-42ab-9d3f-a48058fcdead.16.jpg\n",
      "Downloaded b1gbqcgk1bfajrkrfdfr/all_images/unhealthy/2b47ca79-d753-42ab-9d3f-a48058fcdead.17.jpg to all_images/2b47ca79-d753-42ab-9d3f-a48058fcdead.17.jpg\n",
      "Downloaded b1gbqcgk1bfajrkrfdfr/all_images/unhealthy/2b47ca79-d753-42ab-9d3f-a48058fcdead.18.jpg to all_images/2b47ca79-d753-42ab-9d3f-a48058fcdead.18.jpg\n",
      "Downloaded b1gbqcgk1bfajrkrfdfr/all_images/unhealthy/2b47ca79-d753-42ab-9d3f-a48058fcdead.2.jpg to all_images/2b47ca79-d753-42ab-9d3f-a48058fcdead.2.jpg\n",
      "Downloaded b1gbqcgk1bfajrkrfdfr/all_images/unhealthy/2b47ca79-d753-42ab-9d3f-a48058fcdead.3.jpg to all_images/2b47ca79-d753-42ab-9d3f-a48058fcdead.3.jpg\n",
      "Downloaded b1gbqcgk1bfajrkrfdfr/all_images/unhealthy/2b47ca79-d753-42ab-9d3f-a48058fcdead.4.jpg to all_images/2b47ca79-d753-42ab-9d3f-a48058fcdead.4.jpg\n",
      "Downloaded b1gbqcgk1bfajrkrfdfr/all_images/unhealthy/2b47ca79-d753-42ab-9d3f-a48058fcdead.5.jpg to all_images/2b47ca79-d753-42ab-9d3f-a48058fcdead.5.jpg\n",
      "Downloaded b1gbqcgk1bfajrkrfdfr/all_images/unhealthy/2b47ca79-d753-42ab-9d3f-a48058fcdead.6.jpg to all_images/2b47ca79-d753-42ab-9d3f-a48058fcdead.6.jpg\n",
      "Downloaded b1gbqcgk1bfajrkrfdfr/all_images/unhealthy/2b47ca79-d753-42ab-9d3f-a48058fcdead.7.jpg to all_images/2b47ca79-d753-42ab-9d3f-a48058fcdead.7.jpg\n",
      "Downloaded b1gbqcgk1bfajrkrfdfr/all_images/unhealthy/2b47ca79-d753-42ab-9d3f-a48058fcdead.8.jpg to all_images/2b47ca79-d753-42ab-9d3f-a48058fcdead.8.jpg\n",
      "Downloaded b1gbqcgk1bfajrkrfdfr/all_images/unhealthy/2b47ca79-d753-42ab-9d3f-a48058fcdead.9.jpg to all_images/2b47ca79-d753-42ab-9d3f-a48058fcdead.9.jpg\n",
      "Downloaded b1gbqcgk1bfajrkrfdfr/all_images/unhealthy/36715475-f186-49a2-a195-e1a3b10caa29.1.jpg to all_images/36715475-f186-49a2-a195-e1a3b10caa29.1.jpg\n",
      "Downloaded b1gbqcgk1bfajrkrfdfr/all_images/unhealthy/36715475-f186-49a2-a195-e1a3b10caa29.10.jpg to all_images/36715475-f186-49a2-a195-e1a3b10caa29.10.jpg\n",
      "Downloaded b1gbqcgk1bfajrkrfdfr/all_images/unhealthy/36715475-f186-49a2-a195-e1a3b10caa29.11.jpg to all_images/36715475-f186-49a2-a195-e1a3b10caa29.11.jpg\n",
      "Downloaded b1gbqcgk1bfajrkrfdfr/all_images/unhealthy/36715475-f186-49a2-a195-e1a3b10caa29.12.jpg to all_images/36715475-f186-49a2-a195-e1a3b10caa29.12.jpg\n",
      "Downloaded b1gbqcgk1bfajrkrfdfr/all_images/unhealthy/36715475-f186-49a2-a195-e1a3b10caa29.13.jpg to all_images/36715475-f186-49a2-a195-e1a3b10caa29.13.jpg\n",
      "Downloaded b1gbqcgk1bfajrkrfdfr/all_images/unhealthy/36715475-f186-49a2-a195-e1a3b10caa29.14.jpg to all_images/36715475-f186-49a2-a195-e1a3b10caa29.14.jpg\n",
      "Downloaded b1gbqcgk1bfajrkrfdfr/all_images/unhealthy/36715475-f186-49a2-a195-e1a3b10caa29.15.jpg to all_images/36715475-f186-49a2-a195-e1a3b10caa29.15.jpg\n",
      "Downloaded b1gbqcgk1bfajrkrfdfr/all_images/unhealthy/36715475-f186-49a2-a195-e1a3b10caa29.16.jpg to all_images/36715475-f186-49a2-a195-e1a3b10caa29.16.jpg\n",
      "Downloaded b1gbqcgk1bfajrkrfdfr/all_images/unhealthy/36715475-f186-49a2-a195-e1a3b10caa29.17.jpg to all_images/36715475-f186-49a2-a195-e1a3b10caa29.17.jpg\n",
      "Downloaded b1gbqcgk1bfajrkrfdfr/all_images/unhealthy/36715475-f186-49a2-a195-e1a3b10caa29.18.jpg to all_images/36715475-f186-49a2-a195-e1a3b10caa29.18.jpg\n",
      "Downloaded b1gbqcgk1bfajrkrfdfr/all_images/unhealthy/36715475-f186-49a2-a195-e1a3b10caa29.19.jpg to all_images/36715475-f186-49a2-a195-e1a3b10caa29.19.jpg\n",
      "Downloaded b1gbqcgk1bfajrkrfdfr/all_images/unhealthy/36715475-f186-49a2-a195-e1a3b10caa29.2.jpg to all_images/36715475-f186-49a2-a195-e1a3b10caa29.2.jpg\n",
      "Downloaded b1gbqcgk1bfajrkrfdfr/all_images/unhealthy/36715475-f186-49a2-a195-e1a3b10caa29.20.jpg to all_images/36715475-f186-49a2-a195-e1a3b10caa29.20.jpg\n",
      "Downloaded b1gbqcgk1bfajrkrfdfr/all_images/unhealthy/36715475-f186-49a2-a195-e1a3b10caa29.21.jpg to all_images/36715475-f186-49a2-a195-e1a3b10caa29.21.jpg\n",
      "Downloaded b1gbqcgk1bfajrkrfdfr/all_images/unhealthy/36715475-f186-49a2-a195-e1a3b10caa29.22.jpg to all_images/36715475-f186-49a2-a195-e1a3b10caa29.22.jpg\n",
      "Downloaded b1gbqcgk1bfajrkrfdfr/all_images/unhealthy/36715475-f186-49a2-a195-e1a3b10caa29.3.jpg to all_images/36715475-f186-49a2-a195-e1a3b10caa29.3.jpg\n",
      "Downloaded b1gbqcgk1bfajrkrfdfr/all_images/unhealthy/36715475-f186-49a2-a195-e1a3b10caa29.4.jpg to all_images/36715475-f186-49a2-a195-e1a3b10caa29.4.jpg\n",
      "Downloaded b1gbqcgk1bfajrkrfdfr/all_images/unhealthy/36715475-f186-49a2-a195-e1a3b10caa29.5.jpg to all_images/36715475-f186-49a2-a195-e1a3b10caa29.5.jpg\n",
      "Downloaded b1gbqcgk1bfajrkrfdfr/all_images/unhealthy/36715475-f186-49a2-a195-e1a3b10caa29.6.jpg to all_images/36715475-f186-49a2-a195-e1a3b10caa29.6.jpg\n",
      "Downloaded b1gbqcgk1bfajrkrfdfr/all_images/unhealthy/36715475-f186-49a2-a195-e1a3b10caa29.7.jpg to all_images/36715475-f186-49a2-a195-e1a3b10caa29.7.jpg\n",
      "Downloaded b1gbqcgk1bfajrkrfdfr/all_images/unhealthy/36715475-f186-49a2-a195-e1a3b10caa29.8.jpg to all_images/36715475-f186-49a2-a195-e1a3b10caa29.8.jpg\n",
      "Downloaded b1gbqcgk1bfajrkrfdfr/all_images/unhealthy/36715475-f186-49a2-a195-e1a3b10caa29.9.jpg to all_images/36715475-f186-49a2-a195-e1a3b10caa29.9.jpg\n",
      "Downloaded b1gbqcgk1bfajrkrfdfr/all_images/unhealthy/41ea8744-371e-4581-9ba5-a02bef6ff7b8.1.jpg to all_images/41ea8744-371e-4581-9ba5-a02bef6ff7b8.1.jpg\n",
      "Downloaded b1gbqcgk1bfajrkrfdfr/all_images/unhealthy/41ea8744-371e-4581-9ba5-a02bef6ff7b8.10.jpg to all_images/41ea8744-371e-4581-9ba5-a02bef6ff7b8.10.jpg\n",
      "Downloaded b1gbqcgk1bfajrkrfdfr/all_images/unhealthy/41ea8744-371e-4581-9ba5-a02bef6ff7b8.11.jpg to all_images/41ea8744-371e-4581-9ba5-a02bef6ff7b8.11.jpg\n",
      "Downloaded b1gbqcgk1bfajrkrfdfr/all_images/unhealthy/41ea8744-371e-4581-9ba5-a02bef6ff7b8.12.jpg to all_images/41ea8744-371e-4581-9ba5-a02bef6ff7b8.12.jpg\n",
      "Downloaded b1gbqcgk1bfajrkrfdfr/all_images/unhealthy/41ea8744-371e-4581-9ba5-a02bef6ff7b8.13.jpg to all_images/41ea8744-371e-4581-9ba5-a02bef6ff7b8.13.jpg\n",
      "Downloaded b1gbqcgk1bfajrkrfdfr/all_images/unhealthy/41ea8744-371e-4581-9ba5-a02bef6ff7b8.14.jpg to all_images/41ea8744-371e-4581-9ba5-a02bef6ff7b8.14.jpg\n",
      "Downloaded b1gbqcgk1bfajrkrfdfr/all_images/unhealthy/41ea8744-371e-4581-9ba5-a02bef6ff7b8.15.jpg to all_images/41ea8744-371e-4581-9ba5-a02bef6ff7b8.15.jpg\n",
      "Downloaded b1gbqcgk1bfajrkrfdfr/all_images/unhealthy/41ea8744-371e-4581-9ba5-a02bef6ff7b8.16.jpg to all_images/41ea8744-371e-4581-9ba5-a02bef6ff7b8.16.jpg\n",
      "Downloaded b1gbqcgk1bfajrkrfdfr/all_images/unhealthy/41ea8744-371e-4581-9ba5-a02bef6ff7b8.17.jpg to all_images/41ea8744-371e-4581-9ba5-a02bef6ff7b8.17.jpg\n",
      "Downloaded b1gbqcgk1bfajrkrfdfr/all_images/unhealthy/41ea8744-371e-4581-9ba5-a02bef6ff7b8.18.jpg to all_images/41ea8744-371e-4581-9ba5-a02bef6ff7b8.18.jpg\n",
      "Downloaded b1gbqcgk1bfajrkrfdfr/all_images/unhealthy/41ea8744-371e-4581-9ba5-a02bef6ff7b8.19.jpg to all_images/41ea8744-371e-4581-9ba5-a02bef6ff7b8.19.jpg\n",
      "Downloaded b1gbqcgk1bfajrkrfdfr/all_images/unhealthy/41ea8744-371e-4581-9ba5-a02bef6ff7b8.2.jpg to all_images/41ea8744-371e-4581-9ba5-a02bef6ff7b8.2.jpg\n",
      "Downloaded b1gbqcgk1bfajrkrfdfr/all_images/unhealthy/41ea8744-371e-4581-9ba5-a02bef6ff7b8.20.jpg to all_images/41ea8744-371e-4581-9ba5-a02bef6ff7b8.20.jpg\n",
      "Downloaded b1gbqcgk1bfajrkrfdfr/all_images/unhealthy/41ea8744-371e-4581-9ba5-a02bef6ff7b8.21.jpg to all_images/41ea8744-371e-4581-9ba5-a02bef6ff7b8.21.jpg\n",
      "Downloaded b1gbqcgk1bfajrkrfdfr/all_images/unhealthy/41ea8744-371e-4581-9ba5-a02bef6ff7b8.22.jpg to all_images/41ea8744-371e-4581-9ba5-a02bef6ff7b8.22.jpg\n",
      "Downloaded b1gbqcgk1bfajrkrfdfr/all_images/unhealthy/41ea8744-371e-4581-9ba5-a02bef6ff7b8.3.jpg to all_images/41ea8744-371e-4581-9ba5-a02bef6ff7b8.3.jpg\n",
      "Downloaded b1gbqcgk1bfajrkrfdfr/all_images/unhealthy/41ea8744-371e-4581-9ba5-a02bef6ff7b8.4.jpg to all_images/41ea8744-371e-4581-9ba5-a02bef6ff7b8.4.jpg\n",
      "Downloaded b1gbqcgk1bfajrkrfdfr/all_images/unhealthy/41ea8744-371e-4581-9ba5-a02bef6ff7b8.5.jpg to all_images/41ea8744-371e-4581-9ba5-a02bef6ff7b8.5.jpg\n",
      "Downloaded b1gbqcgk1bfajrkrfdfr/all_images/unhealthy/41ea8744-371e-4581-9ba5-a02bef6ff7b8.6.jpg to all_images/41ea8744-371e-4581-9ba5-a02bef6ff7b8.6.jpg\n",
      "Downloaded b1gbqcgk1bfajrkrfdfr/all_images/unhealthy/41ea8744-371e-4581-9ba5-a02bef6ff7b8.7.jpg to all_images/41ea8744-371e-4581-9ba5-a02bef6ff7b8.7.jpg\n",
      "Downloaded b1gbqcgk1bfajrkrfdfr/all_images/unhealthy/41ea8744-371e-4581-9ba5-a02bef6ff7b8.8.jpg to all_images/41ea8744-371e-4581-9ba5-a02bef6ff7b8.8.jpg\n",
      "Downloaded b1gbqcgk1bfajrkrfdfr/all_images/unhealthy/41ea8744-371e-4581-9ba5-a02bef6ff7b8.9.jpg to all_images/41ea8744-371e-4581-9ba5-a02bef6ff7b8.9.jpg\n",
      "Downloaded b1gbqcgk1bfajrkrfdfr/all_images/unhealthy/46478049-9e1a-472c-8c7d-11aa1570a086.1.jpg to all_images/46478049-9e1a-472c-8c7d-11aa1570a086.1.jpg\n",
      "Downloaded b1gbqcgk1bfajrkrfdfr/all_images/unhealthy/46478049-9e1a-472c-8c7d-11aa1570a086.10.jpg to all_images/46478049-9e1a-472c-8c7d-11aa1570a086.10.jpg\n",
      "Downloaded b1gbqcgk1bfajrkrfdfr/all_images/unhealthy/46478049-9e1a-472c-8c7d-11aa1570a086.11.jpg to all_images/46478049-9e1a-472c-8c7d-11aa1570a086.11.jpg\n",
      "Downloaded b1gbqcgk1bfajrkrfdfr/all_images/unhealthy/46478049-9e1a-472c-8c7d-11aa1570a086.12.jpg to all_images/46478049-9e1a-472c-8c7d-11aa1570a086.12.jpg\n",
      "Downloaded b1gbqcgk1bfajrkrfdfr/all_images/unhealthy/46478049-9e1a-472c-8c7d-11aa1570a086.13.jpg to all_images/46478049-9e1a-472c-8c7d-11aa1570a086.13.jpg\n",
      "Downloaded b1gbqcgk1bfajrkrfdfr/all_images/unhealthy/46478049-9e1a-472c-8c7d-11aa1570a086.14.jpg to all_images/46478049-9e1a-472c-8c7d-11aa1570a086.14.jpg\n",
      "Downloaded b1gbqcgk1bfajrkrfdfr/all_images/unhealthy/46478049-9e1a-472c-8c7d-11aa1570a086.15.jpg to all_images/46478049-9e1a-472c-8c7d-11aa1570a086.15.jpg\n",
      "Downloaded b1gbqcgk1bfajrkrfdfr/all_images/unhealthy/46478049-9e1a-472c-8c7d-11aa1570a086.16.jpg to all_images/46478049-9e1a-472c-8c7d-11aa1570a086.16.jpg\n",
      "Downloaded b1gbqcgk1bfajrkrfdfr/all_images/unhealthy/46478049-9e1a-472c-8c7d-11aa1570a086.17.jpg to all_images/46478049-9e1a-472c-8c7d-11aa1570a086.17.jpg\n",
      "Downloaded b1gbqcgk1bfajrkrfdfr/all_images/unhealthy/46478049-9e1a-472c-8c7d-11aa1570a086.18.jpg to all_images/46478049-9e1a-472c-8c7d-11aa1570a086.18.jpg\n",
      "Downloaded b1gbqcgk1bfajrkrfdfr/all_images/unhealthy/46478049-9e1a-472c-8c7d-11aa1570a086.19.jpg to all_images/46478049-9e1a-472c-8c7d-11aa1570a086.19.jpg\n",
      "Downloaded b1gbqcgk1bfajrkrfdfr/all_images/unhealthy/46478049-9e1a-472c-8c7d-11aa1570a086.2.jpg to all_images/46478049-9e1a-472c-8c7d-11aa1570a086.2.jpg\n",
      "Downloaded b1gbqcgk1bfajrkrfdfr/all_images/unhealthy/46478049-9e1a-472c-8c7d-11aa1570a086.3.jpg to all_images/46478049-9e1a-472c-8c7d-11aa1570a086.3.jpg\n",
      "Downloaded b1gbqcgk1bfajrkrfdfr/all_images/unhealthy/46478049-9e1a-472c-8c7d-11aa1570a086.4.jpg to all_images/46478049-9e1a-472c-8c7d-11aa1570a086.4.jpg\n",
      "Downloaded b1gbqcgk1bfajrkrfdfr/all_images/unhealthy/46478049-9e1a-472c-8c7d-11aa1570a086.5.jpg to all_images/46478049-9e1a-472c-8c7d-11aa1570a086.5.jpg\n",
      "Downloaded b1gbqcgk1bfajrkrfdfr/all_images/unhealthy/46478049-9e1a-472c-8c7d-11aa1570a086.6.jpg to all_images/46478049-9e1a-472c-8c7d-11aa1570a086.6.jpg\n",
      "Downloaded b1gbqcgk1bfajrkrfdfr/all_images/unhealthy/46478049-9e1a-472c-8c7d-11aa1570a086.7.jpg to all_images/46478049-9e1a-472c-8c7d-11aa1570a086.7.jpg\n",
      "Downloaded b1gbqcgk1bfajrkrfdfr/all_images/unhealthy/46478049-9e1a-472c-8c7d-11aa1570a086.8.jpg to all_images/46478049-9e1a-472c-8c7d-11aa1570a086.8.jpg\n",
      "Downloaded b1gbqcgk1bfajrkrfdfr/all_images/unhealthy/46478049-9e1a-472c-8c7d-11aa1570a086.9.jpg to all_images/46478049-9e1a-472c-8c7d-11aa1570a086.9.jpg\n",
      "Downloaded b1gbqcgk1bfajrkrfdfr/all_images/unhealthy/48a6ed12-4a36-4696-ac21-c8285d686c6e.1.jpg to all_images/48a6ed12-4a36-4696-ac21-c8285d686c6e.1.jpg\n",
      "Downloaded b1gbqcgk1bfajrkrfdfr/all_images/unhealthy/48a6ed12-4a36-4696-ac21-c8285d686c6e.10.jpg to all_images/48a6ed12-4a36-4696-ac21-c8285d686c6e.10.jpg\n",
      "Downloaded b1gbqcgk1bfajrkrfdfr/all_images/unhealthy/48a6ed12-4a36-4696-ac21-c8285d686c6e.11.jpg to all_images/48a6ed12-4a36-4696-ac21-c8285d686c6e.11.jpg\n",
      "Downloaded b1gbqcgk1bfajrkrfdfr/all_images/unhealthy/48a6ed12-4a36-4696-ac21-c8285d686c6e.12.jpg to all_images/48a6ed12-4a36-4696-ac21-c8285d686c6e.12.jpg\n",
      "Downloaded b1gbqcgk1bfajrkrfdfr/all_images/unhealthy/48a6ed12-4a36-4696-ac21-c8285d686c6e.13.jpg to all_images/48a6ed12-4a36-4696-ac21-c8285d686c6e.13.jpg\n",
      "Downloaded b1gbqcgk1bfajrkrfdfr/all_images/unhealthy/48a6ed12-4a36-4696-ac21-c8285d686c6e.14.jpg to all_images/48a6ed12-4a36-4696-ac21-c8285d686c6e.14.jpg\n",
      "Downloaded b1gbqcgk1bfajrkrfdfr/all_images/unhealthy/48a6ed12-4a36-4696-ac21-c8285d686c6e.15.jpg to all_images/48a6ed12-4a36-4696-ac21-c8285d686c6e.15.jpg\n",
      "Downloaded b1gbqcgk1bfajrkrfdfr/all_images/unhealthy/48a6ed12-4a36-4696-ac21-c8285d686c6e.16.jpg to all_images/48a6ed12-4a36-4696-ac21-c8285d686c6e.16.jpg\n",
      "Downloaded b1gbqcgk1bfajrkrfdfr/all_images/unhealthy/48a6ed12-4a36-4696-ac21-c8285d686c6e.17.jpg to all_images/48a6ed12-4a36-4696-ac21-c8285d686c6e.17.jpg\n",
      "Downloaded b1gbqcgk1bfajrkrfdfr/all_images/unhealthy/48a6ed12-4a36-4696-ac21-c8285d686c6e.18.jpg to all_images/48a6ed12-4a36-4696-ac21-c8285d686c6e.18.jpg\n",
      "Downloaded b1gbqcgk1bfajrkrfdfr/all_images/unhealthy/48a6ed12-4a36-4696-ac21-c8285d686c6e.19.jpg to all_images/48a6ed12-4a36-4696-ac21-c8285d686c6e.19.jpg\n",
      "Downloaded b1gbqcgk1bfajrkrfdfr/all_images/unhealthy/48a6ed12-4a36-4696-ac21-c8285d686c6e.2.jpg to all_images/48a6ed12-4a36-4696-ac21-c8285d686c6e.2.jpg\n",
      "Downloaded b1gbqcgk1bfajrkrfdfr/all_images/unhealthy/48a6ed12-4a36-4696-ac21-c8285d686c6e.20.jpg to all_images/48a6ed12-4a36-4696-ac21-c8285d686c6e.20.jpg\n",
      "Downloaded b1gbqcgk1bfajrkrfdfr/all_images/unhealthy/48a6ed12-4a36-4696-ac21-c8285d686c6e.21.jpg to all_images/48a6ed12-4a36-4696-ac21-c8285d686c6e.21.jpg\n",
      "Downloaded b1gbqcgk1bfajrkrfdfr/all_images/unhealthy/48a6ed12-4a36-4696-ac21-c8285d686c6e.22.jpg to all_images/48a6ed12-4a36-4696-ac21-c8285d686c6e.22.jpg\n",
      "Downloaded b1gbqcgk1bfajrkrfdfr/all_images/unhealthy/48a6ed12-4a36-4696-ac21-c8285d686c6e.23.jpg to all_images/48a6ed12-4a36-4696-ac21-c8285d686c6e.23.jpg\n",
      "Downloaded b1gbqcgk1bfajrkrfdfr/all_images/unhealthy/48a6ed12-4a36-4696-ac21-c8285d686c6e.24.jpg to all_images/48a6ed12-4a36-4696-ac21-c8285d686c6e.24.jpg\n",
      "Downloaded b1gbqcgk1bfajrkrfdfr/all_images/unhealthy/48a6ed12-4a36-4696-ac21-c8285d686c6e.3.jpg to all_images/48a6ed12-4a36-4696-ac21-c8285d686c6e.3.jpg\n",
      "Downloaded b1gbqcgk1bfajrkrfdfr/all_images/unhealthy/48a6ed12-4a36-4696-ac21-c8285d686c6e.4.jpg to all_images/48a6ed12-4a36-4696-ac21-c8285d686c6e.4.jpg\n",
      "Downloaded b1gbqcgk1bfajrkrfdfr/all_images/unhealthy/48a6ed12-4a36-4696-ac21-c8285d686c6e.5.jpg to all_images/48a6ed12-4a36-4696-ac21-c8285d686c6e.5.jpg\n",
      "Downloaded b1gbqcgk1bfajrkrfdfr/all_images/unhealthy/48a6ed12-4a36-4696-ac21-c8285d686c6e.6.jpg to all_images/48a6ed12-4a36-4696-ac21-c8285d686c6e.6.jpg\n",
      "Downloaded b1gbqcgk1bfajrkrfdfr/all_images/unhealthy/48a6ed12-4a36-4696-ac21-c8285d686c6e.7.jpg to all_images/48a6ed12-4a36-4696-ac21-c8285d686c6e.7.jpg\n",
      "Downloaded b1gbqcgk1bfajrkrfdfr/all_images/unhealthy/48a6ed12-4a36-4696-ac21-c8285d686c6e.8.jpg to all_images/48a6ed12-4a36-4696-ac21-c8285d686c6e.8.jpg\n",
      "Downloaded b1gbqcgk1bfajrkrfdfr/all_images/unhealthy/48a6ed12-4a36-4696-ac21-c8285d686c6e.9.jpg to all_images/48a6ed12-4a36-4696-ac21-c8285d686c6e.9.jpg\n",
      "Downloaded b1gbqcgk1bfajrkrfdfr/all_images/unhealthy/4a32bd4c-147d-48b5-8d61-fc8865293247.1.jpg to all_images/4a32bd4c-147d-48b5-8d61-fc8865293247.1.jpg\n",
      "Downloaded b1gbqcgk1bfajrkrfdfr/all_images/unhealthy/4a32bd4c-147d-48b5-8d61-fc8865293247.10.jpg to all_images/4a32bd4c-147d-48b5-8d61-fc8865293247.10.jpg\n",
      "Downloaded b1gbqcgk1bfajrkrfdfr/all_images/unhealthy/4a32bd4c-147d-48b5-8d61-fc8865293247.11.jpg to all_images/4a32bd4c-147d-48b5-8d61-fc8865293247.11.jpg\n",
      "Downloaded b1gbqcgk1bfajrkrfdfr/all_images/unhealthy/4a32bd4c-147d-48b5-8d61-fc8865293247.12.jpg to all_images/4a32bd4c-147d-48b5-8d61-fc8865293247.12.jpg\n",
      "Downloaded b1gbqcgk1bfajrkrfdfr/all_images/unhealthy/4a32bd4c-147d-48b5-8d61-fc8865293247.13.jpg to all_images/4a32bd4c-147d-48b5-8d61-fc8865293247.13.jpg\n",
      "Downloaded b1gbqcgk1bfajrkrfdfr/all_images/unhealthy/4a32bd4c-147d-48b5-8d61-fc8865293247.14.jpg to all_images/4a32bd4c-147d-48b5-8d61-fc8865293247.14.jpg\n",
      "Downloaded b1gbqcgk1bfajrkrfdfr/all_images/unhealthy/4a32bd4c-147d-48b5-8d61-fc8865293247.15.jpg to all_images/4a32bd4c-147d-48b5-8d61-fc8865293247.15.jpg\n",
      "Downloaded b1gbqcgk1bfajrkrfdfr/all_images/unhealthy/4a32bd4c-147d-48b5-8d61-fc8865293247.16.jpg to all_images/4a32bd4c-147d-48b5-8d61-fc8865293247.16.jpg\n",
      "Downloaded b1gbqcgk1bfajrkrfdfr/all_images/unhealthy/4a32bd4c-147d-48b5-8d61-fc8865293247.17.jpg to all_images/4a32bd4c-147d-48b5-8d61-fc8865293247.17.jpg\n",
      "Downloaded b1gbqcgk1bfajrkrfdfr/all_images/unhealthy/4a32bd4c-147d-48b5-8d61-fc8865293247.18.jpg to all_images/4a32bd4c-147d-48b5-8d61-fc8865293247.18.jpg\n",
      "Downloaded b1gbqcgk1bfajrkrfdfr/all_images/unhealthy/4a32bd4c-147d-48b5-8d61-fc8865293247.19.jpg to all_images/4a32bd4c-147d-48b5-8d61-fc8865293247.19.jpg\n",
      "Downloaded b1gbqcgk1bfajrkrfdfr/all_images/unhealthy/4a32bd4c-147d-48b5-8d61-fc8865293247.2.jpg to all_images/4a32bd4c-147d-48b5-8d61-fc8865293247.2.jpg\n",
      "Downloaded b1gbqcgk1bfajrkrfdfr/all_images/unhealthy/4a32bd4c-147d-48b5-8d61-fc8865293247.20.jpg to all_images/4a32bd4c-147d-48b5-8d61-fc8865293247.20.jpg\n",
      "Downloaded b1gbqcgk1bfajrkrfdfr/all_images/unhealthy/4a32bd4c-147d-48b5-8d61-fc8865293247.21.jpg to all_images/4a32bd4c-147d-48b5-8d61-fc8865293247.21.jpg\n",
      "Downloaded b1gbqcgk1bfajrkrfdfr/all_images/unhealthy/4a32bd4c-147d-48b5-8d61-fc8865293247.22.jpg to all_images/4a32bd4c-147d-48b5-8d61-fc8865293247.22.jpg\n",
      "Downloaded b1gbqcgk1bfajrkrfdfr/all_images/unhealthy/4a32bd4c-147d-48b5-8d61-fc8865293247.3.jpg to all_images/4a32bd4c-147d-48b5-8d61-fc8865293247.3.jpg\n",
      "Downloaded b1gbqcgk1bfajrkrfdfr/all_images/unhealthy/4a32bd4c-147d-48b5-8d61-fc8865293247.4.jpg to all_images/4a32bd4c-147d-48b5-8d61-fc8865293247.4.jpg\n",
      "Downloaded b1gbqcgk1bfajrkrfdfr/all_images/unhealthy/4a32bd4c-147d-48b5-8d61-fc8865293247.5.jpg to all_images/4a32bd4c-147d-48b5-8d61-fc8865293247.5.jpg\n",
      "Downloaded b1gbqcgk1bfajrkrfdfr/all_images/unhealthy/4a32bd4c-147d-48b5-8d61-fc8865293247.6.jpg to all_images/4a32bd4c-147d-48b5-8d61-fc8865293247.6.jpg\n",
      "Downloaded b1gbqcgk1bfajrkrfdfr/all_images/unhealthy/4a32bd4c-147d-48b5-8d61-fc8865293247.7.jpg to all_images/4a32bd4c-147d-48b5-8d61-fc8865293247.7.jpg\n",
      "Downloaded b1gbqcgk1bfajrkrfdfr/all_images/unhealthy/4a32bd4c-147d-48b5-8d61-fc8865293247.8.jpg to all_images/4a32bd4c-147d-48b5-8d61-fc8865293247.8.jpg\n",
      "Downloaded b1gbqcgk1bfajrkrfdfr/all_images/unhealthy/4a32bd4c-147d-48b5-8d61-fc8865293247.9.jpg to all_images/4a32bd4c-147d-48b5-8d61-fc8865293247.9.jpg\n",
      "Downloaded b1gbqcgk1bfajrkrfdfr/all_images/unhealthy/4cb1184a-d3b9-4800-ba87-8df9438a50b7.1.jpg to all_images/4cb1184a-d3b9-4800-ba87-8df9438a50b7.1.jpg\n",
      "Downloaded b1gbqcgk1bfajrkrfdfr/all_images/unhealthy/4cb1184a-d3b9-4800-ba87-8df9438a50b7.10.jpg to all_images/4cb1184a-d3b9-4800-ba87-8df9438a50b7.10.jpg\n",
      "Downloaded b1gbqcgk1bfajrkrfdfr/all_images/unhealthy/4cb1184a-d3b9-4800-ba87-8df9438a50b7.11.jpg to all_images/4cb1184a-d3b9-4800-ba87-8df9438a50b7.11.jpg\n",
      "Downloaded b1gbqcgk1bfajrkrfdfr/all_images/unhealthy/4cb1184a-d3b9-4800-ba87-8df9438a50b7.12.jpg to all_images/4cb1184a-d3b9-4800-ba87-8df9438a50b7.12.jpg\n",
      "Downloaded b1gbqcgk1bfajrkrfdfr/all_images/unhealthy/4cb1184a-d3b9-4800-ba87-8df9438a50b7.13.jpg to all_images/4cb1184a-d3b9-4800-ba87-8df9438a50b7.13.jpg\n",
      "Downloaded b1gbqcgk1bfajrkrfdfr/all_images/unhealthy/4cb1184a-d3b9-4800-ba87-8df9438a50b7.14.jpg to all_images/4cb1184a-d3b9-4800-ba87-8df9438a50b7.14.jpg\n",
      "Downloaded b1gbqcgk1bfajrkrfdfr/all_images/unhealthy/4cb1184a-d3b9-4800-ba87-8df9438a50b7.2.jpg to all_images/4cb1184a-d3b9-4800-ba87-8df9438a50b7.2.jpg\n",
      "Downloaded b1gbqcgk1bfajrkrfdfr/all_images/unhealthy/4cb1184a-d3b9-4800-ba87-8df9438a50b7.3.jpg to all_images/4cb1184a-d3b9-4800-ba87-8df9438a50b7.3.jpg\n",
      "Downloaded b1gbqcgk1bfajrkrfdfr/all_images/unhealthy/4cb1184a-d3b9-4800-ba87-8df9438a50b7.4.jpg to all_images/4cb1184a-d3b9-4800-ba87-8df9438a50b7.4.jpg\n",
      "Downloaded b1gbqcgk1bfajrkrfdfr/all_images/unhealthy/4cb1184a-d3b9-4800-ba87-8df9438a50b7.5.jpg to all_images/4cb1184a-d3b9-4800-ba87-8df9438a50b7.5.jpg\n",
      "Downloaded b1gbqcgk1bfajrkrfdfr/all_images/unhealthy/4cb1184a-d3b9-4800-ba87-8df9438a50b7.6.jpg to all_images/4cb1184a-d3b9-4800-ba87-8df9438a50b7.6.jpg\n",
      "Downloaded b1gbqcgk1bfajrkrfdfr/all_images/unhealthy/4cb1184a-d3b9-4800-ba87-8df9438a50b7.7.jpg to all_images/4cb1184a-d3b9-4800-ba87-8df9438a50b7.7.jpg\n",
      "Downloaded b1gbqcgk1bfajrkrfdfr/all_images/unhealthy/4cb1184a-d3b9-4800-ba87-8df9438a50b7.8.jpg to all_images/4cb1184a-d3b9-4800-ba87-8df9438a50b7.8.jpg\n",
      "Downloaded b1gbqcgk1bfajrkrfdfr/all_images/unhealthy/4cb1184a-d3b9-4800-ba87-8df9438a50b7.9.jpg to all_images/4cb1184a-d3b9-4800-ba87-8df9438a50b7.9.jpg\n",
      "Downloaded b1gbqcgk1bfajrkrfdfr/all_images/unhealthy/4e5be2f9-b7a7-4a9a-a20b-c99dffbd89a7.1.jpg to all_images/4e5be2f9-b7a7-4a9a-a20b-c99dffbd89a7.1.jpg\n",
      "Downloaded b1gbqcgk1bfajrkrfdfr/all_images/unhealthy/4e5be2f9-b7a7-4a9a-a20b-c99dffbd89a7.10.jpg to all_images/4e5be2f9-b7a7-4a9a-a20b-c99dffbd89a7.10.jpg\n",
      "Downloaded b1gbqcgk1bfajrkrfdfr/all_images/unhealthy/4e5be2f9-b7a7-4a9a-a20b-c99dffbd89a7.2.jpg to all_images/4e5be2f9-b7a7-4a9a-a20b-c99dffbd89a7.2.jpg\n",
      "Downloaded b1gbqcgk1bfajrkrfdfr/all_images/unhealthy/4e5be2f9-b7a7-4a9a-a20b-c99dffbd89a7.3.jpg to all_images/4e5be2f9-b7a7-4a9a-a20b-c99dffbd89a7.3.jpg\n",
      "Downloaded b1gbqcgk1bfajrkrfdfr/all_images/unhealthy/4e5be2f9-b7a7-4a9a-a20b-c99dffbd89a7.4.jpg to all_images/4e5be2f9-b7a7-4a9a-a20b-c99dffbd89a7.4.jpg\n",
      "Downloaded b1gbqcgk1bfajrkrfdfr/all_images/unhealthy/4e5be2f9-b7a7-4a9a-a20b-c99dffbd89a7.5.jpg to all_images/4e5be2f9-b7a7-4a9a-a20b-c99dffbd89a7.5.jpg\n",
      "Downloaded b1gbqcgk1bfajrkrfdfr/all_images/unhealthy/4e5be2f9-b7a7-4a9a-a20b-c99dffbd89a7.6.jpg to all_images/4e5be2f9-b7a7-4a9a-a20b-c99dffbd89a7.6.jpg\n",
      "Downloaded b1gbqcgk1bfajrkrfdfr/all_images/unhealthy/4e5be2f9-b7a7-4a9a-a20b-c99dffbd89a7.7.jpg to all_images/4e5be2f9-b7a7-4a9a-a20b-c99dffbd89a7.7.jpg\n",
      "Downloaded b1gbqcgk1bfajrkrfdfr/all_images/unhealthy/4e5be2f9-b7a7-4a9a-a20b-c99dffbd89a7.8.jpg to all_images/4e5be2f9-b7a7-4a9a-a20b-c99dffbd89a7.8.jpg\n",
      "Downloaded b1gbqcgk1bfajrkrfdfr/all_images/unhealthy/4e5be2f9-b7a7-4a9a-a20b-c99dffbd89a7.9.jpg to all_images/4e5be2f9-b7a7-4a9a-a20b-c99dffbd89a7.9.jpg\n",
      "Downloaded b1gbqcgk1bfajrkrfdfr/all_images/unhealthy/526e8d5c-d5c6-4ffd-971d-b6de06c144ba.1.jpg to all_images/526e8d5c-d5c6-4ffd-971d-b6de06c144ba.1.jpg\n",
      "Downloaded b1gbqcgk1bfajrkrfdfr/all_images/unhealthy/526e8d5c-d5c6-4ffd-971d-b6de06c144ba.10.jpg to all_images/526e8d5c-d5c6-4ffd-971d-b6de06c144ba.10.jpg\n",
      "Downloaded b1gbqcgk1bfajrkrfdfr/all_images/unhealthy/526e8d5c-d5c6-4ffd-971d-b6de06c144ba.11.jpg to all_images/526e8d5c-d5c6-4ffd-971d-b6de06c144ba.11.jpg\n",
      "Downloaded b1gbqcgk1bfajrkrfdfr/all_images/unhealthy/526e8d5c-d5c6-4ffd-971d-b6de06c144ba.12.jpg to all_images/526e8d5c-d5c6-4ffd-971d-b6de06c144ba.12.jpg\n",
      "Downloaded b1gbqcgk1bfajrkrfdfr/all_images/unhealthy/526e8d5c-d5c6-4ffd-971d-b6de06c144ba.13.jpg to all_images/526e8d5c-d5c6-4ffd-971d-b6de06c144ba.13.jpg\n",
      "Downloaded b1gbqcgk1bfajrkrfdfr/all_images/unhealthy/526e8d5c-d5c6-4ffd-971d-b6de06c144ba.14.jpg to all_images/526e8d5c-d5c6-4ffd-971d-b6de06c144ba.14.jpg\n",
      "Downloaded b1gbqcgk1bfajrkrfdfr/all_images/unhealthy/526e8d5c-d5c6-4ffd-971d-b6de06c144ba.15.jpg to all_images/526e8d5c-d5c6-4ffd-971d-b6de06c144ba.15.jpg\n",
      "Downloaded b1gbqcgk1bfajrkrfdfr/all_images/unhealthy/526e8d5c-d5c6-4ffd-971d-b6de06c144ba.16.jpg to all_images/526e8d5c-d5c6-4ffd-971d-b6de06c144ba.16.jpg\n",
      "Downloaded b1gbqcgk1bfajrkrfdfr/all_images/unhealthy/526e8d5c-d5c6-4ffd-971d-b6de06c144ba.17.jpg to all_images/526e8d5c-d5c6-4ffd-971d-b6de06c144ba.17.jpg\n",
      "Downloaded b1gbqcgk1bfajrkrfdfr/all_images/unhealthy/526e8d5c-d5c6-4ffd-971d-b6de06c144ba.18.jpg to all_images/526e8d5c-d5c6-4ffd-971d-b6de06c144ba.18.jpg\n",
      "Downloaded b1gbqcgk1bfajrkrfdfr/all_images/unhealthy/526e8d5c-d5c6-4ffd-971d-b6de06c144ba.19.jpg to all_images/526e8d5c-d5c6-4ffd-971d-b6de06c144ba.19.jpg\n",
      "Downloaded b1gbqcgk1bfajrkrfdfr/all_images/unhealthy/526e8d5c-d5c6-4ffd-971d-b6de06c144ba.2.jpg to all_images/526e8d5c-d5c6-4ffd-971d-b6de06c144ba.2.jpg\n",
      "Downloaded b1gbqcgk1bfajrkrfdfr/all_images/unhealthy/526e8d5c-d5c6-4ffd-971d-b6de06c144ba.20.jpg to all_images/526e8d5c-d5c6-4ffd-971d-b6de06c144ba.20.jpg\n",
      "Downloaded b1gbqcgk1bfajrkrfdfr/all_images/unhealthy/526e8d5c-d5c6-4ffd-971d-b6de06c144ba.21.jpg to all_images/526e8d5c-d5c6-4ffd-971d-b6de06c144ba.21.jpg\n",
      "Downloaded b1gbqcgk1bfajrkrfdfr/all_images/unhealthy/526e8d5c-d5c6-4ffd-971d-b6de06c144ba.22.jpg to all_images/526e8d5c-d5c6-4ffd-971d-b6de06c144ba.22.jpg\n",
      "Downloaded b1gbqcgk1bfajrkrfdfr/all_images/unhealthy/526e8d5c-d5c6-4ffd-971d-b6de06c144ba.3.jpg to all_images/526e8d5c-d5c6-4ffd-971d-b6de06c144ba.3.jpg\n",
      "Downloaded b1gbqcgk1bfajrkrfdfr/all_images/unhealthy/526e8d5c-d5c6-4ffd-971d-b6de06c144ba.4.jpg to all_images/526e8d5c-d5c6-4ffd-971d-b6de06c144ba.4.jpg\n",
      "Downloaded b1gbqcgk1bfajrkrfdfr/all_images/unhealthy/526e8d5c-d5c6-4ffd-971d-b6de06c144ba.5.jpg to all_images/526e8d5c-d5c6-4ffd-971d-b6de06c144ba.5.jpg\n",
      "Downloaded b1gbqcgk1bfajrkrfdfr/all_images/unhealthy/526e8d5c-d5c6-4ffd-971d-b6de06c144ba.6.jpg to all_images/526e8d5c-d5c6-4ffd-971d-b6de06c144ba.6.jpg\n",
      "Downloaded b1gbqcgk1bfajrkrfdfr/all_images/unhealthy/526e8d5c-d5c6-4ffd-971d-b6de06c144ba.7.jpg to all_images/526e8d5c-d5c6-4ffd-971d-b6de06c144ba.7.jpg\n",
      "Downloaded b1gbqcgk1bfajrkrfdfr/all_images/unhealthy/526e8d5c-d5c6-4ffd-971d-b6de06c144ba.8.jpg to all_images/526e8d5c-d5c6-4ffd-971d-b6de06c144ba.8.jpg\n",
      "Downloaded b1gbqcgk1bfajrkrfdfr/all_images/unhealthy/526e8d5c-d5c6-4ffd-971d-b6de06c144ba.9.jpg to all_images/526e8d5c-d5c6-4ffd-971d-b6de06c144ba.9.jpg\n",
      "Downloaded b1gbqcgk1bfajrkrfdfr/all_images/unhealthy/57a3967c-c9c4-47c0-be9a-8acd59ee7212.1.jpg to all_images/57a3967c-c9c4-47c0-be9a-8acd59ee7212.1.jpg\n",
      "Downloaded b1gbqcgk1bfajrkrfdfr/all_images/unhealthy/57a3967c-c9c4-47c0-be9a-8acd59ee7212.10.jpg to all_images/57a3967c-c9c4-47c0-be9a-8acd59ee7212.10.jpg\n",
      "Downloaded b1gbqcgk1bfajrkrfdfr/all_images/unhealthy/57a3967c-c9c4-47c0-be9a-8acd59ee7212.2.jpg to all_images/57a3967c-c9c4-47c0-be9a-8acd59ee7212.2.jpg\n",
      "Downloaded b1gbqcgk1bfajrkrfdfr/all_images/unhealthy/57a3967c-c9c4-47c0-be9a-8acd59ee7212.3.jpg to all_images/57a3967c-c9c4-47c0-be9a-8acd59ee7212.3.jpg\n",
      "Downloaded b1gbqcgk1bfajrkrfdfr/all_images/unhealthy/57a3967c-c9c4-47c0-be9a-8acd59ee7212.4.jpg to all_images/57a3967c-c9c4-47c0-be9a-8acd59ee7212.4.jpg\n",
      "Downloaded b1gbqcgk1bfajrkrfdfr/all_images/unhealthy/57a3967c-c9c4-47c0-be9a-8acd59ee7212.5.jpg to all_images/57a3967c-c9c4-47c0-be9a-8acd59ee7212.5.jpg\n",
      "Downloaded b1gbqcgk1bfajrkrfdfr/all_images/unhealthy/57a3967c-c9c4-47c0-be9a-8acd59ee7212.6.jpg to all_images/57a3967c-c9c4-47c0-be9a-8acd59ee7212.6.jpg\n",
      "Downloaded b1gbqcgk1bfajrkrfdfr/all_images/unhealthy/57a3967c-c9c4-47c0-be9a-8acd59ee7212.7.jpg to all_images/57a3967c-c9c4-47c0-be9a-8acd59ee7212.7.jpg\n",
      "Downloaded b1gbqcgk1bfajrkrfdfr/all_images/unhealthy/57a3967c-c9c4-47c0-be9a-8acd59ee7212.8.jpg to all_images/57a3967c-c9c4-47c0-be9a-8acd59ee7212.8.jpg\n",
      "Downloaded b1gbqcgk1bfajrkrfdfr/all_images/unhealthy/57a3967c-c9c4-47c0-be9a-8acd59ee7212.9.jpg to all_images/57a3967c-c9c4-47c0-be9a-8acd59ee7212.9.jpg\n",
      "Downloaded b1gbqcgk1bfajrkrfdfr/all_images/unhealthy/58011507-ddd2-48e7-b09d-eadf07f336a4.1.jpg to all_images/58011507-ddd2-48e7-b09d-eadf07f336a4.1.jpg\n",
      "Downloaded b1gbqcgk1bfajrkrfdfr/all_images/unhealthy/58011507-ddd2-48e7-b09d-eadf07f336a4.10.jpg to all_images/58011507-ddd2-48e7-b09d-eadf07f336a4.10.jpg\n",
      "Downloaded b1gbqcgk1bfajrkrfdfr/all_images/unhealthy/58011507-ddd2-48e7-b09d-eadf07f336a4.11.jpg to all_images/58011507-ddd2-48e7-b09d-eadf07f336a4.11.jpg\n",
      "Downloaded b1gbqcgk1bfajrkrfdfr/all_images/unhealthy/58011507-ddd2-48e7-b09d-eadf07f336a4.2.jpg to all_images/58011507-ddd2-48e7-b09d-eadf07f336a4.2.jpg\n",
      "Downloaded b1gbqcgk1bfajrkrfdfr/all_images/unhealthy/58011507-ddd2-48e7-b09d-eadf07f336a4.3.jpg to all_images/58011507-ddd2-48e7-b09d-eadf07f336a4.3.jpg\n",
      "Downloaded b1gbqcgk1bfajrkrfdfr/all_images/unhealthy/58011507-ddd2-48e7-b09d-eadf07f336a4.4.jpg to all_images/58011507-ddd2-48e7-b09d-eadf07f336a4.4.jpg\n",
      "Downloaded b1gbqcgk1bfajrkrfdfr/all_images/unhealthy/58011507-ddd2-48e7-b09d-eadf07f336a4.5.jpg to all_images/58011507-ddd2-48e7-b09d-eadf07f336a4.5.jpg\n",
      "Downloaded b1gbqcgk1bfajrkrfdfr/all_images/unhealthy/58011507-ddd2-48e7-b09d-eadf07f336a4.6.jpg to all_images/58011507-ddd2-48e7-b09d-eadf07f336a4.6.jpg\n",
      "Downloaded b1gbqcgk1bfajrkrfdfr/all_images/unhealthy/58011507-ddd2-48e7-b09d-eadf07f336a4.7.jpg to all_images/58011507-ddd2-48e7-b09d-eadf07f336a4.7.jpg\n",
      "Downloaded b1gbqcgk1bfajrkrfdfr/all_images/unhealthy/58011507-ddd2-48e7-b09d-eadf07f336a4.8.jpg to all_images/58011507-ddd2-48e7-b09d-eadf07f336a4.8.jpg\n",
      "Downloaded b1gbqcgk1bfajrkrfdfr/all_images/unhealthy/58011507-ddd2-48e7-b09d-eadf07f336a4.9.jpg to all_images/58011507-ddd2-48e7-b09d-eadf07f336a4.9.jpg\n",
      "Downloaded b1gbqcgk1bfajrkrfdfr/all_images/unhealthy/59ff1532-6160-4ba0-bb1f-9fa891971002.1.jpg to all_images/59ff1532-6160-4ba0-bb1f-9fa891971002.1.jpg\n",
      "Downloaded b1gbqcgk1bfajrkrfdfr/all_images/unhealthy/59ff1532-6160-4ba0-bb1f-9fa891971002.10.jpg to all_images/59ff1532-6160-4ba0-bb1f-9fa891971002.10.jpg\n",
      "Downloaded b1gbqcgk1bfajrkrfdfr/all_images/unhealthy/59ff1532-6160-4ba0-bb1f-9fa891971002.11.jpg to all_images/59ff1532-6160-4ba0-bb1f-9fa891971002.11.jpg\n",
      "Downloaded b1gbqcgk1bfajrkrfdfr/all_images/unhealthy/59ff1532-6160-4ba0-bb1f-9fa891971002.12.jpg to all_images/59ff1532-6160-4ba0-bb1f-9fa891971002.12.jpg\n",
      "Downloaded b1gbqcgk1bfajrkrfdfr/all_images/unhealthy/59ff1532-6160-4ba0-bb1f-9fa891971002.13.jpg to all_images/59ff1532-6160-4ba0-bb1f-9fa891971002.13.jpg\n",
      "Downloaded b1gbqcgk1bfajrkrfdfr/all_images/unhealthy/59ff1532-6160-4ba0-bb1f-9fa891971002.14.jpg to all_images/59ff1532-6160-4ba0-bb1f-9fa891971002.14.jpg\n",
      "Downloaded b1gbqcgk1bfajrkrfdfr/all_images/unhealthy/59ff1532-6160-4ba0-bb1f-9fa891971002.15.jpg to all_images/59ff1532-6160-4ba0-bb1f-9fa891971002.15.jpg\n",
      "Downloaded b1gbqcgk1bfajrkrfdfr/all_images/unhealthy/59ff1532-6160-4ba0-bb1f-9fa891971002.2.jpg to all_images/59ff1532-6160-4ba0-bb1f-9fa891971002.2.jpg\n",
      "Downloaded b1gbqcgk1bfajrkrfdfr/all_images/unhealthy/59ff1532-6160-4ba0-bb1f-9fa891971002.3.jpg to all_images/59ff1532-6160-4ba0-bb1f-9fa891971002.3.jpg\n",
      "Downloaded b1gbqcgk1bfajrkrfdfr/all_images/unhealthy/59ff1532-6160-4ba0-bb1f-9fa891971002.4.jpg to all_images/59ff1532-6160-4ba0-bb1f-9fa891971002.4.jpg\n",
      "Downloaded b1gbqcgk1bfajrkrfdfr/all_images/unhealthy/59ff1532-6160-4ba0-bb1f-9fa891971002.5.jpg to all_images/59ff1532-6160-4ba0-bb1f-9fa891971002.5.jpg\n",
      "Downloaded b1gbqcgk1bfajrkrfdfr/all_images/unhealthy/59ff1532-6160-4ba0-bb1f-9fa891971002.6.jpg to all_images/59ff1532-6160-4ba0-bb1f-9fa891971002.6.jpg\n",
      "Downloaded b1gbqcgk1bfajrkrfdfr/all_images/unhealthy/59ff1532-6160-4ba0-bb1f-9fa891971002.7.jpg to all_images/59ff1532-6160-4ba0-bb1f-9fa891971002.7.jpg\n",
      "Downloaded b1gbqcgk1bfajrkrfdfr/all_images/unhealthy/59ff1532-6160-4ba0-bb1f-9fa891971002.8.jpg to all_images/59ff1532-6160-4ba0-bb1f-9fa891971002.8.jpg\n",
      "Downloaded b1gbqcgk1bfajrkrfdfr/all_images/unhealthy/59ff1532-6160-4ba0-bb1f-9fa891971002.9.jpg to all_images/59ff1532-6160-4ba0-bb1f-9fa891971002.9.jpg\n",
      "Downloaded b1gbqcgk1bfajrkrfdfr/all_images/unhealthy/67a926fa-506f-4d11-bda3-583843df4486.1.jpg to all_images/67a926fa-506f-4d11-bda3-583843df4486.1.jpg\n",
      "Downloaded b1gbqcgk1bfajrkrfdfr/all_images/unhealthy/67a926fa-506f-4d11-bda3-583843df4486.10.jpg to all_images/67a926fa-506f-4d11-bda3-583843df4486.10.jpg\n",
      "Downloaded b1gbqcgk1bfajrkrfdfr/all_images/unhealthy/67a926fa-506f-4d11-bda3-583843df4486.11.jpg to all_images/67a926fa-506f-4d11-bda3-583843df4486.11.jpg\n",
      "Downloaded b1gbqcgk1bfajrkrfdfr/all_images/unhealthy/67a926fa-506f-4d11-bda3-583843df4486.12.jpg to all_images/67a926fa-506f-4d11-bda3-583843df4486.12.jpg\n",
      "Downloaded b1gbqcgk1bfajrkrfdfr/all_images/unhealthy/67a926fa-506f-4d11-bda3-583843df4486.13.jpg to all_images/67a926fa-506f-4d11-bda3-583843df4486.13.jpg\n",
      "Downloaded b1gbqcgk1bfajrkrfdfr/all_images/unhealthy/67a926fa-506f-4d11-bda3-583843df4486.14.jpg to all_images/67a926fa-506f-4d11-bda3-583843df4486.14.jpg\n",
      "Downloaded b1gbqcgk1bfajrkrfdfr/all_images/unhealthy/67a926fa-506f-4d11-bda3-583843df4486.15.jpg to all_images/67a926fa-506f-4d11-bda3-583843df4486.15.jpg\n",
      "Downloaded b1gbqcgk1bfajrkrfdfr/all_images/unhealthy/67a926fa-506f-4d11-bda3-583843df4486.16.jpg to all_images/67a926fa-506f-4d11-bda3-583843df4486.16.jpg\n",
      "Downloaded b1gbqcgk1bfajrkrfdfr/all_images/unhealthy/67a926fa-506f-4d11-bda3-583843df4486.17.jpg to all_images/67a926fa-506f-4d11-bda3-583843df4486.17.jpg\n",
      "Downloaded b1gbqcgk1bfajrkrfdfr/all_images/unhealthy/67a926fa-506f-4d11-bda3-583843df4486.18.jpg to all_images/67a926fa-506f-4d11-bda3-583843df4486.18.jpg\n",
      "Downloaded b1gbqcgk1bfajrkrfdfr/all_images/unhealthy/67a926fa-506f-4d11-bda3-583843df4486.19.jpg to all_images/67a926fa-506f-4d11-bda3-583843df4486.19.jpg\n",
      "Downloaded b1gbqcgk1bfajrkrfdfr/all_images/unhealthy/67a926fa-506f-4d11-bda3-583843df4486.2.jpg to all_images/67a926fa-506f-4d11-bda3-583843df4486.2.jpg\n",
      "Downloaded b1gbqcgk1bfajrkrfdfr/all_images/unhealthy/67a926fa-506f-4d11-bda3-583843df4486.20.jpg to all_images/67a926fa-506f-4d11-bda3-583843df4486.20.jpg\n",
      "Downloaded b1gbqcgk1bfajrkrfdfr/all_images/unhealthy/67a926fa-506f-4d11-bda3-583843df4486.21.jpg to all_images/67a926fa-506f-4d11-bda3-583843df4486.21.jpg\n",
      "Downloaded b1gbqcgk1bfajrkrfdfr/all_images/unhealthy/67a926fa-506f-4d11-bda3-583843df4486.22.jpg to all_images/67a926fa-506f-4d11-bda3-583843df4486.22.jpg\n",
      "Downloaded b1gbqcgk1bfajrkrfdfr/all_images/unhealthy/67a926fa-506f-4d11-bda3-583843df4486.23.jpg to all_images/67a926fa-506f-4d11-bda3-583843df4486.23.jpg\n",
      "Downloaded b1gbqcgk1bfajrkrfdfr/all_images/unhealthy/67a926fa-506f-4d11-bda3-583843df4486.3.jpg to all_images/67a926fa-506f-4d11-bda3-583843df4486.3.jpg\n",
      "Downloaded b1gbqcgk1bfajrkrfdfr/all_images/unhealthy/67a926fa-506f-4d11-bda3-583843df4486.4.jpg to all_images/67a926fa-506f-4d11-bda3-583843df4486.4.jpg\n",
      "Downloaded b1gbqcgk1bfajrkrfdfr/all_images/unhealthy/67a926fa-506f-4d11-bda3-583843df4486.5.jpg to all_images/67a926fa-506f-4d11-bda3-583843df4486.5.jpg\n",
      "Downloaded b1gbqcgk1bfajrkrfdfr/all_images/unhealthy/67a926fa-506f-4d11-bda3-583843df4486.6.jpg to all_images/67a926fa-506f-4d11-bda3-583843df4486.6.jpg\n",
      "Downloaded b1gbqcgk1bfajrkrfdfr/all_images/unhealthy/67a926fa-506f-4d11-bda3-583843df4486.7.jpg to all_images/67a926fa-506f-4d11-bda3-583843df4486.7.jpg\n",
      "Downloaded b1gbqcgk1bfajrkrfdfr/all_images/unhealthy/67a926fa-506f-4d11-bda3-583843df4486.8.jpg to all_images/67a926fa-506f-4d11-bda3-583843df4486.8.jpg\n",
      "Downloaded b1gbqcgk1bfajrkrfdfr/all_images/unhealthy/67a926fa-506f-4d11-bda3-583843df4486.9.jpg to all_images/67a926fa-506f-4d11-bda3-583843df4486.9.jpg\n",
      "Downloaded b1gbqcgk1bfajrkrfdfr/all_images/unhealthy/6c26c215-8e31-4f5c-b8d6-ada468e731ff.1.jpg to all_images/6c26c215-8e31-4f5c-b8d6-ada468e731ff.1.jpg\n",
      "Downloaded b1gbqcgk1bfajrkrfdfr/all_images/unhealthy/6c26c215-8e31-4f5c-b8d6-ada468e731ff.10.jpg to all_images/6c26c215-8e31-4f5c-b8d6-ada468e731ff.10.jpg\n",
      "Downloaded b1gbqcgk1bfajrkrfdfr/all_images/unhealthy/6c26c215-8e31-4f5c-b8d6-ada468e731ff.11.jpg to all_images/6c26c215-8e31-4f5c-b8d6-ada468e731ff.11.jpg\n",
      "Downloaded b1gbqcgk1bfajrkrfdfr/all_images/unhealthy/6c26c215-8e31-4f5c-b8d6-ada468e731ff.12.jpg to all_images/6c26c215-8e31-4f5c-b8d6-ada468e731ff.12.jpg\n",
      "Downloaded b1gbqcgk1bfajrkrfdfr/all_images/unhealthy/6c26c215-8e31-4f5c-b8d6-ada468e731ff.2.jpg to all_images/6c26c215-8e31-4f5c-b8d6-ada468e731ff.2.jpg\n",
      "Downloaded b1gbqcgk1bfajrkrfdfr/all_images/unhealthy/6c26c215-8e31-4f5c-b8d6-ada468e731ff.3.jpg to all_images/6c26c215-8e31-4f5c-b8d6-ada468e731ff.3.jpg\n",
      "Downloaded b1gbqcgk1bfajrkrfdfr/all_images/unhealthy/6c26c215-8e31-4f5c-b8d6-ada468e731ff.4.jpg to all_images/6c26c215-8e31-4f5c-b8d6-ada468e731ff.4.jpg\n",
      "Downloaded b1gbqcgk1bfajrkrfdfr/all_images/unhealthy/6c26c215-8e31-4f5c-b8d6-ada468e731ff.5.jpg to all_images/6c26c215-8e31-4f5c-b8d6-ada468e731ff.5.jpg\n",
      "Downloaded b1gbqcgk1bfajrkrfdfr/all_images/unhealthy/6c26c215-8e31-4f5c-b8d6-ada468e731ff.6.jpg to all_images/6c26c215-8e31-4f5c-b8d6-ada468e731ff.6.jpg\n",
      "Downloaded b1gbqcgk1bfajrkrfdfr/all_images/unhealthy/6c26c215-8e31-4f5c-b8d6-ada468e731ff.7.jpg to all_images/6c26c215-8e31-4f5c-b8d6-ada468e731ff.7.jpg\n",
      "Downloaded b1gbqcgk1bfajrkrfdfr/all_images/unhealthy/6c26c215-8e31-4f5c-b8d6-ada468e731ff.8.jpg to all_images/6c26c215-8e31-4f5c-b8d6-ada468e731ff.8.jpg\n",
      "Downloaded b1gbqcgk1bfajrkrfdfr/all_images/unhealthy/6c26c215-8e31-4f5c-b8d6-ada468e731ff.9.jpg to all_images/6c26c215-8e31-4f5c-b8d6-ada468e731ff.9.jpg\n",
      "Downloaded b1gbqcgk1bfajrkrfdfr/all_images/unhealthy/8045b6ce-4d3a-447d-82ce-069417f4f7ff.1.jpg to all_images/8045b6ce-4d3a-447d-82ce-069417f4f7ff.1.jpg\n",
      "Downloaded b1gbqcgk1bfajrkrfdfr/all_images/unhealthy/8045b6ce-4d3a-447d-82ce-069417f4f7ff.10.jpg to all_images/8045b6ce-4d3a-447d-82ce-069417f4f7ff.10.jpg\n",
      "Downloaded b1gbqcgk1bfajrkrfdfr/all_images/unhealthy/8045b6ce-4d3a-447d-82ce-069417f4f7ff.11.jpg to all_images/8045b6ce-4d3a-447d-82ce-069417f4f7ff.11.jpg\n",
      "Downloaded b1gbqcgk1bfajrkrfdfr/all_images/unhealthy/8045b6ce-4d3a-447d-82ce-069417f4f7ff.12.jpg to all_images/8045b6ce-4d3a-447d-82ce-069417f4f7ff.12.jpg\n",
      "Downloaded b1gbqcgk1bfajrkrfdfr/all_images/unhealthy/8045b6ce-4d3a-447d-82ce-069417f4f7ff.2.jpg to all_images/8045b6ce-4d3a-447d-82ce-069417f4f7ff.2.jpg\n",
      "Downloaded b1gbqcgk1bfajrkrfdfr/all_images/unhealthy/8045b6ce-4d3a-447d-82ce-069417f4f7ff.3.jpg to all_images/8045b6ce-4d3a-447d-82ce-069417f4f7ff.3.jpg\n",
      "Downloaded b1gbqcgk1bfajrkrfdfr/all_images/unhealthy/8045b6ce-4d3a-447d-82ce-069417f4f7ff.4.jpg to all_images/8045b6ce-4d3a-447d-82ce-069417f4f7ff.4.jpg\n",
      "Downloaded b1gbqcgk1bfajrkrfdfr/all_images/unhealthy/8045b6ce-4d3a-447d-82ce-069417f4f7ff.5.jpg to all_images/8045b6ce-4d3a-447d-82ce-069417f4f7ff.5.jpg\n",
      "Downloaded b1gbqcgk1bfajrkrfdfr/all_images/unhealthy/8045b6ce-4d3a-447d-82ce-069417f4f7ff.6.jpg to all_images/8045b6ce-4d3a-447d-82ce-069417f4f7ff.6.jpg\n",
      "Downloaded b1gbqcgk1bfajrkrfdfr/all_images/unhealthy/8045b6ce-4d3a-447d-82ce-069417f4f7ff.7.jpg to all_images/8045b6ce-4d3a-447d-82ce-069417f4f7ff.7.jpg\n",
      "Downloaded b1gbqcgk1bfajrkrfdfr/all_images/unhealthy/8045b6ce-4d3a-447d-82ce-069417f4f7ff.8.jpg to all_images/8045b6ce-4d3a-447d-82ce-069417f4f7ff.8.jpg\n",
      "Downloaded b1gbqcgk1bfajrkrfdfr/all_images/unhealthy/8045b6ce-4d3a-447d-82ce-069417f4f7ff.9.jpg to all_images/8045b6ce-4d3a-447d-82ce-069417f4f7ff.9.jpg\n",
      "Downloaded b1gbqcgk1bfajrkrfdfr/all_images/unhealthy/8571dace-7e9e-40ab-a02a-8f9c06619be8.1.jpg to all_images/8571dace-7e9e-40ab-a02a-8f9c06619be8.1.jpg\n",
      "Downloaded b1gbqcgk1bfajrkrfdfr/all_images/unhealthy/8571dace-7e9e-40ab-a02a-8f9c06619be8.10.jpg to all_images/8571dace-7e9e-40ab-a02a-8f9c06619be8.10.jpg\n",
      "Downloaded b1gbqcgk1bfajrkrfdfr/all_images/unhealthy/8571dace-7e9e-40ab-a02a-8f9c06619be8.11.jpg to all_images/8571dace-7e9e-40ab-a02a-8f9c06619be8.11.jpg\n",
      "Downloaded b1gbqcgk1bfajrkrfdfr/all_images/unhealthy/8571dace-7e9e-40ab-a02a-8f9c06619be8.12.jpg to all_images/8571dace-7e9e-40ab-a02a-8f9c06619be8.12.jpg\n",
      "Downloaded b1gbqcgk1bfajrkrfdfr/all_images/unhealthy/8571dace-7e9e-40ab-a02a-8f9c06619be8.2.jpg to all_images/8571dace-7e9e-40ab-a02a-8f9c06619be8.2.jpg\n",
      "Downloaded b1gbqcgk1bfajrkrfdfr/all_images/unhealthy/8571dace-7e9e-40ab-a02a-8f9c06619be8.3.jpg to all_images/8571dace-7e9e-40ab-a02a-8f9c06619be8.3.jpg\n",
      "Downloaded b1gbqcgk1bfajrkrfdfr/all_images/unhealthy/8571dace-7e9e-40ab-a02a-8f9c06619be8.4.jpg to all_images/8571dace-7e9e-40ab-a02a-8f9c06619be8.4.jpg\n",
      "Downloaded b1gbqcgk1bfajrkrfdfr/all_images/unhealthy/8571dace-7e9e-40ab-a02a-8f9c06619be8.5.jpg to all_images/8571dace-7e9e-40ab-a02a-8f9c06619be8.5.jpg\n",
      "Downloaded b1gbqcgk1bfajrkrfdfr/all_images/unhealthy/8571dace-7e9e-40ab-a02a-8f9c06619be8.6.jpg to all_images/8571dace-7e9e-40ab-a02a-8f9c06619be8.6.jpg\n",
      "Downloaded b1gbqcgk1bfajrkrfdfr/all_images/unhealthy/8571dace-7e9e-40ab-a02a-8f9c06619be8.7.jpg to all_images/8571dace-7e9e-40ab-a02a-8f9c06619be8.7.jpg\n",
      "Downloaded b1gbqcgk1bfajrkrfdfr/all_images/unhealthy/8571dace-7e9e-40ab-a02a-8f9c06619be8.8.jpg to all_images/8571dace-7e9e-40ab-a02a-8f9c06619be8.8.jpg\n",
      "Downloaded b1gbqcgk1bfajrkrfdfr/all_images/unhealthy/8571dace-7e9e-40ab-a02a-8f9c06619be8.9.jpg to all_images/8571dace-7e9e-40ab-a02a-8f9c06619be8.9.jpg\n",
      "Downloaded b1gbqcgk1bfajrkrfdfr/all_images/unhealthy/85eaa02b-4276-4203-8f00-5403a8cdec70.1.jpg to all_images/85eaa02b-4276-4203-8f00-5403a8cdec70.1.jpg\n",
      "Downloaded b1gbqcgk1bfajrkrfdfr/all_images/unhealthy/85eaa02b-4276-4203-8f00-5403a8cdec70.10.jpg to all_images/85eaa02b-4276-4203-8f00-5403a8cdec70.10.jpg\n",
      "Downloaded b1gbqcgk1bfajrkrfdfr/all_images/unhealthy/85eaa02b-4276-4203-8f00-5403a8cdec70.11.jpg to all_images/85eaa02b-4276-4203-8f00-5403a8cdec70.11.jpg\n",
      "Downloaded b1gbqcgk1bfajrkrfdfr/all_images/unhealthy/85eaa02b-4276-4203-8f00-5403a8cdec70.12.jpg to all_images/85eaa02b-4276-4203-8f00-5403a8cdec70.12.jpg\n",
      "Downloaded b1gbqcgk1bfajrkrfdfr/all_images/unhealthy/85eaa02b-4276-4203-8f00-5403a8cdec70.2.jpg to all_images/85eaa02b-4276-4203-8f00-5403a8cdec70.2.jpg\n",
      "Downloaded b1gbqcgk1bfajrkrfdfr/all_images/unhealthy/85eaa02b-4276-4203-8f00-5403a8cdec70.3.jpg to all_images/85eaa02b-4276-4203-8f00-5403a8cdec70.3.jpg\n",
      "Downloaded b1gbqcgk1bfajrkrfdfr/all_images/unhealthy/85eaa02b-4276-4203-8f00-5403a8cdec70.4.jpg to all_images/85eaa02b-4276-4203-8f00-5403a8cdec70.4.jpg\n",
      "Downloaded b1gbqcgk1bfajrkrfdfr/all_images/unhealthy/85eaa02b-4276-4203-8f00-5403a8cdec70.5.jpg to all_images/85eaa02b-4276-4203-8f00-5403a8cdec70.5.jpg\n",
      "Downloaded b1gbqcgk1bfajrkrfdfr/all_images/unhealthy/85eaa02b-4276-4203-8f00-5403a8cdec70.6.jpg to all_images/85eaa02b-4276-4203-8f00-5403a8cdec70.6.jpg\n",
      "Downloaded b1gbqcgk1bfajrkrfdfr/all_images/unhealthy/85eaa02b-4276-4203-8f00-5403a8cdec70.7.jpg to all_images/85eaa02b-4276-4203-8f00-5403a8cdec70.7.jpg\n",
      "Downloaded b1gbqcgk1bfajrkrfdfr/all_images/unhealthy/85eaa02b-4276-4203-8f00-5403a8cdec70.8.jpg to all_images/85eaa02b-4276-4203-8f00-5403a8cdec70.8.jpg\n",
      "Downloaded b1gbqcgk1bfajrkrfdfr/all_images/unhealthy/85eaa02b-4276-4203-8f00-5403a8cdec70.9.jpg to all_images/85eaa02b-4276-4203-8f00-5403a8cdec70.9.jpg\n",
      "Downloaded b1gbqcgk1bfajrkrfdfr/all_images/unhealthy/89cb4385-8258-4e8c-bad3-86673e04d882.1.jpg to all_images/89cb4385-8258-4e8c-bad3-86673e04d882.1.jpg\n",
      "Downloaded b1gbqcgk1bfajrkrfdfr/all_images/unhealthy/89cb4385-8258-4e8c-bad3-86673e04d882.10.jpg to all_images/89cb4385-8258-4e8c-bad3-86673e04d882.10.jpg\n",
      "Downloaded b1gbqcgk1bfajrkrfdfr/all_images/unhealthy/89cb4385-8258-4e8c-bad3-86673e04d882.11.jpg to all_images/89cb4385-8258-4e8c-bad3-86673e04d882.11.jpg\n",
      "Downloaded b1gbqcgk1bfajrkrfdfr/all_images/unhealthy/89cb4385-8258-4e8c-bad3-86673e04d882.12.jpg to all_images/89cb4385-8258-4e8c-bad3-86673e04d882.12.jpg\n",
      "Downloaded b1gbqcgk1bfajrkrfdfr/all_images/unhealthy/89cb4385-8258-4e8c-bad3-86673e04d882.13.jpg to all_images/89cb4385-8258-4e8c-bad3-86673e04d882.13.jpg\n",
      "Downloaded b1gbqcgk1bfajrkrfdfr/all_images/unhealthy/89cb4385-8258-4e8c-bad3-86673e04d882.14.jpg to all_images/89cb4385-8258-4e8c-bad3-86673e04d882.14.jpg\n",
      "Downloaded b1gbqcgk1bfajrkrfdfr/all_images/unhealthy/89cb4385-8258-4e8c-bad3-86673e04d882.15.jpg to all_images/89cb4385-8258-4e8c-bad3-86673e04d882.15.jpg\n",
      "Downloaded b1gbqcgk1bfajrkrfdfr/all_images/unhealthy/89cb4385-8258-4e8c-bad3-86673e04d882.2.jpg to all_images/89cb4385-8258-4e8c-bad3-86673e04d882.2.jpg\n",
      "Downloaded b1gbqcgk1bfajrkrfdfr/all_images/unhealthy/89cb4385-8258-4e8c-bad3-86673e04d882.3.jpg to all_images/89cb4385-8258-4e8c-bad3-86673e04d882.3.jpg\n",
      "Downloaded b1gbqcgk1bfajrkrfdfr/all_images/unhealthy/89cb4385-8258-4e8c-bad3-86673e04d882.4.jpg to all_images/89cb4385-8258-4e8c-bad3-86673e04d882.4.jpg\n",
      "Downloaded b1gbqcgk1bfajrkrfdfr/all_images/unhealthy/89cb4385-8258-4e8c-bad3-86673e04d882.5.jpg to all_images/89cb4385-8258-4e8c-bad3-86673e04d882.5.jpg\n",
      "Downloaded b1gbqcgk1bfajrkrfdfr/all_images/unhealthy/89cb4385-8258-4e8c-bad3-86673e04d882.6.jpg to all_images/89cb4385-8258-4e8c-bad3-86673e04d882.6.jpg\n",
      "Downloaded b1gbqcgk1bfajrkrfdfr/all_images/unhealthy/89cb4385-8258-4e8c-bad3-86673e04d882.7.jpg to all_images/89cb4385-8258-4e8c-bad3-86673e04d882.7.jpg\n",
      "Downloaded b1gbqcgk1bfajrkrfdfr/all_images/unhealthy/89cb4385-8258-4e8c-bad3-86673e04d882.8.jpg to all_images/89cb4385-8258-4e8c-bad3-86673e04d882.8.jpg\n",
      "Downloaded b1gbqcgk1bfajrkrfdfr/all_images/unhealthy/89cb4385-8258-4e8c-bad3-86673e04d882.9.jpg to all_images/89cb4385-8258-4e8c-bad3-86673e04d882.9.jpg\n",
      "Downloaded b1gbqcgk1bfajrkrfdfr/all_images/unhealthy/92bb8932-e6ca-4ae7-bfc1-4f034c5b90f5.1.jpg to all_images/92bb8932-e6ca-4ae7-bfc1-4f034c5b90f5.1.jpg\n",
      "Downloaded b1gbqcgk1bfajrkrfdfr/all_images/unhealthy/92bb8932-e6ca-4ae7-bfc1-4f034c5b90f5.2.jpg to all_images/92bb8932-e6ca-4ae7-bfc1-4f034c5b90f5.2.jpg\n",
      "Downloaded b1gbqcgk1bfajrkrfdfr/all_images/unhealthy/92bb8932-e6ca-4ae7-bfc1-4f034c5b90f5.3.jpg to all_images/92bb8932-e6ca-4ae7-bfc1-4f034c5b90f5.3.jpg\n",
      "Downloaded b1gbqcgk1bfajrkrfdfr/all_images/unhealthy/92bb8932-e6ca-4ae7-bfc1-4f034c5b90f5.4.jpg to all_images/92bb8932-e6ca-4ae7-bfc1-4f034c5b90f5.4.jpg\n",
      "Downloaded b1gbqcgk1bfajrkrfdfr/all_images/unhealthy/92bb8932-e6ca-4ae7-bfc1-4f034c5b90f5.5.jpg to all_images/92bb8932-e6ca-4ae7-bfc1-4f034c5b90f5.5.jpg\n",
      "Downloaded b1gbqcgk1bfajrkrfdfr/all_images/unhealthy/92bb8932-e6ca-4ae7-bfc1-4f034c5b90f5.6.jpg to all_images/92bb8932-e6ca-4ae7-bfc1-4f034c5b90f5.6.jpg\n",
      "Downloaded b1gbqcgk1bfajrkrfdfr/all_images/unhealthy/92bb8932-e6ca-4ae7-bfc1-4f034c5b90f5.7.jpg to all_images/92bb8932-e6ca-4ae7-bfc1-4f034c5b90f5.7.jpg\n",
      "Downloaded b1gbqcgk1bfajrkrfdfr/all_images/unhealthy/92bb8932-e6ca-4ae7-bfc1-4f034c5b90f5.8.jpg to all_images/92bb8932-e6ca-4ae7-bfc1-4f034c5b90f5.8.jpg\n",
      "Downloaded b1gbqcgk1bfajrkrfdfr/all_images/unhealthy/92bb8932-e6ca-4ae7-bfc1-4f034c5b90f5.9.jpg to all_images/92bb8932-e6ca-4ae7-bfc1-4f034c5b90f5.9.jpg\n",
      "Downloaded b1gbqcgk1bfajrkrfdfr/all_images/unhealthy/9e901946-eaa1-47f1-8f48-1c260b066ed2.1.jpg to all_images/9e901946-eaa1-47f1-8f48-1c260b066ed2.1.jpg\n",
      "Downloaded b1gbqcgk1bfajrkrfdfr/all_images/unhealthy/9e901946-eaa1-47f1-8f48-1c260b066ed2.10.jpg to all_images/9e901946-eaa1-47f1-8f48-1c260b066ed2.10.jpg\n",
      "Downloaded b1gbqcgk1bfajrkrfdfr/all_images/unhealthy/9e901946-eaa1-47f1-8f48-1c260b066ed2.11.jpg to all_images/9e901946-eaa1-47f1-8f48-1c260b066ed2.11.jpg\n",
      "Downloaded b1gbqcgk1bfajrkrfdfr/all_images/unhealthy/9e901946-eaa1-47f1-8f48-1c260b066ed2.12.jpg to all_images/9e901946-eaa1-47f1-8f48-1c260b066ed2.12.jpg\n",
      "Downloaded b1gbqcgk1bfajrkrfdfr/all_images/unhealthy/9e901946-eaa1-47f1-8f48-1c260b066ed2.13.jpg to all_images/9e901946-eaa1-47f1-8f48-1c260b066ed2.13.jpg\n",
      "Downloaded b1gbqcgk1bfajrkrfdfr/all_images/unhealthy/9e901946-eaa1-47f1-8f48-1c260b066ed2.14.jpg to all_images/9e901946-eaa1-47f1-8f48-1c260b066ed2.14.jpg\n",
      "Downloaded b1gbqcgk1bfajrkrfdfr/all_images/unhealthy/9e901946-eaa1-47f1-8f48-1c260b066ed2.15.jpg to all_images/9e901946-eaa1-47f1-8f48-1c260b066ed2.15.jpg\n",
      "Downloaded b1gbqcgk1bfajrkrfdfr/all_images/unhealthy/9e901946-eaa1-47f1-8f48-1c260b066ed2.16.jpg to all_images/9e901946-eaa1-47f1-8f48-1c260b066ed2.16.jpg\n",
      "Downloaded b1gbqcgk1bfajrkrfdfr/all_images/unhealthy/9e901946-eaa1-47f1-8f48-1c260b066ed2.17.jpg to all_images/9e901946-eaa1-47f1-8f48-1c260b066ed2.17.jpg\n",
      "Downloaded b1gbqcgk1bfajrkrfdfr/all_images/unhealthy/9e901946-eaa1-47f1-8f48-1c260b066ed2.18.jpg to all_images/9e901946-eaa1-47f1-8f48-1c260b066ed2.18.jpg\n",
      "Downloaded b1gbqcgk1bfajrkrfdfr/all_images/unhealthy/9e901946-eaa1-47f1-8f48-1c260b066ed2.2.jpg to all_images/9e901946-eaa1-47f1-8f48-1c260b066ed2.2.jpg\n",
      "Downloaded b1gbqcgk1bfajrkrfdfr/all_images/unhealthy/9e901946-eaa1-47f1-8f48-1c260b066ed2.3.jpg to all_images/9e901946-eaa1-47f1-8f48-1c260b066ed2.3.jpg\n",
      "Downloaded b1gbqcgk1bfajrkrfdfr/all_images/unhealthy/9e901946-eaa1-47f1-8f48-1c260b066ed2.4.jpg to all_images/9e901946-eaa1-47f1-8f48-1c260b066ed2.4.jpg\n",
      "Downloaded b1gbqcgk1bfajrkrfdfr/all_images/unhealthy/9e901946-eaa1-47f1-8f48-1c260b066ed2.5.jpg to all_images/9e901946-eaa1-47f1-8f48-1c260b066ed2.5.jpg\n",
      "Downloaded b1gbqcgk1bfajrkrfdfr/all_images/unhealthy/9e901946-eaa1-47f1-8f48-1c260b066ed2.6.jpg to all_images/9e901946-eaa1-47f1-8f48-1c260b066ed2.6.jpg\n",
      "Downloaded b1gbqcgk1bfajrkrfdfr/all_images/unhealthy/9e901946-eaa1-47f1-8f48-1c260b066ed2.7.jpg to all_images/9e901946-eaa1-47f1-8f48-1c260b066ed2.7.jpg\n",
      "Downloaded b1gbqcgk1bfajrkrfdfr/all_images/unhealthy/9e901946-eaa1-47f1-8f48-1c260b066ed2.8.jpg to all_images/9e901946-eaa1-47f1-8f48-1c260b066ed2.8.jpg\n",
      "Downloaded b1gbqcgk1bfajrkrfdfr/all_images/unhealthy/9e901946-eaa1-47f1-8f48-1c260b066ed2.9.jpg to all_images/9e901946-eaa1-47f1-8f48-1c260b066ed2.9.jpg\n",
      "Downloaded b1gbqcgk1bfajrkrfdfr/all_images/unhealthy/9fe5bfeb-1289-4b5c-b747-4b6f35be6780.1.jpg to all_images/9fe5bfeb-1289-4b5c-b747-4b6f35be6780.1.jpg\n",
      "Downloaded b1gbqcgk1bfajrkrfdfr/all_images/unhealthy/9fe5bfeb-1289-4b5c-b747-4b6f35be6780.10.jpg to all_images/9fe5bfeb-1289-4b5c-b747-4b6f35be6780.10.jpg\n",
      "Downloaded b1gbqcgk1bfajrkrfdfr/all_images/unhealthy/9fe5bfeb-1289-4b5c-b747-4b6f35be6780.11.jpg to all_images/9fe5bfeb-1289-4b5c-b747-4b6f35be6780.11.jpg\n",
      "Downloaded b1gbqcgk1bfajrkrfdfr/all_images/unhealthy/9fe5bfeb-1289-4b5c-b747-4b6f35be6780.12.jpg to all_images/9fe5bfeb-1289-4b5c-b747-4b6f35be6780.12.jpg\n",
      "Downloaded b1gbqcgk1bfajrkrfdfr/all_images/unhealthy/9fe5bfeb-1289-4b5c-b747-4b6f35be6780.2.jpg to all_images/9fe5bfeb-1289-4b5c-b747-4b6f35be6780.2.jpg\n",
      "Downloaded b1gbqcgk1bfajrkrfdfr/all_images/unhealthy/9fe5bfeb-1289-4b5c-b747-4b6f35be6780.3.jpg to all_images/9fe5bfeb-1289-4b5c-b747-4b6f35be6780.3.jpg\n",
      "Downloaded b1gbqcgk1bfajrkrfdfr/all_images/unhealthy/9fe5bfeb-1289-4b5c-b747-4b6f35be6780.4.jpg to all_images/9fe5bfeb-1289-4b5c-b747-4b6f35be6780.4.jpg\n",
      "Downloaded b1gbqcgk1bfajrkrfdfr/all_images/unhealthy/9fe5bfeb-1289-4b5c-b747-4b6f35be6780.5.jpg to all_images/9fe5bfeb-1289-4b5c-b747-4b6f35be6780.5.jpg\n",
      "Downloaded b1gbqcgk1bfajrkrfdfr/all_images/unhealthy/9fe5bfeb-1289-4b5c-b747-4b6f35be6780.6.jpg to all_images/9fe5bfeb-1289-4b5c-b747-4b6f35be6780.6.jpg\n",
      "Downloaded b1gbqcgk1bfajrkrfdfr/all_images/unhealthy/9fe5bfeb-1289-4b5c-b747-4b6f35be6780.7.jpg to all_images/9fe5bfeb-1289-4b5c-b747-4b6f35be6780.7.jpg\n",
      "Downloaded b1gbqcgk1bfajrkrfdfr/all_images/unhealthy/9fe5bfeb-1289-4b5c-b747-4b6f35be6780.8.jpg to all_images/9fe5bfeb-1289-4b5c-b747-4b6f35be6780.8.jpg\n",
      "Downloaded b1gbqcgk1bfajrkrfdfr/all_images/unhealthy/9fe5bfeb-1289-4b5c-b747-4b6f35be6780.9.jpg to all_images/9fe5bfeb-1289-4b5c-b747-4b6f35be6780.9.jpg\n",
      "Downloaded b1gbqcgk1bfajrkrfdfr/all_images/unhealthy/a7e0d6cf-82f9-46db-b083-0066cb91ddaf.1.jpg to all_images/a7e0d6cf-82f9-46db-b083-0066cb91ddaf.1.jpg\n",
      "Downloaded b1gbqcgk1bfajrkrfdfr/all_images/unhealthy/a7e0d6cf-82f9-46db-b083-0066cb91ddaf.10.jpg to all_images/a7e0d6cf-82f9-46db-b083-0066cb91ddaf.10.jpg\n",
      "Downloaded b1gbqcgk1bfajrkrfdfr/all_images/unhealthy/a7e0d6cf-82f9-46db-b083-0066cb91ddaf.11.jpg to all_images/a7e0d6cf-82f9-46db-b083-0066cb91ddaf.11.jpg\n",
      "Downloaded b1gbqcgk1bfajrkrfdfr/all_images/unhealthy/a7e0d6cf-82f9-46db-b083-0066cb91ddaf.12.jpg to all_images/a7e0d6cf-82f9-46db-b083-0066cb91ddaf.12.jpg\n",
      "Downloaded b1gbqcgk1bfajrkrfdfr/all_images/unhealthy/a7e0d6cf-82f9-46db-b083-0066cb91ddaf.2.jpg to all_images/a7e0d6cf-82f9-46db-b083-0066cb91ddaf.2.jpg\n",
      "Downloaded b1gbqcgk1bfajrkrfdfr/all_images/unhealthy/a7e0d6cf-82f9-46db-b083-0066cb91ddaf.3.jpg to all_images/a7e0d6cf-82f9-46db-b083-0066cb91ddaf.3.jpg\n",
      "Downloaded b1gbqcgk1bfajrkrfdfr/all_images/unhealthy/a7e0d6cf-82f9-46db-b083-0066cb91ddaf.4.jpg to all_images/a7e0d6cf-82f9-46db-b083-0066cb91ddaf.4.jpg\n",
      "Downloaded b1gbqcgk1bfajrkrfdfr/all_images/unhealthy/a7e0d6cf-82f9-46db-b083-0066cb91ddaf.5.jpg to all_images/a7e0d6cf-82f9-46db-b083-0066cb91ddaf.5.jpg\n",
      "Downloaded b1gbqcgk1bfajrkrfdfr/all_images/unhealthy/a7e0d6cf-82f9-46db-b083-0066cb91ddaf.6.jpg to all_images/a7e0d6cf-82f9-46db-b083-0066cb91ddaf.6.jpg\n",
      "Downloaded b1gbqcgk1bfajrkrfdfr/all_images/unhealthy/a7e0d6cf-82f9-46db-b083-0066cb91ddaf.7.jpg to all_images/a7e0d6cf-82f9-46db-b083-0066cb91ddaf.7.jpg\n",
      "Downloaded b1gbqcgk1bfajrkrfdfr/all_images/unhealthy/a7e0d6cf-82f9-46db-b083-0066cb91ddaf.8.jpg to all_images/a7e0d6cf-82f9-46db-b083-0066cb91ddaf.8.jpg\n",
      "Downloaded b1gbqcgk1bfajrkrfdfr/all_images/unhealthy/a7e0d6cf-82f9-46db-b083-0066cb91ddaf.9.jpg to all_images/a7e0d6cf-82f9-46db-b083-0066cb91ddaf.9.jpg\n",
      "Downloaded b1gbqcgk1bfajrkrfdfr/all_images/unhealthy/aa5334f9-124e-4290-a8a9-765c76e0c75b.1.jpg to all_images/aa5334f9-124e-4290-a8a9-765c76e0c75b.1.jpg\n",
      "Downloaded b1gbqcgk1bfajrkrfdfr/all_images/unhealthy/aa5334f9-124e-4290-a8a9-765c76e0c75b.10.jpg to all_images/aa5334f9-124e-4290-a8a9-765c76e0c75b.10.jpg\n",
      "Downloaded b1gbqcgk1bfajrkrfdfr/all_images/unhealthy/aa5334f9-124e-4290-a8a9-765c76e0c75b.11.jpg to all_images/aa5334f9-124e-4290-a8a9-765c76e0c75b.11.jpg\n",
      "Downloaded b1gbqcgk1bfajrkrfdfr/all_images/unhealthy/aa5334f9-124e-4290-a8a9-765c76e0c75b.12.jpg to all_images/aa5334f9-124e-4290-a8a9-765c76e0c75b.12.jpg\n",
      "Downloaded b1gbqcgk1bfajrkrfdfr/all_images/unhealthy/aa5334f9-124e-4290-a8a9-765c76e0c75b.13.jpg to all_images/aa5334f9-124e-4290-a8a9-765c76e0c75b.13.jpg\n",
      "Downloaded b1gbqcgk1bfajrkrfdfr/all_images/unhealthy/aa5334f9-124e-4290-a8a9-765c76e0c75b.14.jpg to all_images/aa5334f9-124e-4290-a8a9-765c76e0c75b.14.jpg\n",
      "Downloaded b1gbqcgk1bfajrkrfdfr/all_images/unhealthy/aa5334f9-124e-4290-a8a9-765c76e0c75b.15.jpg to all_images/aa5334f9-124e-4290-a8a9-765c76e0c75b.15.jpg\n",
      "Downloaded b1gbqcgk1bfajrkrfdfr/all_images/unhealthy/aa5334f9-124e-4290-a8a9-765c76e0c75b.16.jpg to all_images/aa5334f9-124e-4290-a8a9-765c76e0c75b.16.jpg\n",
      "Downloaded b1gbqcgk1bfajrkrfdfr/all_images/unhealthy/aa5334f9-124e-4290-a8a9-765c76e0c75b.17.jpg to all_images/aa5334f9-124e-4290-a8a9-765c76e0c75b.17.jpg\n",
      "Downloaded b1gbqcgk1bfajrkrfdfr/all_images/unhealthy/aa5334f9-124e-4290-a8a9-765c76e0c75b.18.jpg to all_images/aa5334f9-124e-4290-a8a9-765c76e0c75b.18.jpg\n",
      "Downloaded b1gbqcgk1bfajrkrfdfr/all_images/unhealthy/aa5334f9-124e-4290-a8a9-765c76e0c75b.19.jpg to all_images/aa5334f9-124e-4290-a8a9-765c76e0c75b.19.jpg\n",
      "Downloaded b1gbqcgk1bfajrkrfdfr/all_images/unhealthy/aa5334f9-124e-4290-a8a9-765c76e0c75b.2.jpg to all_images/aa5334f9-124e-4290-a8a9-765c76e0c75b.2.jpg\n",
      "Downloaded b1gbqcgk1bfajrkrfdfr/all_images/unhealthy/aa5334f9-124e-4290-a8a9-765c76e0c75b.20.jpg to all_images/aa5334f9-124e-4290-a8a9-765c76e0c75b.20.jpg\n",
      "Downloaded b1gbqcgk1bfajrkrfdfr/all_images/unhealthy/aa5334f9-124e-4290-a8a9-765c76e0c75b.21.jpg to all_images/aa5334f9-124e-4290-a8a9-765c76e0c75b.21.jpg\n",
      "Downloaded b1gbqcgk1bfajrkrfdfr/all_images/unhealthy/aa5334f9-124e-4290-a8a9-765c76e0c75b.3.jpg to all_images/aa5334f9-124e-4290-a8a9-765c76e0c75b.3.jpg\n",
      "Downloaded b1gbqcgk1bfajrkrfdfr/all_images/unhealthy/aa5334f9-124e-4290-a8a9-765c76e0c75b.4.jpg to all_images/aa5334f9-124e-4290-a8a9-765c76e0c75b.4.jpg\n",
      "Downloaded b1gbqcgk1bfajrkrfdfr/all_images/unhealthy/aa5334f9-124e-4290-a8a9-765c76e0c75b.5.jpg to all_images/aa5334f9-124e-4290-a8a9-765c76e0c75b.5.jpg\n",
      "Downloaded b1gbqcgk1bfajrkrfdfr/all_images/unhealthy/aa5334f9-124e-4290-a8a9-765c76e0c75b.6.jpg to all_images/aa5334f9-124e-4290-a8a9-765c76e0c75b.6.jpg\n",
      "Downloaded b1gbqcgk1bfajrkrfdfr/all_images/unhealthy/aa5334f9-124e-4290-a8a9-765c76e0c75b.7.jpg to all_images/aa5334f9-124e-4290-a8a9-765c76e0c75b.7.jpg\n",
      "Downloaded b1gbqcgk1bfajrkrfdfr/all_images/unhealthy/aa5334f9-124e-4290-a8a9-765c76e0c75b.8.jpg to all_images/aa5334f9-124e-4290-a8a9-765c76e0c75b.8.jpg\n",
      "Downloaded b1gbqcgk1bfajrkrfdfr/all_images/unhealthy/aa5334f9-124e-4290-a8a9-765c76e0c75b.9.jpg to all_images/aa5334f9-124e-4290-a8a9-765c76e0c75b.9.jpg\n",
      "Downloaded b1gbqcgk1bfajrkrfdfr/all_images/unhealthy/b633aa55-60e2-4bb5-9998-1e9b9e70e22d.1.jpg to all_images/b633aa55-60e2-4bb5-9998-1e9b9e70e22d.1.jpg\n",
      "Downloaded b1gbqcgk1bfajrkrfdfr/all_images/unhealthy/b633aa55-60e2-4bb5-9998-1e9b9e70e22d.10.jpg to all_images/b633aa55-60e2-4bb5-9998-1e9b9e70e22d.10.jpg\n",
      "Downloaded b1gbqcgk1bfajrkrfdfr/all_images/unhealthy/b633aa55-60e2-4bb5-9998-1e9b9e70e22d.11.jpg to all_images/b633aa55-60e2-4bb5-9998-1e9b9e70e22d.11.jpg\n",
      "Downloaded b1gbqcgk1bfajrkrfdfr/all_images/unhealthy/b633aa55-60e2-4bb5-9998-1e9b9e70e22d.12.jpg to all_images/b633aa55-60e2-4bb5-9998-1e9b9e70e22d.12.jpg\n",
      "Downloaded b1gbqcgk1bfajrkrfdfr/all_images/unhealthy/b633aa55-60e2-4bb5-9998-1e9b9e70e22d.13.jpg to all_images/b633aa55-60e2-4bb5-9998-1e9b9e70e22d.13.jpg\n",
      "Downloaded b1gbqcgk1bfajrkrfdfr/all_images/unhealthy/b633aa55-60e2-4bb5-9998-1e9b9e70e22d.14.jpg to all_images/b633aa55-60e2-4bb5-9998-1e9b9e70e22d.14.jpg\n",
      "Downloaded b1gbqcgk1bfajrkrfdfr/all_images/unhealthy/b633aa55-60e2-4bb5-9998-1e9b9e70e22d.15.jpg to all_images/b633aa55-60e2-4bb5-9998-1e9b9e70e22d.15.jpg\n",
      "Downloaded b1gbqcgk1bfajrkrfdfr/all_images/unhealthy/b633aa55-60e2-4bb5-9998-1e9b9e70e22d.16.jpg to all_images/b633aa55-60e2-4bb5-9998-1e9b9e70e22d.16.jpg\n",
      "Downloaded b1gbqcgk1bfajrkrfdfr/all_images/unhealthy/b633aa55-60e2-4bb5-9998-1e9b9e70e22d.17.jpg to all_images/b633aa55-60e2-4bb5-9998-1e9b9e70e22d.17.jpg\n",
      "Downloaded b1gbqcgk1bfajrkrfdfr/all_images/unhealthy/b633aa55-60e2-4bb5-9998-1e9b9e70e22d.18.jpg to all_images/b633aa55-60e2-4bb5-9998-1e9b9e70e22d.18.jpg\n",
      "Downloaded b1gbqcgk1bfajrkrfdfr/all_images/unhealthy/b633aa55-60e2-4bb5-9998-1e9b9e70e22d.19.jpg to all_images/b633aa55-60e2-4bb5-9998-1e9b9e70e22d.19.jpg\n",
      "Downloaded b1gbqcgk1bfajrkrfdfr/all_images/unhealthy/b633aa55-60e2-4bb5-9998-1e9b9e70e22d.2.jpg to all_images/b633aa55-60e2-4bb5-9998-1e9b9e70e22d.2.jpg\n",
      "Downloaded b1gbqcgk1bfajrkrfdfr/all_images/unhealthy/b633aa55-60e2-4bb5-9998-1e9b9e70e22d.20.jpg to all_images/b633aa55-60e2-4bb5-9998-1e9b9e70e22d.20.jpg\n",
      "Downloaded b1gbqcgk1bfajrkrfdfr/all_images/unhealthy/b633aa55-60e2-4bb5-9998-1e9b9e70e22d.21.jpg to all_images/b633aa55-60e2-4bb5-9998-1e9b9e70e22d.21.jpg\n",
      "Downloaded b1gbqcgk1bfajrkrfdfr/all_images/unhealthy/b633aa55-60e2-4bb5-9998-1e9b9e70e22d.22.jpg to all_images/b633aa55-60e2-4bb5-9998-1e9b9e70e22d.22.jpg\n",
      "Downloaded b1gbqcgk1bfajrkrfdfr/all_images/unhealthy/b633aa55-60e2-4bb5-9998-1e9b9e70e22d.23.jpg to all_images/b633aa55-60e2-4bb5-9998-1e9b9e70e22d.23.jpg\n",
      "Downloaded b1gbqcgk1bfajrkrfdfr/all_images/unhealthy/b633aa55-60e2-4bb5-9998-1e9b9e70e22d.24.jpg to all_images/b633aa55-60e2-4bb5-9998-1e9b9e70e22d.24.jpg\n",
      "Downloaded b1gbqcgk1bfajrkrfdfr/all_images/unhealthy/b633aa55-60e2-4bb5-9998-1e9b9e70e22d.3.jpg to all_images/b633aa55-60e2-4bb5-9998-1e9b9e70e22d.3.jpg\n",
      "Downloaded b1gbqcgk1bfajrkrfdfr/all_images/unhealthy/b633aa55-60e2-4bb5-9998-1e9b9e70e22d.4.jpg to all_images/b633aa55-60e2-4bb5-9998-1e9b9e70e22d.4.jpg\n",
      "Downloaded b1gbqcgk1bfajrkrfdfr/all_images/unhealthy/b633aa55-60e2-4bb5-9998-1e9b9e70e22d.5.jpg to all_images/b633aa55-60e2-4bb5-9998-1e9b9e70e22d.5.jpg\n",
      "Downloaded b1gbqcgk1bfajrkrfdfr/all_images/unhealthy/b633aa55-60e2-4bb5-9998-1e9b9e70e22d.6.jpg to all_images/b633aa55-60e2-4bb5-9998-1e9b9e70e22d.6.jpg\n",
      "Downloaded b1gbqcgk1bfajrkrfdfr/all_images/unhealthy/b633aa55-60e2-4bb5-9998-1e9b9e70e22d.7.jpg to all_images/b633aa55-60e2-4bb5-9998-1e9b9e70e22d.7.jpg\n",
      "Downloaded b1gbqcgk1bfajrkrfdfr/all_images/unhealthy/b633aa55-60e2-4bb5-9998-1e9b9e70e22d.8.jpg to all_images/b633aa55-60e2-4bb5-9998-1e9b9e70e22d.8.jpg\n",
      "Downloaded b1gbqcgk1bfajrkrfdfr/all_images/unhealthy/b633aa55-60e2-4bb5-9998-1e9b9e70e22d.9.jpg to all_images/b633aa55-60e2-4bb5-9998-1e9b9e70e22d.9.jpg\n",
      "Downloaded b1gbqcgk1bfajrkrfdfr/all_images/unhealthy/c0963d52-91e8-41b0-9c1b-c1ff3cb372e5.10.jpg to all_images/c0963d52-91e8-41b0-9c1b-c1ff3cb372e5.10.jpg\n",
      "Downloaded b1gbqcgk1bfajrkrfdfr/all_images/unhealthy/c0963d52-91e8-41b0-9c1b-c1ff3cb372e5.11.jpg to all_images/c0963d52-91e8-41b0-9c1b-c1ff3cb372e5.11.jpg\n",
      "Downloaded b1gbqcgk1bfajrkrfdfr/all_images/unhealthy/c0963d52-91e8-41b0-9c1b-c1ff3cb372e5.12.jpg to all_images/c0963d52-91e8-41b0-9c1b-c1ff3cb372e5.12.jpg\n",
      "Downloaded b1gbqcgk1bfajrkrfdfr/all_images/unhealthy/c0963d52-91e8-41b0-9c1b-c1ff3cb372e5.13.jpg to all_images/c0963d52-91e8-41b0-9c1b-c1ff3cb372e5.13.jpg\n",
      "Downloaded b1gbqcgk1bfajrkrfdfr/all_images/unhealthy/c0963d52-91e8-41b0-9c1b-c1ff3cb372e5.14.jpg to all_images/c0963d52-91e8-41b0-9c1b-c1ff3cb372e5.14.jpg\n",
      "Downloaded b1gbqcgk1bfajrkrfdfr/all_images/unhealthy/c0963d52-91e8-41b0-9c1b-c1ff3cb372e5.15.jpg to all_images/c0963d52-91e8-41b0-9c1b-c1ff3cb372e5.15.jpg\n",
      "Downloaded b1gbqcgk1bfajrkrfdfr/all_images/unhealthy/c0963d52-91e8-41b0-9c1b-c1ff3cb372e5.16.jpg to all_images/c0963d52-91e8-41b0-9c1b-c1ff3cb372e5.16.jpg\n",
      "Downloaded b1gbqcgk1bfajrkrfdfr/all_images/unhealthy/c0963d52-91e8-41b0-9c1b-c1ff3cb372e5.17.jpg to all_images/c0963d52-91e8-41b0-9c1b-c1ff3cb372e5.17.jpg\n",
      "Downloaded b1gbqcgk1bfajrkrfdfr/all_images/unhealthy/c0963d52-91e8-41b0-9c1b-c1ff3cb372e5.18.jpg to all_images/c0963d52-91e8-41b0-9c1b-c1ff3cb372e5.18.jpg\n",
      "Downloaded b1gbqcgk1bfajrkrfdfr/all_images/unhealthy/c0963d52-91e8-41b0-9c1b-c1ff3cb372e5.2.jpg to all_images/c0963d52-91e8-41b0-9c1b-c1ff3cb372e5.2.jpg\n",
      "Downloaded b1gbqcgk1bfajrkrfdfr/all_images/unhealthy/c0963d52-91e8-41b0-9c1b-c1ff3cb372e5.3.jpg to all_images/c0963d52-91e8-41b0-9c1b-c1ff3cb372e5.3.jpg\n",
      "Downloaded b1gbqcgk1bfajrkrfdfr/all_images/unhealthy/c0963d52-91e8-41b0-9c1b-c1ff3cb372e5.4.jpg to all_images/c0963d52-91e8-41b0-9c1b-c1ff3cb372e5.4.jpg\n",
      "Downloaded b1gbqcgk1bfajrkrfdfr/all_images/unhealthy/c0963d52-91e8-41b0-9c1b-c1ff3cb372e5.5.jpg to all_images/c0963d52-91e8-41b0-9c1b-c1ff3cb372e5.5.jpg\n",
      "Downloaded b1gbqcgk1bfajrkrfdfr/all_images/unhealthy/c0963d52-91e8-41b0-9c1b-c1ff3cb372e5.6.jpg to all_images/c0963d52-91e8-41b0-9c1b-c1ff3cb372e5.6.jpg\n",
      "Downloaded b1gbqcgk1bfajrkrfdfr/all_images/unhealthy/c0963d52-91e8-41b0-9c1b-c1ff3cb372e5.7.jpg to all_images/c0963d52-91e8-41b0-9c1b-c1ff3cb372e5.7.jpg\n",
      "Downloaded b1gbqcgk1bfajrkrfdfr/all_images/unhealthy/c0963d52-91e8-41b0-9c1b-c1ff3cb372e5.8.jpg to all_images/c0963d52-91e8-41b0-9c1b-c1ff3cb372e5.8.jpg\n",
      "Downloaded b1gbqcgk1bfajrkrfdfr/all_images/unhealthy/c0963d52-91e8-41b0-9c1b-c1ff3cb372e5.9.jpg to all_images/c0963d52-91e8-41b0-9c1b-c1ff3cb372e5.9.jpg\n",
      "Downloaded b1gbqcgk1bfajrkrfdfr/all_images/unhealthy/c459155f-9bf0-4536-91ca-7f2c739d2ead.1.jpg to all_images/c459155f-9bf0-4536-91ca-7f2c739d2ead.1.jpg\n",
      "Downloaded b1gbqcgk1bfajrkrfdfr/all_images/unhealthy/c459155f-9bf0-4536-91ca-7f2c739d2ead.10.jpg to all_images/c459155f-9bf0-4536-91ca-7f2c739d2ead.10.jpg\n",
      "Downloaded b1gbqcgk1bfajrkrfdfr/all_images/unhealthy/c459155f-9bf0-4536-91ca-7f2c739d2ead.11.jpg to all_images/c459155f-9bf0-4536-91ca-7f2c739d2ead.11.jpg\n",
      "Downloaded b1gbqcgk1bfajrkrfdfr/all_images/unhealthy/c459155f-9bf0-4536-91ca-7f2c739d2ead.12.jpg to all_images/c459155f-9bf0-4536-91ca-7f2c739d2ead.12.jpg\n",
      "Downloaded b1gbqcgk1bfajrkrfdfr/all_images/unhealthy/c459155f-9bf0-4536-91ca-7f2c739d2ead.13.jpg to all_images/c459155f-9bf0-4536-91ca-7f2c739d2ead.13.jpg\n",
      "Downloaded b1gbqcgk1bfajrkrfdfr/all_images/unhealthy/c459155f-9bf0-4536-91ca-7f2c739d2ead.14.jpg to all_images/c459155f-9bf0-4536-91ca-7f2c739d2ead.14.jpg\n",
      "Downloaded b1gbqcgk1bfajrkrfdfr/all_images/unhealthy/c459155f-9bf0-4536-91ca-7f2c739d2ead.15.jpg to all_images/c459155f-9bf0-4536-91ca-7f2c739d2ead.15.jpg\n",
      "Downloaded b1gbqcgk1bfajrkrfdfr/all_images/unhealthy/c459155f-9bf0-4536-91ca-7f2c739d2ead.16.jpg to all_images/c459155f-9bf0-4536-91ca-7f2c739d2ead.16.jpg\n",
      "Downloaded b1gbqcgk1bfajrkrfdfr/all_images/unhealthy/c459155f-9bf0-4536-91ca-7f2c739d2ead.2.jpg to all_images/c459155f-9bf0-4536-91ca-7f2c739d2ead.2.jpg\n",
      "Downloaded b1gbqcgk1bfajrkrfdfr/all_images/unhealthy/c459155f-9bf0-4536-91ca-7f2c739d2ead.3.jpg to all_images/c459155f-9bf0-4536-91ca-7f2c739d2ead.3.jpg\n",
      "Downloaded b1gbqcgk1bfajrkrfdfr/all_images/unhealthy/c459155f-9bf0-4536-91ca-7f2c739d2ead.4.jpg to all_images/c459155f-9bf0-4536-91ca-7f2c739d2ead.4.jpg\n",
      "Downloaded b1gbqcgk1bfajrkrfdfr/all_images/unhealthy/c459155f-9bf0-4536-91ca-7f2c739d2ead.5.jpg to all_images/c459155f-9bf0-4536-91ca-7f2c739d2ead.5.jpg\n",
      "Downloaded b1gbqcgk1bfajrkrfdfr/all_images/unhealthy/c459155f-9bf0-4536-91ca-7f2c739d2ead.6.jpg to all_images/c459155f-9bf0-4536-91ca-7f2c739d2ead.6.jpg\n",
      "Downloaded b1gbqcgk1bfajrkrfdfr/all_images/unhealthy/c459155f-9bf0-4536-91ca-7f2c739d2ead.7.jpg to all_images/c459155f-9bf0-4536-91ca-7f2c739d2ead.7.jpg\n",
      "Downloaded b1gbqcgk1bfajrkrfdfr/all_images/unhealthy/c459155f-9bf0-4536-91ca-7f2c739d2ead.8.jpg to all_images/c459155f-9bf0-4536-91ca-7f2c739d2ead.8.jpg\n",
      "Downloaded b1gbqcgk1bfajrkrfdfr/all_images/unhealthy/c459155f-9bf0-4536-91ca-7f2c739d2ead.9.jpg to all_images/c459155f-9bf0-4536-91ca-7f2c739d2ead.9.jpg\n",
      "Downloaded b1gbqcgk1bfajrkrfdfr/all_images/unhealthy/c7301687-eb22-4214-a9e7-40ce79e18494.1.jpg to all_images/c7301687-eb22-4214-a9e7-40ce79e18494.1.jpg\n",
      "Downloaded b1gbqcgk1bfajrkrfdfr/all_images/unhealthy/c7301687-eb22-4214-a9e7-40ce79e18494.10.jpg to all_images/c7301687-eb22-4214-a9e7-40ce79e18494.10.jpg\n",
      "Downloaded b1gbqcgk1bfajrkrfdfr/all_images/unhealthy/c7301687-eb22-4214-a9e7-40ce79e18494.11.jpg to all_images/c7301687-eb22-4214-a9e7-40ce79e18494.11.jpg\n",
      "Downloaded b1gbqcgk1bfajrkrfdfr/all_images/unhealthy/c7301687-eb22-4214-a9e7-40ce79e18494.2.jpg to all_images/c7301687-eb22-4214-a9e7-40ce79e18494.2.jpg\n",
      "Downloaded b1gbqcgk1bfajrkrfdfr/all_images/unhealthy/c7301687-eb22-4214-a9e7-40ce79e18494.3.jpg to all_images/c7301687-eb22-4214-a9e7-40ce79e18494.3.jpg\n",
      "Downloaded b1gbqcgk1bfajrkrfdfr/all_images/unhealthy/c7301687-eb22-4214-a9e7-40ce79e18494.4.jpg to all_images/c7301687-eb22-4214-a9e7-40ce79e18494.4.jpg\n",
      "Downloaded b1gbqcgk1bfajrkrfdfr/all_images/unhealthy/c7301687-eb22-4214-a9e7-40ce79e18494.5.jpg to all_images/c7301687-eb22-4214-a9e7-40ce79e18494.5.jpg\n",
      "Downloaded b1gbqcgk1bfajrkrfdfr/all_images/unhealthy/c7301687-eb22-4214-a9e7-40ce79e18494.6.jpg to all_images/c7301687-eb22-4214-a9e7-40ce79e18494.6.jpg\n",
      "Downloaded b1gbqcgk1bfajrkrfdfr/all_images/unhealthy/c7301687-eb22-4214-a9e7-40ce79e18494.7.jpg to all_images/c7301687-eb22-4214-a9e7-40ce79e18494.7.jpg\n",
      "Downloaded b1gbqcgk1bfajrkrfdfr/all_images/unhealthy/c7301687-eb22-4214-a9e7-40ce79e18494.8.jpg to all_images/c7301687-eb22-4214-a9e7-40ce79e18494.8.jpg\n",
      "Downloaded b1gbqcgk1bfajrkrfdfr/all_images/unhealthy/c7301687-eb22-4214-a9e7-40ce79e18494.9.jpg to all_images/c7301687-eb22-4214-a9e7-40ce79e18494.9.jpg\n",
      "Downloaded b1gbqcgk1bfajrkrfdfr/all_images/unhealthy/c95362df-8af5-40a6-8327-95caeb8466b0.1.jpg to all_images/c95362df-8af5-40a6-8327-95caeb8466b0.1.jpg\n",
      "Downloaded b1gbqcgk1bfajrkrfdfr/all_images/unhealthy/c95362df-8af5-40a6-8327-95caeb8466b0.2.jpg to all_images/c95362df-8af5-40a6-8327-95caeb8466b0.2.jpg\n",
      "Downloaded b1gbqcgk1bfajrkrfdfr/all_images/unhealthy/c95362df-8af5-40a6-8327-95caeb8466b0.3.jpg to all_images/c95362df-8af5-40a6-8327-95caeb8466b0.3.jpg\n",
      "Downloaded b1gbqcgk1bfajrkrfdfr/all_images/unhealthy/c95362df-8af5-40a6-8327-95caeb8466b0.4.jpg to all_images/c95362df-8af5-40a6-8327-95caeb8466b0.4.jpg\n",
      "Downloaded b1gbqcgk1bfajrkrfdfr/all_images/unhealthy/c95362df-8af5-40a6-8327-95caeb8466b0.5.jpg to all_images/c95362df-8af5-40a6-8327-95caeb8466b0.5.jpg\n",
      "Downloaded b1gbqcgk1bfajrkrfdfr/all_images/unhealthy/c95362df-8af5-40a6-8327-95caeb8466b0.6.jpg to all_images/c95362df-8af5-40a6-8327-95caeb8466b0.6.jpg\n",
      "Downloaded b1gbqcgk1bfajrkrfdfr/all_images/unhealthy/c95362df-8af5-40a6-8327-95caeb8466b0.7.jpg to all_images/c95362df-8af5-40a6-8327-95caeb8466b0.7.jpg\n",
      "Downloaded b1gbqcgk1bfajrkrfdfr/all_images/unhealthy/c95362df-8af5-40a6-8327-95caeb8466b0.8.jpg to all_images/c95362df-8af5-40a6-8327-95caeb8466b0.8.jpg\n",
      "Downloaded b1gbqcgk1bfajrkrfdfr/all_images/unhealthy/c95362df-8af5-40a6-8327-95caeb8466b0.9.jpg to all_images/c95362df-8af5-40a6-8327-95caeb8466b0.9.jpg\n",
      "Downloaded b1gbqcgk1bfajrkrfdfr/all_images/unhealthy/cbcf66ba-3453-4755-8265-ea658c41ce77.1.jpg to all_images/cbcf66ba-3453-4755-8265-ea658c41ce77.1.jpg\n",
      "Downloaded b1gbqcgk1bfajrkrfdfr/all_images/unhealthy/cbcf66ba-3453-4755-8265-ea658c41ce77.10.jpg to all_images/cbcf66ba-3453-4755-8265-ea658c41ce77.10.jpg\n",
      "Downloaded b1gbqcgk1bfajrkrfdfr/all_images/unhealthy/cbcf66ba-3453-4755-8265-ea658c41ce77.11.jpg to all_images/cbcf66ba-3453-4755-8265-ea658c41ce77.11.jpg\n",
      "Downloaded b1gbqcgk1bfajrkrfdfr/all_images/unhealthy/cbcf66ba-3453-4755-8265-ea658c41ce77.12.jpg to all_images/cbcf66ba-3453-4755-8265-ea658c41ce77.12.jpg\n",
      "Downloaded b1gbqcgk1bfajrkrfdfr/all_images/unhealthy/cbcf66ba-3453-4755-8265-ea658c41ce77.13.jpg to all_images/cbcf66ba-3453-4755-8265-ea658c41ce77.13.jpg\n",
      "Downloaded b1gbqcgk1bfajrkrfdfr/all_images/unhealthy/cbcf66ba-3453-4755-8265-ea658c41ce77.14.jpg to all_images/cbcf66ba-3453-4755-8265-ea658c41ce77.14.jpg\n",
      "Downloaded b1gbqcgk1bfajrkrfdfr/all_images/unhealthy/cbcf66ba-3453-4755-8265-ea658c41ce77.2.jpg to all_images/cbcf66ba-3453-4755-8265-ea658c41ce77.2.jpg\n",
      "Downloaded b1gbqcgk1bfajrkrfdfr/all_images/unhealthy/cbcf66ba-3453-4755-8265-ea658c41ce77.3.jpg to all_images/cbcf66ba-3453-4755-8265-ea658c41ce77.3.jpg\n",
      "Downloaded b1gbqcgk1bfajrkrfdfr/all_images/unhealthy/cbcf66ba-3453-4755-8265-ea658c41ce77.4.jpg to all_images/cbcf66ba-3453-4755-8265-ea658c41ce77.4.jpg\n",
      "Downloaded b1gbqcgk1bfajrkrfdfr/all_images/unhealthy/cbcf66ba-3453-4755-8265-ea658c41ce77.5.jpg to all_images/cbcf66ba-3453-4755-8265-ea658c41ce77.5.jpg\n",
      "Downloaded b1gbqcgk1bfajrkrfdfr/all_images/unhealthy/cbcf66ba-3453-4755-8265-ea658c41ce77.6.jpg to all_images/cbcf66ba-3453-4755-8265-ea658c41ce77.6.jpg\n",
      "Downloaded b1gbqcgk1bfajrkrfdfr/all_images/unhealthy/cbcf66ba-3453-4755-8265-ea658c41ce77.7.jpg to all_images/cbcf66ba-3453-4755-8265-ea658c41ce77.7.jpg\n",
      "Downloaded b1gbqcgk1bfajrkrfdfr/all_images/unhealthy/cbcf66ba-3453-4755-8265-ea658c41ce77.8.jpg to all_images/cbcf66ba-3453-4755-8265-ea658c41ce77.8.jpg\n",
      "Downloaded b1gbqcgk1bfajrkrfdfr/all_images/unhealthy/cbcf66ba-3453-4755-8265-ea658c41ce77.9.jpg to all_images/cbcf66ba-3453-4755-8265-ea658c41ce77.9.jpg\n",
      "Downloaded b1gbqcgk1bfajrkrfdfr/all_images/unhealthy/cde972a0-5c38-442d-b95b-d49fd2e56961.1.jpg to all_images/cde972a0-5c38-442d-b95b-d49fd2e56961.1.jpg\n",
      "Downloaded b1gbqcgk1bfajrkrfdfr/all_images/unhealthy/cde972a0-5c38-442d-b95b-d49fd2e56961.10.jpg to all_images/cde972a0-5c38-442d-b95b-d49fd2e56961.10.jpg\n",
      "Downloaded b1gbqcgk1bfajrkrfdfr/all_images/unhealthy/cde972a0-5c38-442d-b95b-d49fd2e56961.2.jpg to all_images/cde972a0-5c38-442d-b95b-d49fd2e56961.2.jpg\n",
      "Downloaded b1gbqcgk1bfajrkrfdfr/all_images/unhealthy/cde972a0-5c38-442d-b95b-d49fd2e56961.3.jpg to all_images/cde972a0-5c38-442d-b95b-d49fd2e56961.3.jpg\n",
      "Downloaded b1gbqcgk1bfajrkrfdfr/all_images/unhealthy/cde972a0-5c38-442d-b95b-d49fd2e56961.4.jpg to all_images/cde972a0-5c38-442d-b95b-d49fd2e56961.4.jpg\n",
      "Downloaded b1gbqcgk1bfajrkrfdfr/all_images/unhealthy/cde972a0-5c38-442d-b95b-d49fd2e56961.5.jpg to all_images/cde972a0-5c38-442d-b95b-d49fd2e56961.5.jpg\n",
      "Downloaded b1gbqcgk1bfajrkrfdfr/all_images/unhealthy/cde972a0-5c38-442d-b95b-d49fd2e56961.6.jpg to all_images/cde972a0-5c38-442d-b95b-d49fd2e56961.6.jpg\n",
      "Downloaded b1gbqcgk1bfajrkrfdfr/all_images/unhealthy/cde972a0-5c38-442d-b95b-d49fd2e56961.7.jpg to all_images/cde972a0-5c38-442d-b95b-d49fd2e56961.7.jpg\n",
      "Downloaded b1gbqcgk1bfajrkrfdfr/all_images/unhealthy/cde972a0-5c38-442d-b95b-d49fd2e56961.8.jpg to all_images/cde972a0-5c38-442d-b95b-d49fd2e56961.8.jpg\n",
      "Downloaded b1gbqcgk1bfajrkrfdfr/all_images/unhealthy/cde972a0-5c38-442d-b95b-d49fd2e56961.9.jpg to all_images/cde972a0-5c38-442d-b95b-d49fd2e56961.9.jpg\n",
      "Downloaded b1gbqcgk1bfajrkrfdfr/all_images/unhealthy/d869514b-e2e5-45e1-a042-3e634a1a7029.1.jpg to all_images/d869514b-e2e5-45e1-a042-3e634a1a7029.1.jpg\n",
      "Downloaded b1gbqcgk1bfajrkrfdfr/all_images/unhealthy/d869514b-e2e5-45e1-a042-3e634a1a7029.2.jpg to all_images/d869514b-e2e5-45e1-a042-3e634a1a7029.2.jpg\n",
      "Downloaded b1gbqcgk1bfajrkrfdfr/all_images/unhealthy/d869514b-e2e5-45e1-a042-3e634a1a7029.3.jpg to all_images/d869514b-e2e5-45e1-a042-3e634a1a7029.3.jpg\n",
      "Downloaded b1gbqcgk1bfajrkrfdfr/all_images/unhealthy/d869514b-e2e5-45e1-a042-3e634a1a7029.4.jpg to all_images/d869514b-e2e5-45e1-a042-3e634a1a7029.4.jpg\n",
      "Downloaded b1gbqcgk1bfajrkrfdfr/all_images/unhealthy/d869514b-e2e5-45e1-a042-3e634a1a7029.5.jpg to all_images/d869514b-e2e5-45e1-a042-3e634a1a7029.5.jpg\n",
      "Downloaded b1gbqcgk1bfajrkrfdfr/all_images/unhealthy/d869514b-e2e5-45e1-a042-3e634a1a7029.6.jpg to all_images/d869514b-e2e5-45e1-a042-3e634a1a7029.6.jpg\n",
      "Downloaded b1gbqcgk1bfajrkrfdfr/all_images/unhealthy/d869514b-e2e5-45e1-a042-3e634a1a7029.7.jpg to all_images/d869514b-e2e5-45e1-a042-3e634a1a7029.7.jpg\n",
      "Downloaded b1gbqcgk1bfajrkrfdfr/all_images/unhealthy/d869514b-e2e5-45e1-a042-3e634a1a7029.8.jpg to all_images/d869514b-e2e5-45e1-a042-3e634a1a7029.8.jpg\n",
      "Downloaded b1gbqcgk1bfajrkrfdfr/all_images/unhealthy/e7333ab8-8aa3-4fe6-a953-d88ffb99aabd.1.jpg to all_images/e7333ab8-8aa3-4fe6-a953-d88ffb99aabd.1.jpg\n",
      "Downloaded b1gbqcgk1bfajrkrfdfr/all_images/unhealthy/e7333ab8-8aa3-4fe6-a953-d88ffb99aabd.10.jpg to all_images/e7333ab8-8aa3-4fe6-a953-d88ffb99aabd.10.jpg\n",
      "Downloaded b1gbqcgk1bfajrkrfdfr/all_images/unhealthy/e7333ab8-8aa3-4fe6-a953-d88ffb99aabd.11.jpg to all_images/e7333ab8-8aa3-4fe6-a953-d88ffb99aabd.11.jpg\n",
      "Downloaded b1gbqcgk1bfajrkrfdfr/all_images/unhealthy/e7333ab8-8aa3-4fe6-a953-d88ffb99aabd.12.jpg to all_images/e7333ab8-8aa3-4fe6-a953-d88ffb99aabd.12.jpg\n",
      "Downloaded b1gbqcgk1bfajrkrfdfr/all_images/unhealthy/e7333ab8-8aa3-4fe6-a953-d88ffb99aabd.13.jpg to all_images/e7333ab8-8aa3-4fe6-a953-d88ffb99aabd.13.jpg\n",
      "Downloaded b1gbqcgk1bfajrkrfdfr/all_images/unhealthy/e7333ab8-8aa3-4fe6-a953-d88ffb99aabd.14.jpg to all_images/e7333ab8-8aa3-4fe6-a953-d88ffb99aabd.14.jpg\n",
      "Downloaded b1gbqcgk1bfajrkrfdfr/all_images/unhealthy/e7333ab8-8aa3-4fe6-a953-d88ffb99aabd.15.jpg to all_images/e7333ab8-8aa3-4fe6-a953-d88ffb99aabd.15.jpg\n",
      "Downloaded b1gbqcgk1bfajrkrfdfr/all_images/unhealthy/e7333ab8-8aa3-4fe6-a953-d88ffb99aabd.16.jpg to all_images/e7333ab8-8aa3-4fe6-a953-d88ffb99aabd.16.jpg\n",
      "Downloaded b1gbqcgk1bfajrkrfdfr/all_images/unhealthy/e7333ab8-8aa3-4fe6-a953-d88ffb99aabd.17.jpg to all_images/e7333ab8-8aa3-4fe6-a953-d88ffb99aabd.17.jpg\n",
      "Downloaded b1gbqcgk1bfajrkrfdfr/all_images/unhealthy/e7333ab8-8aa3-4fe6-a953-d88ffb99aabd.18.jpg to all_images/e7333ab8-8aa3-4fe6-a953-d88ffb99aabd.18.jpg\n",
      "Downloaded b1gbqcgk1bfajrkrfdfr/all_images/unhealthy/e7333ab8-8aa3-4fe6-a953-d88ffb99aabd.19.jpg to all_images/e7333ab8-8aa3-4fe6-a953-d88ffb99aabd.19.jpg\n",
      "Downloaded b1gbqcgk1bfajrkrfdfr/all_images/unhealthy/e7333ab8-8aa3-4fe6-a953-d88ffb99aabd.2.jpg to all_images/e7333ab8-8aa3-4fe6-a953-d88ffb99aabd.2.jpg\n",
      "Downloaded b1gbqcgk1bfajrkrfdfr/all_images/unhealthy/e7333ab8-8aa3-4fe6-a953-d88ffb99aabd.20.jpg to all_images/e7333ab8-8aa3-4fe6-a953-d88ffb99aabd.20.jpg\n",
      "Downloaded b1gbqcgk1bfajrkrfdfr/all_images/unhealthy/e7333ab8-8aa3-4fe6-a953-d88ffb99aabd.21.jpg to all_images/e7333ab8-8aa3-4fe6-a953-d88ffb99aabd.21.jpg\n",
      "Downloaded b1gbqcgk1bfajrkrfdfr/all_images/unhealthy/e7333ab8-8aa3-4fe6-a953-d88ffb99aabd.22.jpg to all_images/e7333ab8-8aa3-4fe6-a953-d88ffb99aabd.22.jpg\n",
      "Downloaded b1gbqcgk1bfajrkrfdfr/all_images/unhealthy/e7333ab8-8aa3-4fe6-a953-d88ffb99aabd.23.jpg to all_images/e7333ab8-8aa3-4fe6-a953-d88ffb99aabd.23.jpg\n",
      "Downloaded b1gbqcgk1bfajrkrfdfr/all_images/unhealthy/e7333ab8-8aa3-4fe6-a953-d88ffb99aabd.24.jpg to all_images/e7333ab8-8aa3-4fe6-a953-d88ffb99aabd.24.jpg\n",
      "Downloaded b1gbqcgk1bfajrkrfdfr/all_images/unhealthy/e7333ab8-8aa3-4fe6-a953-d88ffb99aabd.3.jpg to all_images/e7333ab8-8aa3-4fe6-a953-d88ffb99aabd.3.jpg\n",
      "Downloaded b1gbqcgk1bfajrkrfdfr/all_images/unhealthy/e7333ab8-8aa3-4fe6-a953-d88ffb99aabd.4.jpg to all_images/e7333ab8-8aa3-4fe6-a953-d88ffb99aabd.4.jpg\n",
      "Downloaded b1gbqcgk1bfajrkrfdfr/all_images/unhealthy/e7333ab8-8aa3-4fe6-a953-d88ffb99aabd.5.jpg to all_images/e7333ab8-8aa3-4fe6-a953-d88ffb99aabd.5.jpg\n",
      "Downloaded b1gbqcgk1bfajrkrfdfr/all_images/unhealthy/e7333ab8-8aa3-4fe6-a953-d88ffb99aabd.6.jpg to all_images/e7333ab8-8aa3-4fe6-a953-d88ffb99aabd.6.jpg\n",
      "Downloaded b1gbqcgk1bfajrkrfdfr/all_images/unhealthy/e7333ab8-8aa3-4fe6-a953-d88ffb99aabd.7.jpg to all_images/e7333ab8-8aa3-4fe6-a953-d88ffb99aabd.7.jpg\n",
      "Downloaded b1gbqcgk1bfajrkrfdfr/all_images/unhealthy/e7333ab8-8aa3-4fe6-a953-d88ffb99aabd.8.jpg to all_images/e7333ab8-8aa3-4fe6-a953-d88ffb99aabd.8.jpg\n",
      "Downloaded b1gbqcgk1bfajrkrfdfr/all_images/unhealthy/e7333ab8-8aa3-4fe6-a953-d88ffb99aabd.9.jpg to all_images/e7333ab8-8aa3-4fe6-a953-d88ffb99aabd.9.jpg\n",
      "Downloaded b1gbqcgk1bfajrkrfdfr/all_images/unhealthy/f8926806-5519-44c7-a2b0-75feb19a7e9a.1.jpg to all_images/f8926806-5519-44c7-a2b0-75feb19a7e9a.1.jpg\n",
      "Downloaded b1gbqcgk1bfajrkrfdfr/all_images/unhealthy/f8926806-5519-44c7-a2b0-75feb19a7e9a.10.jpg to all_images/f8926806-5519-44c7-a2b0-75feb19a7e9a.10.jpg\n",
      "Downloaded b1gbqcgk1bfajrkrfdfr/all_images/unhealthy/f8926806-5519-44c7-a2b0-75feb19a7e9a.11.jpg to all_images/f8926806-5519-44c7-a2b0-75feb19a7e9a.11.jpg\n",
      "Downloaded b1gbqcgk1bfajrkrfdfr/all_images/unhealthy/f8926806-5519-44c7-a2b0-75feb19a7e9a.12.jpg to all_images/f8926806-5519-44c7-a2b0-75feb19a7e9a.12.jpg\n",
      "Downloaded b1gbqcgk1bfajrkrfdfr/all_images/unhealthy/f8926806-5519-44c7-a2b0-75feb19a7e9a.13.jpg to all_images/f8926806-5519-44c7-a2b0-75feb19a7e9a.13.jpg\n",
      "Downloaded b1gbqcgk1bfajrkrfdfr/all_images/unhealthy/f8926806-5519-44c7-a2b0-75feb19a7e9a.14.jpg to all_images/f8926806-5519-44c7-a2b0-75feb19a7e9a.14.jpg\n",
      "Downloaded b1gbqcgk1bfajrkrfdfr/all_images/unhealthy/f8926806-5519-44c7-a2b0-75feb19a7e9a.15.jpg to all_images/f8926806-5519-44c7-a2b0-75feb19a7e9a.15.jpg\n",
      "Downloaded b1gbqcgk1bfajrkrfdfr/all_images/unhealthy/f8926806-5519-44c7-a2b0-75feb19a7e9a.16.jpg to all_images/f8926806-5519-44c7-a2b0-75feb19a7e9a.16.jpg\n",
      "Downloaded b1gbqcgk1bfajrkrfdfr/all_images/unhealthy/f8926806-5519-44c7-a2b0-75feb19a7e9a.17.jpg to all_images/f8926806-5519-44c7-a2b0-75feb19a7e9a.17.jpg\n",
      "Downloaded b1gbqcgk1bfajrkrfdfr/all_images/unhealthy/f8926806-5519-44c7-a2b0-75feb19a7e9a.18.jpg to all_images/f8926806-5519-44c7-a2b0-75feb19a7e9a.18.jpg\n",
      "Downloaded b1gbqcgk1bfajrkrfdfr/all_images/unhealthy/f8926806-5519-44c7-a2b0-75feb19a7e9a.2.jpg to all_images/f8926806-5519-44c7-a2b0-75feb19a7e9a.2.jpg\n",
      "Downloaded b1gbqcgk1bfajrkrfdfr/all_images/unhealthy/f8926806-5519-44c7-a2b0-75feb19a7e9a.3.jpg to all_images/f8926806-5519-44c7-a2b0-75feb19a7e9a.3.jpg\n",
      "Downloaded b1gbqcgk1bfajrkrfdfr/all_images/unhealthy/f8926806-5519-44c7-a2b0-75feb19a7e9a.4.jpg to all_images/f8926806-5519-44c7-a2b0-75feb19a7e9a.4.jpg\n",
      "Downloaded b1gbqcgk1bfajrkrfdfr/all_images/unhealthy/f8926806-5519-44c7-a2b0-75feb19a7e9a.5.jpg to all_images/f8926806-5519-44c7-a2b0-75feb19a7e9a.5.jpg\n",
      "Downloaded b1gbqcgk1bfajrkrfdfr/all_images/unhealthy/f8926806-5519-44c7-a2b0-75feb19a7e9a.6.jpg to all_images/f8926806-5519-44c7-a2b0-75feb19a7e9a.6.jpg\n",
      "Downloaded b1gbqcgk1bfajrkrfdfr/all_images/unhealthy/f8926806-5519-44c7-a2b0-75feb19a7e9a.7.jpg to all_images/f8926806-5519-44c7-a2b0-75feb19a7e9a.7.jpg\n",
      "Downloaded b1gbqcgk1bfajrkrfdfr/all_images/unhealthy/f8926806-5519-44c7-a2b0-75feb19a7e9a.8.jpg to all_images/f8926806-5519-44c7-a2b0-75feb19a7e9a.8.jpg\n",
      "Downloaded b1gbqcgk1bfajrkrfdfr/all_images/unhealthy/f8926806-5519-44c7-a2b0-75feb19a7e9a.9.jpg to all_images/f8926806-5519-44c7-a2b0-75feb19a7e9a.9.jpg\n"
     ]
    }
   ],
   "source": [
    "!pip install boto3\n",
    "\n",
    "import boto3\n",
    "import os\n",
    "\n",
    "# Настройка клиента S3\n",
    "session = boto3.session.Session()\n",
    "s3_client = session.client(\n",
    "    service_name='s3',\n",
    "    region_name='ru-central1',\n",
    "    endpoint_url='',\n",
    "    aws_access_key_id='',\n",
    "    aws_secret_access_key=''\n",
    ")\n",
    "\n",
    "bucket_name = 'retinopatyml'\n",
    "folder_name = 'b1gbqcgk1bfajrkrfdfr/all_images/'\n",
    "local_folder = 'all_images'\n",
    "\n",
    "# Создание локальной папки, если она не существует\n",
    "os.makedirs(local_folder, exist_ok=True)\n",
    "\n",
    "# Получение списка всех объектов в папке\n",
    "objects = s3_client.list_objects_v2(Bucket=bucket_name, Prefix=folder_name)\n",
    "\n",
    "# Загрузка каждого файла по отдельности\n",
    "for obj in objects.get('Contents', []):\n",
    "    file_key = obj['Key']\n",
    "    file_name = file_key.split('/')[-1]\n",
    "\n",
    "    # Полный путь для сохранения файла\n",
    "    local_file_path = os.path.join(local_folder, file_name)\n",
    "\n",
    "    # Скачивание файла\n",
    "    s3_client.download_file(bucket_name, file_key, local_file_path)\n",
    "    print(f\"Downloaded {file_key} to {local_file_path}\")\n"
   ]
  },
  {
   "cell_type": "code",
   "execution_count": 13,
   "metadata": {
    "colab": {
     "base_uri": "https://localhost:8080/"
    },
    "id": "3G2mlFi8i7Up",
    "outputId": "957cef1c-0c04-4ab4-e61f-6c42e85d6497"
   },
   "outputs": [
    {
     "name": "stdout",
     "output_type": "stream",
     "text": [
      "Количество файлов в папке 'all_images': 878\n",
      "Файл dataset.csv найден в папке.\n"
     ]
    }
   ],
   "source": [
    "import os\n",
    "\n",
    "# Проверка количества файлов в локальной папке\n",
    "local_folder = 'all_images'\n",
    "files = os.listdir(local_folder)\n",
    "file_count = len(files)\n",
    "\n",
    "print(f\"Количество файлов в папке '{local_folder}': {file_count}\")\n",
    "\n",
    "# Проверка наличия файла dataset.csv\n",
    "if 'dataset.csv' in files:\n",
    "    print(\"Файл dataset.csv найден в папке.\")\n",
    "else:\n",
    "    print(\"Файл dataset.csv не найден в папке.\")\n"
   ]
  },
  {
   "cell_type": "code",
   "execution_count": 14,
   "metadata": {
    "colab": {
     "base_uri": "https://localhost:8080/"
    },
    "id": "hkjdKYCXzsSm",
    "outputId": "e91a3c9b-0b94-4d5f-a3ef-9b9b0065f4ea"
   },
   "outputs": [
    {
     "name": "stdout",
     "output_type": "stream",
     "text": [
      "Данные успешно разделены на train и test и сохранены в файлы!\n"
     ]
    }
   ],
   "source": [
    "import pandas as pd\n",
    "from sklearn.model_selection import train_test_split\n",
    "\n",
    "# Параметры\n",
    "csv_file = 'all_images/dataset.csv'  # Путь к CSV-файлу\n",
    "train_file = 'train_data.csv'  # Имя файла для обучающей выборки\n",
    "test_file = 'test_data.csv'  # Имя файла для тестовой выборки\n",
    "test_size = 0.3  # Доля тестовой выборки\n",
    "\n",
    "# Чтение CSV файла\n",
    "data = pd.read_csv(csv_file)\n",
    "\n",
    "# Разделение на обучающую и тестовую выборки\n",
    "train_data, test_data = train_test_split(data, test_size=test_size, random_state=42)\n",
    "\n",
    "# Сохранение выборок в новые CSV файлы\n",
    "train_data.to_csv(train_file, index=False)\n",
    "test_data.to_csv(test_file, index=False)\n",
    "\n",
    "print(\"Данные успешно разделены на train и test и сохранены в файлы!\")\n"
   ]
  },
  {
   "cell_type": "code",
   "execution_count": 15,
   "metadata": {
    "colab": {
     "base_uri": "https://localhost:8080/"
    },
    "id": "GN31ju5P1OJV",
    "outputId": "d0ad5fbc-3390-4405-f191-67c458ffd372"
   },
   "outputs": [
    {
     "name": "stdout",
     "output_type": "stream",
     "text": [
      "Изображения успешно перемещены в соответствующие папки!\n"
     ]
    }
   ],
   "source": [
    "import os\n",
    "import pandas as pd\n",
    "import shutil\n",
    "\n",
    "# Параметры\n",
    "train_file = 'train_data.csv'  # Имя файла для обучающей выборки\n",
    "test_file = 'test_data.csv'  # Имя файла для тестовой выборки\n",
    "images_dir = 'all_images'  # Папка с исходными изображениями\n",
    "train_dir = '/content/data/train'  # Папка для обучающих данных\n",
    "test_dir = '/content/data/test'  # Папка для тестовых данных\n",
    "\n",
    "# Чтение данных из файлов\n",
    "train_data = pd.read_csv(train_file)\n",
    "test_data = pd.read_csv(test_file)\n",
    "\n",
    "# Перемещение изображений в соответствующие папки для обучающей выборки\n",
    "for _, row in train_data.iterrows():\n",
    "    image_name = row['image']  # Замените 'filename' на имя вашего столбца с названиями изображений\n",
    "    class_label = row['class']  # Замените 'class' на имя вашего столбца с метками классов\n",
    "\n",
    "    # Создание пути к папке класса\n",
    "    class_dir = os.path.join(train_dir, str(class_label))\n",
    "    os.makedirs(class_dir, exist_ok=True)\n",
    "\n",
    "    # Перемещение изображения\n",
    "    source = os.path.join(images_dir, image_name)\n",
    "    destination = os.path.join(class_dir, image_name)\n",
    "    shutil.move(source, destination)\n",
    "\n",
    "# Перемещение изображений в соответствующие папки для тестовой выборки\n",
    "for _, row in test_data.iterrows():\n",
    "    image_name = row['image']  # Замените 'filename' на имя вашего столбца с названиями изображений\n",
    "    class_label = row['class']  # Замените 'class' на имя вашего столбца с метками классов\n",
    "\n",
    "    # Создание пути к папке класса\n",
    "    class_dir = os.path.join(test_dir, str(class_label))\n",
    "    os.makedirs(class_dir, exist_ok=True)\n",
    "\n",
    "    # Перемещение изображения\n",
    "    source = os.path.join(images_dir, image_name)\n",
    "    destination = os.path.join(class_dir, image_name)\n",
    "    shutil.move(source, destination)\n",
    "\n",
    "print(\"Изображения успешно перемещены в соответствующие папки!\")\n"
   ]
  },
  {
   "cell_type": "markdown",
   "metadata": {
    "id": "eR2jm_dAIEdr"
   },
   "source": [
    "удаление багованного файла"
   ]
  },
  {
   "cell_type": "code",
   "execution_count": 16,
   "metadata": {
    "colab": {
     "base_uri": "https://localhost:8080/"
    },
    "id": "wMO3uSRiiCws",
    "outputId": "291314d7-f61e-46a2-f67e-fd8d504cbdf3"
   },
   "outputs": [
    {
     "name": "stdout",
     "output_type": "stream",
     "text": [
      "Файл /content/data/test/0/09449cbf-c007-486c-8ebf-6495fd439804.8.jpg удалён.\n"
     ]
    }
   ],
   "source": [
    "import os\n",
    "\n",
    "file_path = '/content/data/test/0/09449cbf-c007-486c-8ebf-6495fd439804.8.jpg'\n",
    "\n",
    "# Проверка, существует ли файл, и удаление\n",
    "if os.path.exists(file_path):\n",
    "    os.remove(file_path)\n",
    "    print(f\"Файл {file_path} удалён.\")\n",
    "else:\n",
    "    print(f\"Файл {file_path} не найден.\")\n"
   ]
  },
  {
   "cell_type": "markdown",
   "metadata": {
    "id": "yOt3ewQyIHFs"
   },
   "source": [
    "# Импорт библиотек"
   ]
  },
  {
   "cell_type": "code",
   "execution_count": 38,
   "metadata": {
    "id": "3r1hFNLpYIRQ"
   },
   "outputs": [],
   "source": [
    "import os\n",
    "import shutil\n",
    "import time\n",
    "import zipfile\n",
    "import numpy as np\n",
    "import pandas as pd\n",
    "import pickle\n",
    "import torch\n",
    "import torch.nn as nn\n",
    "import torch.optim as optim\n",
    "import matplotlib.pyplot as plt\n",
    "import warnings\n",
    "from PIL import Image, ImageFile\n",
    "from tqdm import tqdm, trange\n",
    "from sklearn.metrics import precision_score, recall_score, accuracy_score\n",
    "\n",
    "\n",
    "from torch.utils.data import Dataset, DataLoader, random_split\n",
    "from torch.cuda import amp\n",
    "from transformers import ViTForImageClassification, ViTFeatureExtractor\n",
    "from torchvision import datasets, transforms, models\n",
    "from torchvision.datasets import ImageFolder\n",
    "import torchvision\n",
    "\n",
    "import matplotlib.pyplot as plt\n",
    "from collections import Counter\n",
    "\n",
    "# Игнорировать предупреждения\n",
    "warnings.filterwarnings(\"ignore\")\n",
    "ImageFile.LOAD_TRUNCATED_IMAGES = True\n"
   ]
  },
  {
   "cell_type": "code",
   "execution_count": 39,
   "metadata": {
    "id": "M7jGWnsgIgaj"
   },
   "outputs": [],
   "source": [
    "MEAN = (0.485, 0.456, 0.406)\n",
    "STD = (0.229, 0.224, 0.225)\n",
    "BATCH_SIZE = 8\n",
    "NUM_CLASSES = 2  # Healthy & Not Healthy"
   ]
  },
  {
   "cell_type": "code",
   "execution_count": 40,
   "metadata": {
    "id": "ji8a5UJlIhft"
   },
   "outputs": [],
   "source": [
    "# Определение трансформаций для изображений\n",
    "TRANSFORM_IMG = transforms.Compose([\n",
    "    transforms.Resize((224, 224)),\n",
    "    transforms.ToTensor(),\n",
    "    transforms.Normalize(mean=MEAN, std=STD)\n",
    "])"
   ]
  },
  {
   "cell_type": "code",
   "execution_count": 41,
   "metadata": {
    "id": "Xe5OzRbwImyj"
   },
   "outputs": [],
   "source": [
    "TRAIN_DATA_PATH = '/content/data/train'\n",
    "TEST_DATA_PATH = '/content/data/test'\n"
   ]
  },
  {
   "cell_type": "code",
   "execution_count": 42,
   "metadata": {
    "id": "WSopiOJkItM7"
   },
   "outputs": [],
   "source": [
    "checkpoint_path_train = os.path.join(TRAIN_DATA_PATH, '.ipynb_checkpoints')\n",
    "checkpoint_path_test = os.path.join(TEST_DATA_PATH, '.ipynb_checkpoints')\n",
    "\n",
    "if os.path.exists(checkpoint_path_train):\n",
    "    shutil.rmtree(checkpoint_path_train)\n",
    "\n",
    "if os.path.exists(checkpoint_path_test):\n",
    "    shutil.rmtree(checkpoint_path_test)"
   ]
  },
  {
   "cell_type": "code",
   "execution_count": 43,
   "metadata": {
    "id": "wLkE3NqAI7Fs"
   },
   "outputs": [],
   "source": [
    "device = torch.device(\"cuda\" if torch.cuda.is_available() else \"cpu\")"
   ]
  },
  {
   "cell_type": "code",
   "execution_count": 44,
   "metadata": {
    "id": "Em0VHsUfI_9E"
   },
   "outputs": [],
   "source": [
    "# функция проверки допустимости файлов\n",
    "def is_valid_file(filename):\n",
    "    return filename.endswith(('.jpg', '.jpeg', '.png', '.ppm', '.bmp', '.pgm', '.tif', '.tiff', '.webp'))"
   ]
  },
  {
   "cell_type": "code",
   "execution_count": 45,
   "metadata": {
    "id": "ctoFVzABJqN4"
   },
   "outputs": [],
   "source": [
    "# Загрузка обучающих данных с фильтрацией недопустимых файлов\n",
    "train_data = ImageFolder(root=TRAIN_DATA_PATH, transform=TRANSFORM_IMG, is_valid_file=is_valid_file)\n",
    "test_data = ImageFolder(root=TEST_DATA_PATH, transform=TRANSFORM_IMG, is_valid_file=is_valid_file)\n",
    "\n",
    "# Train, Validation и Test загрузчики данных\n",
    "train_size = int(0.9 * len(train_data))\n",
    "val_size = len(train_data) - train_size\n",
    "train_data, val_data = random_split(train_data, [train_size, val_size])\n",
    "\n",
    "dataloader_train = DataLoader(dataset=train_data, batch_size=BATCH_SIZE, shuffle=True)\n",
    "dataloader_valid = DataLoader(dataset=val_data, batch_size=BATCH_SIZE, shuffle=True)\n",
    "dataloader_test = DataLoader(dataset=test_data, batch_size=BATCH_SIZE, shuffle=True)"
   ]
  },
  {
   "cell_type": "code",
   "execution_count": 46,
   "metadata": {
    "colab": {
     "base_uri": "https://localhost:8080/",
     "height": 838
    },
    "id": "-mCytBRILhyD",
    "outputId": "faa6092d-fee8-4fcd-b383-56b0132f0502"
   },
   "outputs": [
    {
     "data": {
      "image/png": "[encoded data removed]",
      "text/plain": [
       "<Figure size 1000x500 with 2 Axes>"
      ]
     },
     "metadata": {},
     "output_type": "display_data"
    },
    {
     "data": {
      "image/png": "[encoded data removed]",
      "text/plain": [
       "<Figure size 500x500 with 1 Axes>"
      ]
     },
     "metadata": {},
     "output_type": "display_data"
    }
   ],
   "source": [
    "# Подсчёт количества изображений в наборах train и test по классам\n",
    "train_class_counts = Counter([label for _, label in train_data])\n",
    "test_class_counts = Counter([label for _, label in test_data])\n",
    "\n",
    "# Данные для круговой диаграммы\n",
    "train_size = len(train_data)\n",
    "test_size = len(test_data)\n",
    "total_size = train_size + test_size\n",
    "train_ratio = train_size / total_size\n",
    "test_ratio = test_size / total_size\n",
    "\n",
    "# Построение круговой диаграммы для соотношения train и test\n",
    "plt.figure(figsize=(10, 5))\n",
    "\n",
    "plt.subplot(1, 2, 1)\n",
    "plt.pie([train_ratio, test_ratio], labels=['Train', 'Test'], autopct='%1.1f%%', colors=['#ff9999', '#66b3ff'])\n",
    "plt.title(\"Train vs Test Split\")\n",
    "\n",
    "# Подсчёт соотношения классов внутри train и test наборов\n",
    "train_labels = [f'Class {key} ({count})' for key, count in train_class_counts.items()]\n",
    "test_labels = [f'Class {key} ({count})' for key, count in test_class_counts.items()]\n",
    "\n",
    "# Построение круговой диаграммы для классов в train\n",
    "plt.subplot(1, 2, 2)\n",
    "plt.pie(train_class_counts.values(), labels=train_labels, autopct='%1.1f%%', colors=plt.cm.Paired.colors)\n",
    "plt.title(\"Class Distribution in Train Set\")\n",
    "\n",
    "# Отображение круговых диаграмм\n",
    "plt.show()\n",
    "\n",
    "# Построение диаграммы для классов в test\n",
    "plt.figure(figsize=(5, 5))\n",
    "plt.pie(test_class_counts.values(), labels=test_labels, autopct='%1.1f%%', colors=plt.cm.Paired.colors)\n",
    "plt.title(\"Class Distribution in Test Set\")\n",
    "plt.show()\n"
   ]
  },
  {
   "cell_type": "markdown",
   "metadata": {
    "id": "1_bLAleSM51y"
   },
   "source": [
    "# обучение модели"
   ]
  },
  {
   "cell_type": "code",
   "execution_count": 24,
   "metadata": {
    "colab": {
     "base_uri": "https://localhost:8080/"
    },
    "id": "2sK3zXpULD_d",
    "outputId": "89a18e78-201b-40f2-bbfd-c5fa1bbbad43"
   },
   "outputs": [
    {
     "name": "stderr",
     "output_type": "stream",
     "text": [
      "Some weights of ViTForImageClassification were not initialized from the model checkpoint at google/vit-base-patch16-224-in21k and are newly initialized: ['classifier.bias', 'classifier.weight']\n",
      "You should probably TRAIN this model on a down-stream task to be able to use it for predictions and inference.\n"
     ]
    },
    {
     "data": {
      "text/plain": [
       "ViTForImageClassification(\n",
       "  (vit): ViTModel(\n",
       "    (embeddings): ViTEmbeddings(\n",
       "      (patch_embeddings): ViTPatchEmbeddings(\n",
       "        (projection): Conv2d(3, 768, kernel_size=(16, 16), stride=(16, 16))\n",
       "      )\n",
       "      (dropout): Dropout(p=0.0, inplace=False)\n",
       "    )\n",
       "    (encoder): ViTEncoder(\n",
       "      (layer): ModuleList(\n",
       "        (0-11): 12 x ViTLayer(\n",
       "          (attention): ViTSdpaAttention(\n",
       "            (attention): ViTSdpaSelfAttention(\n",
       "              (query): Linear(in_features=768, out_features=768, bias=True)\n",
       "              (key): Linear(in_features=768, out_features=768, bias=True)\n",
       "              (value): Linear(in_features=768, out_features=768, bias=True)\n",
       "              (dropout): Dropout(p=0.0, inplace=False)\n",
       "            )\n",
       "            (output): ViTSelfOutput(\n",
       "              (dense): Linear(in_features=768, out_features=768, bias=True)\n",
       "              (dropout): Dropout(p=0.0, inplace=False)\n",
       "            )\n",
       "          )\n",
       "          (intermediate): ViTIntermediate(\n",
       "            (dense): Linear(in_features=768, out_features=3072, bias=True)\n",
       "            (intermediate_act_fn): GELUActivation()\n",
       "          )\n",
       "          (output): ViTOutput(\n",
       "            (dense): Linear(in_features=3072, out_features=768, bias=True)\n",
       "            (dropout): Dropout(p=0.0, inplace=False)\n",
       "          )\n",
       "          (layernorm_before): LayerNorm((768,), eps=1e-12, elementwise_affine=True)\n",
       "          (layernorm_after): LayerNorm((768,), eps=1e-12, elementwise_affine=True)\n",
       "        )\n",
       "      )\n",
       "    )\n",
       "    (layernorm): LayerNorm((768,), eps=1e-12, elementwise_affine=True)\n",
       "  )\n",
       "  (classifier): Linear(in_features=768, out_features=2, bias=True)\n",
       ")"
      ]
     },
     "execution_count": 24,
     "metadata": {},
     "output_type": "execute_result"
    }
   ],
   "source": [
    "# Загрузка предварительно обученной модели ViT\n",
    "model = ViTForImageClassification.from_pretrained(\"google/vit-base-patch16-224-in21k\", num_labels=NUM_CLASSES)\n",
    "model.to(device)"
   ]
  },
  {
   "cell_type": "code",
   "execution_count": 26,
   "metadata": {
    "colab": {
     "base_uri": "https://localhost:8080/",
     "height": 176
    },
    "id": "IkhPbL-OLCRk",
    "outputId": "63194625-d90e-4d75-9b99-0cc59880179c"
   },
   "outputs": [
    {
     "ename": "NameError",
     "evalue": "name 'model' is not defined",
     "output_type": "error",
     "traceback": [
      "\u001b[0;31m---------------------------------------------------------------------------\u001b[0m",
      "\u001b[0;31mNameError\u001b[0m                                 Traceback (most recent call last)",
      "\u001b[0;32m<ipython-input-26-990eca315e37>\u001b[0m in \u001b[0;36m<cell line: 3>\u001b[0;34m()\u001b[0m\n\u001b[1;32m      1\u001b[0m \u001b[0;31m# Определение функции потерь и оптимизатора\u001b[0m\u001b[0;34m\u001b[0m\u001b[0;34m\u001b[0m\u001b[0m\n\u001b[1;32m      2\u001b[0m \u001b[0mcriterion\u001b[0m \u001b[0;34m=\u001b[0m \u001b[0mnn\u001b[0m\u001b[0;34m.\u001b[0m\u001b[0mCrossEntropyLoss\u001b[0m\u001b[0;34m(\u001b[0m\u001b[0;34m)\u001b[0m\u001b[0;34m\u001b[0m\u001b[0;34m\u001b[0m\u001b[0m\n\u001b[0;32m----> 3\u001b[0;31m \u001b[0moptimizer\u001b[0m \u001b[0;34m=\u001b[0m \u001b[0moptim\u001b[0m\u001b[0;34m.\u001b[0m\u001b[0mAdam\u001b[0m\u001b[0;34m(\u001b[0m\u001b[0mmodel\u001b[0m\u001b[0;34m.\u001b[0m\u001b[0mparameters\u001b[0m\u001b[0;34m(\u001b[0m\u001b[0;34m)\u001b[0m\u001b[0;34m,\u001b[0m \u001b[0mlr\u001b[0m\u001b[0;34m=\u001b[0m\u001b[0;36m1e-4\u001b[0m\u001b[0;34m)\u001b[0m  \u001b[0;31m# Настройте learningRate по необходимости\u001b[0m\u001b[0;34m\u001b[0m\u001b[0;34m\u001b[0m\u001b[0m\n\u001b[0m",
      "\u001b[0;31mNameError\u001b[0m: name 'model' is not defined"
     ]
    }
   ],
   "source": [
    "# Определение функции потерь и оптимизатора\n",
    "criterion = nn.CrossEntropyLoss()\n",
    "optimizer = optim.Adam(model.parameters(), lr=1e-4)  # Настройте learningRate по необходимости"
   ]
  },
  {
   "cell_type": "code",
   "execution_count": 25,
   "metadata": {
    "id": "27gPz_8a2i1H"
   },
   "outputs": [],
   "source": [
    "def train_model(learningRate, num_epochs):\n",
    "    # Установка оптимизатора с текущей скоростью обучения\n",
    "    optimizer = optim.Adam(model.parameters(), lr=learningRate)\n",
    "\n",
    "    # Цикл обучения\n",
    "    for epoch in range(num_epochs):\n",
    "        model.train()\n",
    "        running_loss = 0.0\n",
    "        all_labels = []\n",
    "        all_predictions = []\n",
    "\n",
    "        for inputs, labels in tqdm(dataloader_train, desc=f'Training Epoch {epoch+1}/{num_epochs}'):\n",
    "                inputs, labels = inputs.to(device), labels.to(device)\n",
    "\n",
    "                optimizer.zero_grad()\n",
    "                outputs = model(inputs).logits  # Выходы модели\n",
    "                loss = criterion(outputs, labels)\n",
    "                loss.backward()\n",
    "                optimizer.step()\n",
    "\n",
    "                running_loss += loss.item() * inputs.size(0)\n",
    "\n",
    "                _, predicted = torch.max(outputs, 1)\n",
    "                all_labels.extend(labels.cpu().numpy())\n",
    "                all_predictions.extend(predicted.cpu().numpy())\n",
    "\n",
    "        # Средняя потеря за эпоху\n",
    "        epoch_loss = running_loss / len(dataloader_train.dataset)\n",
    "        precision = precision_score(all_labels, all_predictions, average='weighted')\n",
    "        recall = recall_score(all_labels, all_predictions, average='weighted')\n",
    "        accuracy = accuracy_score(all_labels, all_predictions)\n",
    "\n",
    "        print(f\"Epoch {epoch+1}/{num_epochs}, Training Loss: {epoch_loss:.4f}, \"\n",
    "              f\"Recall: {recall:.4f}, Precision: {precision:.4f}, Accuracy: {accuracy:.4f}\")\n",
    "\n",
    "    # Сохранение модели\n",
    "    torch.save(model.state_dict(), f'model_{learningRate}.pth')\n",
    "\n",
    "    # Оценка модели\n",
    "    model.eval()\n",
    "    all_labels = []\n",
    "    all_predictions = []\n",
    "    with torch.no_grad():\n",
    "        for inputs, labels in tqdm(dataloader_valid, desc='Validation'):\n",
    "                inputs, labels = inputs.to(device), labels.to(device)\n",
    "\n",
    "                outputs = model(inputs).logits\n",
    "                _, predicted = torch.max(outputs, 1)\n",
    "                all_labels.extend(labels.cpu().numpy())\n",
    "                all_predictions.extend(predicted.cpu().numpy())\n",
    "\n",
    "\n",
    "    precision = precision_score(all_labels, all_predictions, average='weighted')\n",
    "    recall = recall_score(all_labels, all_predictions, average='weighted')\n",
    "    accuracy = accuracy_score(all_labels, all_predictions)\n",
    "    print(f\"Validation Results - Recall: {recall:.4f}, Precision: {precision:.4f}, Accuracy: {accuracy:.4f}\")"
   ]
  },
  {
   "cell_type": "code",
   "execution_count": 27,
   "metadata": {
    "colab": {
     "base_uri": "https://localhost:8080/"
    },
    "id": "SzFS6vpMLZ-E",
    "outputId": "1ead21ce-496f-49cd-e6f8-02f10134830e"
   },
   "outputs": [
    {
     "name": "stderr",
     "output_type": "stream",
     "text": [
      "Training Epoch 1/10: 100%|██████████| 69/69 [17:58<00:00, 15.63s/it]\n"
     ]
    },
    {
     "name": "stdout",
     "output_type": "stream",
     "text": [
      "Epoch 1/10, Training Loss: 0.1701, Recall: 0.9456, Precision: 0.9457, Accuracy: 0.9456\n"
     ]
    },
    {
     "name": "stderr",
     "output_type": "stream",
     "text": [
      "Training Epoch 2/10: 100%|██████████| 69/69 [18:15<00:00, 15.88s/it]\n"
     ]
    },
    {
     "name": "stdout",
     "output_type": "stream",
     "text": [
      "Epoch 2/10, Training Loss: 0.1071, Recall: 0.9601, Precision: 0.9601, Accuracy: 0.9601\n"
     ]
    },
    {
     "name": "stderr",
     "output_type": "stream",
     "text": [
      "Training Epoch 3/10: 100%|██████████| 69/69 [18:08<00:00, 15.77s/it]\n"
     ]
    },
    {
     "name": "stdout",
     "output_type": "stream",
     "text": [
      "Epoch 3/10, Training Loss: 0.0991, Recall: 0.9673, Precision: 0.9676, Accuracy: 0.9673\n"
     ]
    },
    {
     "name": "stderr",
     "output_type": "stream",
     "text": [
      "Training Epoch 4/10: 100%|██████████| 69/69 [18:09<00:00, 15.80s/it]\n"
     ]
    },
    {
     "name": "stdout",
     "output_type": "stream",
     "text": [
      "Epoch 4/10, Training Loss: 0.0656, Recall: 0.9764, Precision: 0.9765, Accuracy: 0.9764\n"
     ]
    },
    {
     "name": "stderr",
     "output_type": "stream",
     "text": [
      "Training Epoch 5/10: 100%|██████████| 69/69 [18:15<00:00, 15.87s/it]\n"
     ]
    },
    {
     "name": "stdout",
     "output_type": "stream",
     "text": [
      "Epoch 5/10, Training Loss: 0.0896, Recall: 0.9746, Precision: 0.9746, Accuracy: 0.9746\n"
     ]
    },
    {
     "name": "stderr",
     "output_type": "stream",
     "text": [
      "Training Epoch 6/10: 100%|██████████| 69/69 [18:13<00:00, 15.85s/it]\n"
     ]
    },
    {
     "name": "stdout",
     "output_type": "stream",
     "text": [
      "Epoch 6/10, Training Loss: 0.0705, Recall: 0.9746, Precision: 0.9746, Accuracy: 0.9746\n"
     ]
    },
    {
     "name": "stderr",
     "output_type": "stream",
     "text": [
      "Training Epoch 7/10: 100%|██████████| 69/69 [18:19<00:00, 15.94s/it]\n"
     ]
    },
    {
     "name": "stdout",
     "output_type": "stream",
     "text": [
      "Epoch 7/10, Training Loss: 0.0262, Recall: 0.9909, Precision: 0.9909, Accuracy: 0.9909\n"
     ]
    },
    {
     "name": "stderr",
     "output_type": "stream",
     "text": [
      "Training Epoch 8/10: 100%|██████████| 69/69 [18:08<00:00, 15.78s/it]\n"
     ]
    },
    {
     "name": "stdout",
     "output_type": "stream",
     "text": [
      "Epoch 8/10, Training Loss: 0.0180, Recall: 0.9927, Precision: 0.9927, Accuracy: 0.9927\n"
     ]
    },
    {
     "name": "stderr",
     "output_type": "stream",
     "text": [
      "Training Epoch 9/10: 100%|██████████| 69/69 [18:08<00:00, 15.78s/it]\n"
     ]
    },
    {
     "name": "stdout",
     "output_type": "stream",
     "text": [
      "Epoch 9/10, Training Loss: 0.0310, Recall: 0.9909, Precision: 0.9910, Accuracy: 0.9909\n"
     ]
    },
    {
     "name": "stderr",
     "output_type": "stream",
     "text": [
      "Training Epoch 10/10: 100%|██████████| 69/69 [18:12<00:00, 15.83s/it]\n"
     ]
    },
    {
     "name": "stdout",
     "output_type": "stream",
     "text": [
      "Epoch 10/10, Training Loss: 0.0593, Recall: 0.9855, Precision: 0.9859, Accuracy: 0.9855\n"
     ]
    },
    {
     "name": "stderr",
     "output_type": "stream",
     "text": [
      "Validation: 100%|██████████| 8/8 [00:41<00:00,  5.14s/it]"
     ]
    },
    {
     "name": "stdout",
     "output_type": "stream",
     "text": [
      "Validation Results - Recall: 0.9839, Precision: 0.9842, Accuracy: 0.9839\n"
     ]
    },
    {
     "name": "stderr",
     "output_type": "stream",
     "text": [
      "\n"
     ]
    }
   ],
   "source": [
    "# Пример вызова функции обучения\n",
    "train_model(learningRate=1e-4, num_epochs=10)"
   ]
  },
  {
   "cell_type": "code",
   "execution_count": 28,
   "metadata": {
    "colab": {
     "base_uri": "https://localhost:8080/"
    },
    "id": "EGOv_Pc2xhwN",
    "outputId": "0c188bdd-4a6c-428c-df2f-a6e5b4e18404"
   },
   "outputs": [
    {
     "name": "stderr",
     "output_type": "stream",
     "text": [
      "Test: 100%|██████████| 33/33 [02:55<00:00,  5.31s/it]"
     ]
    },
    {
     "name": "stdout",
     "output_type": "stream",
     "text": [
      "Test Results - Recall: 0.9696, Precision: 0.9700, Accuracy: 0.9696\n"
     ]
    },
    {
     "name": "stderr",
     "output_type": "stream",
     "text": [
      "\n"
     ]
    }
   ],
   "source": [
    "# Функция тестирования модели\n",
    "def evaluate_model(dataloader, phase=\"Test\"):\n",
    "    model.eval()\n",
    "    all_labels = []\n",
    "    all_predictions = []\n",
    "\n",
    "    with torch.no_grad():\n",
    "        for inputs, labels in tqdm(dataloader, desc=f'{phase}'):\n",
    "            inputs, labels = inputs.to(device), labels.to(device)\n",
    "\n",
    "            outputs = model(inputs).logits\n",
    "            _, predicted = torch.max(outputs, 1)\n",
    "            all_labels.extend(labels.cpu().numpy())\n",
    "            all_predictions.extend(predicted.cpu().numpy())\n",
    "\n",
    "    precision = precision_score(all_labels, all_predictions, average='weighted')\n",
    "    recall = recall_score(all_labels, all_predictions, average='weighted')\n",
    "    accuracy = accuracy_score(all_labels, all_predictions)\n",
    "    print(f\"{phase} Results - Recall: {recall:.4f}, Precision: {precision:.4f}, Accuracy: {accuracy:.4f}\")\n",
    "\n",
    "# Пример вызова функции тестирования\n",
    "evaluate_model(dataloader_test, \"Test\")"
   ]
  },
  {
   "cell_type": "markdown",
   "metadata": {
    "id": "8LA3RG8tM9os"
   },
   "source": [
    "# обучение с замороженным слоем"
   ]
  },
  {
   "cell_type": "code",
   "execution_count": 47,
   "metadata": {
    "colab": {
     "base_uri": "https://localhost:8080/"
    },
    "id": "cJoIdvVKNIz8",
    "outputId": "093c75ef-b3b7-41f2-91a7-4921ad901403"
   },
   "outputs": [
    {
     "name": "stderr",
     "output_type": "stream",
     "text": [
      "Some weights of ViTForImageClassification were not initialized from the model checkpoint at google/vit-base-patch16-224-in21k and are newly initialized: ['classifier.bias', 'classifier.weight']\n",
      "You should probably TRAIN this model on a down-stream task to be able to use it for predictions and inference.\n"
     ]
    },
    {
     "data": {
      "text/plain": [
       "ViTForImageClassification(\n",
       "  (vit): ViTModel(\n",
       "    (embeddings): ViTEmbeddings(\n",
       "      (patch_embeddings): ViTPatchEmbeddings(\n",
       "        (projection): Conv2d(3, 768, kernel_size=(16, 16), stride=(16, 16))\n",
       "      )\n",
       "      (dropout): Dropout(p=0.0, inplace=False)\n",
       "    )\n",
       "    (encoder): ViTEncoder(\n",
       "      (layer): ModuleList(\n",
       "        (0-11): 12 x ViTLayer(\n",
       "          (attention): ViTSdpaAttention(\n",
       "            (attention): ViTSdpaSelfAttention(\n",
       "              (query): Linear(in_features=768, out_features=768, bias=True)\n",
       "              (key): Linear(in_features=768, out_features=768, bias=True)\n",
       "              (value): Linear(in_features=768, out_features=768, bias=True)\n",
       "              (dropout): Dropout(p=0.0, inplace=False)\n",
       "            )\n",
       "            (output): ViTSelfOutput(\n",
       "              (dense): Linear(in_features=768, out_features=768, bias=True)\n",
       "              (dropout): Dropout(p=0.0, inplace=False)\n",
       "            )\n",
       "          )\n",
       "          (intermediate): ViTIntermediate(\n",
       "            (dense): Linear(in_features=768, out_features=3072, bias=True)\n",
       "            (intermediate_act_fn): GELUActivation()\n",
       "          )\n",
       "          (output): ViTOutput(\n",
       "            (dense): Linear(in_features=3072, out_features=768, bias=True)\n",
       "            (dropout): Dropout(p=0.0, inplace=False)\n",
       "          )\n",
       "          (layernorm_before): LayerNorm((768,), eps=1e-12, elementwise_affine=True)\n",
       "          (layernorm_after): LayerNorm((768,), eps=1e-12, elementwise_affine=True)\n",
       "        )\n",
       "      )\n",
       "    )\n",
       "    (layernorm): LayerNorm((768,), eps=1e-12, elementwise_affine=True)\n",
       "  )\n",
       "  (classifier): Linear(in_features=768, out_features=2, bias=True)\n",
       ")"
      ]
     },
     "execution_count": 47,
     "metadata": {},
     "output_type": "execute_result"
    }
   ],
   "source": [
    "# Загрузка предварительно обученной модели ViT\n",
    "model = ViTForImageClassification.from_pretrained(\"google/vit-base-patch16-224-in21k\", num_labels=NUM_CLASSES)\n",
    "model.to(device)"
   ]
  },
  {
   "cell_type": "code",
   "execution_count": 48,
   "metadata": {
    "id": "bf-rJs8VnLAN"
   },
   "outputs": [],
   "source": [
    "# Определение функции потерь и оптимизатора\n",
    "criterion = nn.CrossEntropyLoss()\n",
    "optimizer = optim.Adam(model.parameters(), lr=1e-4)  # Настройте learningRate по необходимости"
   ]
  },
  {
   "cell_type": "code",
   "execution_count": 49,
   "metadata": {
    "colab": {
     "base_uri": "https://localhost:8080/"
    },
    "id": "R6vMUB7hNAI3",
    "outputId": "cf44a738-93d8-45fc-f6c1-4e8b43798fa8"
   },
   "outputs": [
    {
     "data": {
      "text/plain": [
       "ViTForImageClassification(\n",
       "  (vit): ViTModel(\n",
       "    (embeddings): ViTEmbeddings(\n",
       "      (patch_embeddings): ViTPatchEmbeddings(\n",
       "        (projection): Conv2d(3, 768, kernel_size=(16, 16), stride=(16, 16))\n",
       "      )\n",
       "      (dropout): Dropout(p=0.0, inplace=False)\n",
       "    )\n",
       "    (encoder): ViTEncoder(\n",
       "      (layer): ModuleList(\n",
       "        (0-11): 12 x ViTLayer(\n",
       "          (attention): ViTSdpaAttention(\n",
       "            (attention): ViTSdpaSelfAttention(\n",
       "              (query): Linear(in_features=768, out_features=768, bias=True)\n",
       "              (key): Linear(in_features=768, out_features=768, bias=True)\n",
       "              (value): Linear(in_features=768, out_features=768, bias=True)\n",
       "              (dropout): Dropout(p=0.0, inplace=False)\n",
       "            )\n",
       "            (output): ViTSelfOutput(\n",
       "              (dense): Linear(in_features=768, out_features=768, bias=True)\n",
       "              (dropout): Dropout(p=0.0, inplace=False)\n",
       "            )\n",
       "          )\n",
       "          (intermediate): ViTIntermediate(\n",
       "            (dense): Linear(in_features=768, out_features=3072, bias=True)\n",
       "            (intermediate_act_fn): GELUActivation()\n",
       "          )\n",
       "          (output): ViTOutput(\n",
       "            (dense): Linear(in_features=3072, out_features=768, bias=True)\n",
       "            (dropout): Dropout(p=0.0, inplace=False)\n",
       "          )\n",
       "          (layernorm_before): LayerNorm((768,), eps=1e-12, elementwise_affine=True)\n",
       "          (layernorm_after): LayerNorm((768,), eps=1e-12, elementwise_affine=True)\n",
       "        )\n",
       "      )\n",
       "    )\n",
       "    (layernorm): LayerNorm((768,), eps=1e-12, elementwise_affine=True)\n",
       "  )\n",
       "  (classifier): Linear(in_features=768, out_features=2, bias=True)\n",
       "  (classifir): Sequential(\n",
       "    (0): Linear(in_features=768, out_features=512, bias=True)\n",
       "    (1): ReLU()\n",
       "    (2): Dropout(p=0.3, inplace=False)\n",
       "    (3): Linear(in_features=512, out_features=2, bias=True)\n",
       "  )\n",
       ")"
      ]
     },
     "execution_count": 49,
     "metadata": {},
     "output_type": "execute_result"
    }
   ],
   "source": [
    "model.classifir = nn.Sequential(\n",
    "    nn.Linear(model.classifier.in_features, 512),\n",
    "    nn.ReLU(),\n",
    "    nn.Dropout(0.3),\n",
    "    nn.Linear(512, NUM_CLASSES)\n",
    ")\n",
    "\n",
    "model.to(device)"
   ]
  },
  {
   "cell_type": "code",
   "execution_count": 50,
   "metadata": {
    "id": "mcu_I8bbNl97"
   },
   "outputs": [],
   "source": [
    "from sklearn.model_selection import KFold\n",
    "\n",
    "# Функция для тренировки модели с использованием k-fold кросс-валидации\n",
    "def train_model_kfold(learningRate, num_epochs, n_splits=5):\n",
    "    # Установка оптимизатора с текущей скоростью обучения\n",
    "    optimizer = optim.Adam(model.parameters(), lr=learningRate)\n",
    "\n",
    "    for param in model.parameters():\n",
    "        param.requires_grad = True\n",
    "\n",
    "    # Настройка k-fold\n",
    "    kfold = KFold(n_splits=n_splits, shuffle=True)\n",
    "    fold = 0\n",
    "\n",
    "    # Цикл по фолдам\n",
    "    for train_idx, valid_idx in kfold.split(train_data):\n",
    "        fold += 1\n",
    "        print(f'Fold {fold}/{n_splits}')\n",
    "\n",
    "        # Подразделение данных для текущего фолда\n",
    "        train_subset = torch.utils.data.Subset(train_data, train_idx)\n",
    "        valid_subset = torch.utils.data.Subset(train_data, valid_idx)\n",
    "\n",
    "        # Создание даталоадеров для обучающего и валидационного подмножеств\n",
    "        dataloader_train = DataLoader(dataset=train_subset, batch_size=BATCH_SIZE, shuffle=True)\n",
    "        dataloader_valid = DataLoader(dataset=valid_subset, batch_size=BATCH_SIZE, shuffle=False)\n",
    "\n",
    "        # Цикл обучения для каждого фолда\n",
    "        for epoch in range(num_epochs):\n",
    "            model.train()\n",
    "            running_loss = 0.0\n",
    "            all_labels = []\n",
    "            all_predictions = []\n",
    "\n",
    "            for inputs, labels in tqdm(dataloader_train, desc=f'Training Epoch {epoch+1}/{num_epochs}, Fold {fold}'):\n",
    "                inputs, labels = inputs.to(device), labels.to(device)\n",
    "\n",
    "                optimizer.zero_grad()\n",
    "                outputs = model(inputs).logits  # Выходы модели\n",
    "                loss = criterion(outputs, labels)\n",
    "                loss.backward()\n",
    "                optimizer.step()\n",
    "\n",
    "                running_loss += loss.item() * inputs.size(0)\n",
    "\n",
    "                _, predicted = torch.max(outputs, 1)\n",
    "                all_labels.extend(labels.cpu().numpy())\n",
    "                all_predictions.extend(predicted.cpu().numpy())\n",
    "\n",
    "            # Средняя потеря за эпоху\n",
    "            epoch_loss = running_loss / len(dataloader_train.dataset)\n",
    "            precision = precision_score(all_labels, all_predictions, average='weighted')\n",
    "            recall = recall_score(all_labels, all_predictions, average='weighted')\n",
    "            accuracy = accuracy_score(all_labels, all_predictions)\n",
    "\n",
    "            print(f\"Fold {fold}, Epoch {epoch+1}/{num_epochs}, Training Loss: {epoch_loss:.4f}, \"\n",
    "                  f\"Recall: {recall:.4f}, Precision: {precision:.4f}, Accuracy: {accuracy:.4f}\")\n",
    "\n",
    "        # Валидация модели на текущем фолде\n",
    "        model.eval()\n",
    "        evaluate_model(dataloader_valid, phase=f'Validation Fold {fold}')\n",
    "\n",
    "    # Сохранение модели после k-fold\n",
    "    torch.save(model.state_dict(), f'model_{learningRate}_kfold.pth')\n",
    "\n",
    "# Функция для оценки модели\n",
    "def evaluate_model(dataloader, phase=\"Test\"):\n",
    "    model.eval()\n",
    "    all_labels = []\n",
    "    all_predictions = []\n",
    "\n",
    "    with torch.no_grad():\n",
    "        for inputs, labels in tqdm(dataloader, desc=f'{phase}'):\n",
    "            inputs, labels = inputs.to(device), labels.to(device)\n",
    "\n",
    "            outputs = model(inputs).logits\n",
    "            _, predicted = torch.max(outputs, 1)\n",
    "            all_labels.extend(labels.cpu().numpy())\n",
    "            all_predictions.extend(predicted.cpu().numpy())\n",
    "\n",
    "    precision = precision_score(all_labels, all_predictions, average='weighted')\n",
    "    recall = recall_score(all_labels, all_predictions, average='weighted')\n",
    "    accuracy = accuracy_score(all_labels, all_predictions)\n",
    "    print(f\"{phase} Results - Recall: {recall:.4f}, Precision: {precision:.4f}, Accuracy: {accuracy:.4f}\")\n",
    "\n",
    "\n"
   ]
  },
  {
   "cell_type": "code",
   "execution_count": 51,
   "metadata": {
    "colab": {
     "base_uri": "https://localhost:8080/"
    },
    "id": "xNK0LgrhNnWi",
    "outputId": "9e9cdc5f-0b92-4d57-a6a4-18de4133f478"
   },
   "outputs": [
    {
     "name": "stdout",
     "output_type": "stream",
     "text": [
      "Fold 1/3\n"
     ]
    },
    {
     "name": "stderr",
     "output_type": "stream",
     "text": [
      "Training Epoch 1/5, Fold 1: 100%|██████████| 46/46 [11:36<00:00, 15.13s/it]\n"
     ]
    },
    {
     "name": "stdout",
     "output_type": "stream",
     "text": [
      "Fold 1, Epoch 1/5, Training Loss: 0.3387, Recall: 0.8556, Precision: 0.8549, Accuracy: 0.8556\n"
     ]
    },
    {
     "name": "stderr",
     "output_type": "stream",
     "text": [
      "Training Epoch 2/5, Fold 1: 100%|██████████| 46/46 [11:22<00:00, 14.83s/it]\n"
     ]
    },
    {
     "name": "stdout",
     "output_type": "stream",
     "text": [
      "Fold 1, Epoch 2/5, Training Loss: 0.1082, Recall: 0.9700, Precision: 0.9701, Accuracy: 0.9700\n"
     ]
    },
    {
     "name": "stderr",
     "output_type": "stream",
     "text": [
      "Training Epoch 3/5, Fold 1: 100%|██████████| 46/46 [11:22<00:00, 14.85s/it]\n"
     ]
    },
    {
     "name": "stdout",
     "output_type": "stream",
     "text": [
      "Fold 1, Epoch 3/5, Training Loss: 0.1071, Recall: 0.9591, Precision: 0.9591, Accuracy: 0.9591\n"
     ]
    },
    {
     "name": "stderr",
     "output_type": "stream",
     "text": [
      "Training Epoch 4/5, Fold 1: 100%|██████████| 46/46 [11:23<00:00, 14.87s/it]\n"
     ]
    },
    {
     "name": "stdout",
     "output_type": "stream",
     "text": [
      "Fold 1, Epoch 4/5, Training Loss: 0.1066, Recall: 0.9673, Precision: 0.9673, Accuracy: 0.9673\n"
     ]
    },
    {
     "name": "stderr",
     "output_type": "stream",
     "text": [
      "Training Epoch 5/5, Fold 1: 100%|██████████| 46/46 [11:25<00:00, 14.90s/it]\n"
     ]
    },
    {
     "name": "stdout",
     "output_type": "stream",
     "text": [
      "Fold 1, Epoch 5/5, Training Loss: 0.0294, Recall: 0.9973, Precision: 0.9973, Accuracy: 0.9973\n"
     ]
    },
    {
     "name": "stderr",
     "output_type": "stream",
     "text": [
      "Validation Fold 1: 100%|██████████| 23/23 [01:57<00:00,  5.10s/it]\n"
     ]
    },
    {
     "name": "stdout",
     "output_type": "stream",
     "text": [
      "Validation Fold 1 Results - Recall: 0.9620, Precision: 0.9619, Accuracy: 0.9620\n",
      "Fold 2/3\n"
     ]
    },
    {
     "name": "stderr",
     "output_type": "stream",
     "text": [
      "Training Epoch 1/5, Fold 2: 100%|██████████| 46/46 [11:22<00:00, 14.84s/it]\n"
     ]
    },
    {
     "name": "stdout",
     "output_type": "stream",
     "text": [
      "Fold 2, Epoch 1/5, Training Loss: 0.0986, Recall: 0.9755, Precision: 0.9754, Accuracy: 0.9755\n"
     ]
    },
    {
     "name": "stderr",
     "output_type": "stream",
     "text": [
      "Training Epoch 2/5, Fold 2: 100%|██████████| 46/46 [11:24<00:00, 14.88s/it]\n"
     ]
    },
    {
     "name": "stdout",
     "output_type": "stream",
     "text": [
      "Fold 2, Epoch 2/5, Training Loss: 0.0429, Recall: 0.9864, Precision: 0.9864, Accuracy: 0.9864\n"
     ]
    },
    {
     "name": "stderr",
     "output_type": "stream",
     "text": [
      "Training Epoch 3/5, Fold 2: 100%|██████████| 46/46 [11:23<00:00, 14.87s/it]\n"
     ]
    },
    {
     "name": "stdout",
     "output_type": "stream",
     "text": [
      "Fold 2, Epoch 3/5, Training Loss: 0.0562, Recall: 0.9782, Precision: 0.9782, Accuracy: 0.9782\n"
     ]
    },
    {
     "name": "stderr",
     "output_type": "stream",
     "text": [
      "Training Epoch 4/5, Fold 2: 100%|██████████| 46/46 [11:27<00:00, 14.95s/it]\n"
     ]
    },
    {
     "name": "stdout",
     "output_type": "stream",
     "text": [
      "Fold 2, Epoch 4/5, Training Loss: 0.0453, Recall: 0.9891, Precision: 0.9891, Accuracy: 0.9891\n"
     ]
    },
    {
     "name": "stderr",
     "output_type": "stream",
     "text": [
      "Training Epoch 5/5, Fold 2: 100%|██████████| 46/46 [11:26<00:00, 14.92s/it]\n"
     ]
    },
    {
     "name": "stdout",
     "output_type": "stream",
     "text": [
      "Fold 2, Epoch 5/5, Training Loss: 0.0639, Recall: 0.9809, Precision: 0.9809, Accuracy: 0.9809\n"
     ]
    },
    {
     "name": "stderr",
     "output_type": "stream",
     "text": [
      "Validation Fold 2: 100%|██████████| 23/23 [01:59<00:00,  5.21s/it]\n"
     ]
    },
    {
     "name": "stdout",
     "output_type": "stream",
     "text": [
      "Validation Fold 2 Results - Recall: 0.9891, Precision: 0.9891, Accuracy: 0.9891\n",
      "Fold 3/3\n"
     ]
    },
    {
     "name": "stderr",
     "output_type": "stream",
     "text": [
      "Training Epoch 1/5, Fold 3: 100%|██████████| 46/46 [11:33<00:00, 15.08s/it]\n"
     ]
    },
    {
     "name": "stdout",
     "output_type": "stream",
     "text": [
      "Fold 3, Epoch 1/5, Training Loss: 0.0287, Recall: 0.9864, Precision: 0.9864, Accuracy: 0.9864\n"
     ]
    },
    {
     "name": "stderr",
     "output_type": "stream",
     "text": [
      "Training Epoch 2/5, Fold 3: 100%|██████████| 46/46 [11:29<00:00, 14.99s/it]\n"
     ]
    },
    {
     "name": "stdout",
     "output_type": "stream",
     "text": [
      "Fold 3, Epoch 2/5, Training Loss: 0.0907, Recall: 0.9647, Precision: 0.9647, Accuracy: 0.9647\n"
     ]
    },
    {
     "name": "stderr",
     "output_type": "stream",
     "text": [
      "Training Epoch 3/5, Fold 3: 100%|██████████| 46/46 [11:31<00:00, 15.03s/it]\n"
     ]
    },
    {
     "name": "stdout",
     "output_type": "stream",
     "text": [
      "Fold 3, Epoch 3/5, Training Loss: 0.0129, Recall: 0.9973, Precision: 0.9973, Accuracy: 0.9973\n"
     ]
    },
    {
     "name": "stderr",
     "output_type": "stream",
     "text": [
      "Training Epoch 4/5, Fold 3: 100%|██████████| 46/46 [11:28<00:00, 14.98s/it]\n"
     ]
    },
    {
     "name": "stdout",
     "output_type": "stream",
     "text": [
      "Fold 3, Epoch 4/5, Training Loss: 0.0038, Recall: 1.0000, Precision: 1.0000, Accuracy: 1.0000\n"
     ]
    },
    {
     "name": "stderr",
     "output_type": "stream",
     "text": [
      "Training Epoch 5/5, Fold 3: 100%|██████████| 46/46 [11:27<00:00, 14.95s/it]\n"
     ]
    },
    {
     "name": "stdout",
     "output_type": "stream",
     "text": [
      "Fold 3, Epoch 5/5, Training Loss: 0.0031, Recall: 1.0000, Precision: 1.0000, Accuracy: 1.0000\n"
     ]
    },
    {
     "name": "stderr",
     "output_type": "stream",
     "text": [
      "Validation Fold 3: 100%|██████████| 23/23 [01:57<00:00,  5.10s/it]\n"
     ]
    },
    {
     "name": "stdout",
     "output_type": "stream",
     "text": [
      "Validation Fold 3 Results - Recall: 1.0000, Precision: 1.0000, Accuracy: 1.0000\n"
     ]
    }
   ],
   "source": [
    "# Пример вызова функции обучения с k-fold кросс-валидацией\n",
    "train_model_kfold(learningRate=1e-4, num_epochs=5, n_splits=3)"
   ]
  },
  {
   "cell_type": "code",
   "execution_count": 52,
   "metadata": {
    "colab": {
     "base_uri": "https://localhost:8080/"
    },
    "id": "pBW0Kpkeh9bY",
    "outputId": "38a9627f-a7ce-49e2-8ff0-22038252f357"
   },
   "outputs": [
    {
     "name": "stderr",
     "output_type": "stream",
     "text": [
      "Test: 100%|██████████| 33/33 [02:50<00:00,  5.16s/it]"
     ]
    },
    {
     "name": "stdout",
     "output_type": "stream",
     "text": [
      "Test Results - Recall: 0.9886, Precision: 0.9887, Accuracy: 0.9886\n"
     ]
    },
    {
     "name": "stderr",
     "output_type": "stream",
     "text": [
      "\n"
     ]
    }
   ],
   "source": [
    "# Пример вызова функции тестирования\n",
    "evaluate_model(dataloader_test, \"Test\")"
   ]
  }
 ],
 "metadata": {
  "colab": {
   "provenance": []
  },
  "kernelspec": {
   "display_name": "Python 3",
   "name": "python3"
  },
  "language_info": {
   "name": "python"
  }
 },
 "nbformat": 4,
 "nbformat_minor": 0
}
