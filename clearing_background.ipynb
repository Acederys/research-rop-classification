{
 "cells": [
  {
   "cell_type": "code",
   "id": "initial_id",
   "metadata": {
    "collapsed": true,
    "ExecuteTime": {
     "end_time": "2024-11-07T09:11:59.903575Z",
     "start_time": "2024-11-07T09:11:59.579357Z"
    }
   },
   "source": [
    "from PIL import Image\n",
    "import numpy as np\n",
    "import cv2"
   ],
   "outputs": [],
   "execution_count": 1
  },
  {
   "metadata": {
    "ExecuteTime": {
     "end_time": "2024-11-07T09:11:59.935556Z",
     "start_time": "2024-11-07T09:11:59.910556Z"
    }
   },
   "cell_type": "code",
   "source": [
    "def clearing_background(path_to_image: str) -> (Image.Image, np.array):\n",
    "    \"\"\"\n",
    "    Функция для очистки фона у фундус снимка\n",
    "    :param path_to_image: Путь до изображения  \n",
    "    :return: (Изображение с прозрачным фоном, маска обрезки)\n",
    "    \"\"\"\n",
    "    # Первичная обработка снимка, добавляем альфа канал\n",
    "    eye = cv2.imread(path_to_image, cv2.IMREAD_UNCHANGED)\n",
    "    eye = cv2.cvtColor(eye, cv2.COLOR_BGR2BGRA)\n",
    "    # Немного затемняем и получаем чб\n",
    "    contrast_eye = cv2.convertScaleAbs(eye, alpha=0.5, beta=100)\n",
    "    gray_contranst_eye = cv2.cvtColor(contrast_eye, cv2.COLOR_BGR2GRAY)\n",
    "    \n",
    "    # Выделяем объекты с помощью THRESH_TRIANGLE\n",
    "    triangle_eye = cv2.threshold(gray_contranst_eye, 0, 255, cv2.THRESH_TRIANGLE)[1]\n",
    "    # Используем морф, чтобы почистить от шумов и сделать контуры более гладкими\n",
    "    kernel_ellipse = cv2.getStructuringElement(cv2.MORPH_ELLIPSE, (5, 5))\n",
    "    triangle_morph_eye = cv2.morphologyEx(triangle_eye, cv2.MORPH_OPEN, kernel_ellipse, iterations=5)\n",
    "    \n",
    "    # Выделяем контуры на снимке, и выбираем самый большой (по идее это глаз)\n",
    "    contours_eye = cv2.findContours(triangle_morph_eye, cv2.RETR_EXTERNAL, cv2.CHAIN_APPROX_SIMPLE)[0]\n",
    "    max_contour_eye = max(contours_eye, key=cv2.contourArea)\n",
    "    # На основе конура создаем маску \n",
    "    mask_eye = np.zeros_like(eye)\n",
    "    cv2.fillConvexPoly(mask_eye, max_contour_eye, (255, 255, 255, 255))\n",
    "    \n",
    "    clear_eye = cv2.cvtColor(cv2.bitwise_and(eye, mask_eye), cv2.COLOR_BGRA2RGBA)\n",
    "    \n",
    "    return Image.fromarray(clear_eye), mask_eye"
   ],
   "id": "8b03b2e44cd30fd7",
   "outputs": [],
   "execution_count": 2
  }
 ],
 "metadata": {
  "kernelspec": {
   "display_name": "Python 3",
   "language": "python",
   "name": "python3"
  },
  "language_info": {
   "codemirror_mode": {
    "name": "ipython",
    "version": 2
   },
   "file_extension": ".py",
   "mimetype": "text/x-python",
   "name": "python",
   "nbconvert_exporter": "python",
   "pygments_lexer": "ipython2",
   "version": "2.7.6"
  }
 },
 "nbformat": 4,
 "nbformat_minor": 5
}
